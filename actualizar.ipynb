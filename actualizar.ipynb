{
 "cells": [
  {
   "cell_type": "code",
   "execution_count": 1,
   "id": "ecee563e-6ae0-46f8-84f3-30730ddcaeaf",
   "metadata": {
    "execution": {
     "iopub.execute_input": "2022-03-14T23:10:37.316884Z",
     "iopub.status.busy": "2022-03-14T23:10:37.316355Z",
     "iopub.status.idle": "2022-03-14T23:10:38.882373Z",
     "shell.execute_reply": "2022-03-14T23:10:38.881287Z",
     "shell.execute_reply.started": "2022-03-14T23:10:37.316771Z"
    },
    "tags": []
   },
   "outputs": [],
   "source": [
    "from facebook_scraper import get_posts\n",
    "import json\n",
    "import pandas as pd\n",
    "import twitter\n",
    "import internetarchive as ia\n",
    "import requests\n",
    "import os\n",
    "import datetime as dt\n",
    "from git import Repo\n",
    "import warnings\n",
    "import locale\n",
    "locale.setlocale(locale.LC_TIME, 'es_US.UTF8');"
   ]
  },
  {
   "cell_type": "code",
   "execution_count": 2,
   "id": "ce5e35c9-4c6f-46c8-9c35-1d53bde03ba9",
   "metadata": {
    "execution": {
     "iopub.execute_input": "2022-03-14T23:10:39.469263Z",
     "iopub.status.busy": "2022-03-14T23:10:39.468351Z",
     "iopub.status.idle": "2022-03-14T23:10:39.476139Z",
     "shell.execute_reply": "2022-03-14T23:10:39.474642Z",
     "shell.execute_reply.started": "2022-03-14T23:10:39.469202Z"
    },
    "tags": []
   },
   "outputs": [],
   "source": [
    "datos_url = \"https://docs.google.com/spreadsheets/d/e/2PACX-1vSYiPWLCf9_HWB51cIryodmVlDg4RQS_AeccuJjkz9xVtDx7Y5tfk9RaF94BrVdO5vakBo5dUktZawh/pub?gid=0&single=true&output=csv\"\n",
    "metadatos_url = \"https://docs.google.com/spreadsheets/d/e/2PACX-1vSYiPWLCf9_HWB51cIryodmVlDg4RQS_AeccuJjkz9xVtDx7Y5tfk9RaF94BrVdO5vakBo5dUktZawh/pub?gid=1875795980&single=true&output=csv\"\n",
    "directory = 'reportes'\n",
    "casos_acumulados_url = 'https://raw.githubusercontent.com/sociedatos/covid19-bo-casos_por_departamento/master/confirmados_acumulados.csv'"
   ]
  },
  {
   "cell_type": "code",
   "execution_count": 3,
   "id": "927bd168-7a78-42d9-9636-9c7f2eaa5e46",
   "metadata": {
    "execution": {
     "iopub.execute_input": "2022-03-14T23:10:40.546796Z",
     "iopub.status.busy": "2022-03-14T23:10:40.546334Z",
     "iopub.status.idle": "2022-03-14T23:10:40.577295Z",
     "shell.execute_reply": "2022-03-14T23:10:40.576142Z",
     "shell.execute_reply.started": "2022-03-14T23:10:40.546745Z"
    },
    "tags": []
   },
   "outputs": [],
   "source": [
    "def load_credenciales():\n",
    "    with open('credenciales.json', 'r') as f:\n",
    "        return json.load(f)\n",
    "    \n",
    "def auth_twitter():\n",
    "    \"Autenticar en Twitter para realizar consultas al API\"\n",
    "\n",
    "    return twitter.Api(consumer_key = credenciales['twitter']['consumer_key'],\n",
    "                       consumer_secret = credenciales['twitter']['consumer_secret'],\n",
    "                       access_token_key = credenciales['twitter']['access_token_key'],\n",
    "                       access_token_secret = credenciales['twitter']['access_token_secret'],\n",
    "                       tweet_mode='extended')\n",
    "\n",
    "def read_metadata():\n",
    "    \"Descarga los metadatos de google sheets, filtra sólo aquellos con una fuente y crea una columna de status_id\"\n",
    "\n",
    "    meta = pd.read_csv(metadatos_url, parse_dates=['fecha'], index_col=['fecha'])\n",
    "    meta = meta.dropna(subset=['La Paz', 'Cochabamba', 'Oruro'])\n",
    "    return meta\n",
    "\n",
    "def filtrar_nuevos(meta):\n",
    "    \"Devuelve sólo las entradas que no hayan sido descargadas previamente.\"\n",
    "\n",
    "    viejos = [dt.datetime.strptime(filename.split('.')[0].split('_')[-1], '%Y%m%d') for filename in os.listdir(directory)]\n",
    "    return meta[~meta.index.isin(viejos)]\n",
    "\n",
    "def create_identifier(dep, fecha):\n",
    "    return 'reportesdepartamentalescovid19bolivia_{}_{}'.format(dep.lower().replace(' ', '_'), fecha.strftime('%Y%m%d'))\n",
    "\n",
    "def save_image(url, filename):\n",
    "    with open(filename, 'wb') as f:\n",
    "        f.write(requests.get(url).content)\n",
    "\n",
    "def parse_facebook(url, dep, fecha):\n",
    "    with warnings.catch_warnings():\n",
    "        warnings.simplefilter(\"ignore\")\n",
    "        post = [post for post in get_posts(post_urls=[url], cookies='cookies.json')][0]\n",
    "    content_type = requests.head(post['images'][0]).headers.get('content-type')\n",
    "    is_image = 'image' in content_type\n",
    "    post_meta = {\n",
    "        \"source\": post['post_url'],\n",
    "        \"creator\": post['username'],\n",
    "        \"description\": post['text'],\n",
    "    }\n",
    "    identifier = create_identifier(dep, fecha)\n",
    "    filename = '{}/{}.jpeg'.format(directory, identifier)\n",
    "    if is_image:\n",
    "        save_image(post['images'][0], filename)\n",
    "    return is_image, post_meta, identifier, filename\n",
    "\n",
    "def parse_twitter(url, dep, fecha):\n",
    "    tweet_id = url.split('/')[-1]\n",
    "    statuses = tw.GetStatuses([tweet_id])\n",
    "    status = statuses[0]._json\n",
    "    post_meta = {\n",
    "        \"source\": url,\n",
    "        \"creator\": status['user']['name'],\n",
    "        \"description\": status['full_text']\n",
    "    }\n",
    "    identifier = create_identifier(dep, fecha)\n",
    "    media = status['entities']['media'][0]['media_url']\n",
    "    filename = '{}/{}.{}'.format(directory, identifier, media.split('.')[-1])\n",
    "    save_image(media, filename)\n",
    "    return True, post_meta, identifier, filename\n",
    "\n",
    "def upload_archive(dep, fecha, post_meta, identifier, filename):\n",
    "\n",
    "    ia_meta = {'title': 'Reporte de Covid-19 en {}, Bolivia para el {}'.format(dep, fecha.strftime('%-d de %B, %Y')),\n",
    "               'description': post_meta['description'],\n",
    "               'source': post_meta['source'],\n",
    "               'collection': 'covid19-bolivia-departamentos',\n",
    "               'creator': post_meta['creator'],\n",
    "               'mediatype': 'image',\n",
    "               'date': fecha.strftime('%Y-%m-%d')}\n",
    "\n",
    "    ia.upload(identifier,\n",
    "              filename,\n",
    "              metadata=ia_meta,\n",
    "              access_key = credenciales[\"ia\"][\"access\"],\n",
    "              secret_key = credenciales[\"ia\"][\"secret\"],\n",
    "              retries=4\n",
    "             )\n",
    "    print('https://archive.org/details/{} : {}'.format(identifier, post_meta['source']))\n",
    "\n",
    "def archivar(meta):\n",
    "    for fecha, row in meta.iterrows():\n",
    "        valores = row.to_dict()\n",
    "        for dep in valores.keys():\n",
    "            if type(valores[dep]) == str:\n",
    "                url = valores[dep]\n",
    "                if 'facebook.com' in url:\n",
    "                    is_image, post_meta, identifier, filename = parse_facebook(url, dep, fecha)\n",
    "                if 'twitter.com' in url:\n",
    "                    is_image, post_meta, identifier, filename = parse_twitter(url, dep, fecha)\n",
    "                if is_image:\n",
    "                    upload_archive(dep, fecha, post_meta, identifier, filename)"
   ]
  },
  {
   "cell_type": "code",
   "execution_count": 4,
   "id": "7339b0e5-d110-4f11-b1d5-2c8d5872142e",
   "metadata": {
    "execution": {
     "iopub.execute_input": "2022-03-14T23:10:42.470033Z",
     "iopub.status.busy": "2022-03-14T23:10:42.469428Z",
     "iopub.status.idle": "2022-03-14T23:30:41.497319Z",
     "shell.execute_reply": "2022-03-14T23:30:41.495377Z",
     "shell.execute_reply.started": "2022-03-14T23:10:42.469997Z"
    },
    "tags": []
   },
   "outputs": [
    {
     "name": "stdout",
     "output_type": "stream",
     "text": [
      "https://archive.org/details/reportesdepartamentalescovid19bolivia_la_paz_20220308 : https://facebook.com/story.php?story_fbid=5119512834736374&id=1140266705994360\n",
      "https://archive.org/details/reportesdepartamentalescovid19bolivia_cochabamba_20220308 : https://facebook.com/story.php?story_fbid=4916275321800497&id=957131637714905\n",
      "https://archive.org/details/reportesdepartamentalescovid19bolivia_oruro_20220308 : https://facebook.com/story.php?story_fbid=329433812545616&id=100064370004661\n",
      "https://archive.org/details/reportesdepartamentalescovid19bolivia_potosi_20220308 : https://facebook.com/story.php?story_fbid=506013327651870&id=110681273851746\n",
      "https://archive.org/details/reportesdepartamentalescovid19bolivia_tarija_20220308 : https://facebook.com/story.php?story_fbid=1024741511487859&id=396941987601151\n",
      "https://archive.org/details/reportesdepartamentalescovid19bolivia_chuquisaca_20220308 : https://facebook.com/story.php?story_fbid=799704058099682&id=108534767216618\n",
      "https://archive.org/details/reportesdepartamentalescovid19bolivia_beni_20220308 : https://facebook.com/story.php?story_fbid=1915280058679767&id=517750071766113\n",
      "https://archive.org/details/reportesdepartamentalescovid19bolivia_pando_20220308 : https://facebook.com/story.php?story_fbid=1692072291140199&id=132468257100618\n",
      "https://archive.org/details/reportesdepartamentalescovid19bolivia_bolivia_20220308 : https://twitter.com/ahora_elpueblo/status/1501365731551854595\n",
      "https://archive.org/details/reportesdepartamentalescovid19bolivia_la_paz_20220309 : https://facebook.com/story.php?story_fbid=5123530021001322&id=1140266705994360\n",
      "https://archive.org/details/reportesdepartamentalescovid19bolivia_cochabamba_20220309 : https://twitter.com/LosTiemposBol/status/1501723738873769984\n",
      "https://archive.org/details/reportesdepartamentalescovid19bolivia_oruro_20220309 : https://facebook.com/story.php?story_fbid=330033379152326&id=100064370004661\n",
      "https://archive.org/details/reportesdepartamentalescovid19bolivia_potosi_20220309 : https://facebook.com/story.php?story_fbid=506574694262400&id=110681273851746\n",
      "https://archive.org/details/reportesdepartamentalescovid19bolivia_tarija_20220309 : https://facebook.com/story.php?story_fbid=1026640504631293&id=396941987601151\n",
      "https://archive.org/details/reportesdepartamentalescovid19bolivia_chuquisaca_20220309 : https://facebook.com/story.php?story_fbid=800437648026323&id=108534767216618\n",
      "https://archive.org/details/reportesdepartamentalescovid19bolivia_beni_20220309 : https://facebook.com/story.php?story_fbid=1915992235275216&id=517750071766113\n",
      "https://archive.org/details/reportesdepartamentalescovid19bolivia_pando_20220309 : https://facebook.com/story.php?story_fbid=1692761127737982&id=132468257100618\n",
      "https://archive.org/details/reportesdepartamentalescovid19bolivia_bolivia_20220309 : https://twitter.com/ahora_elpueblo/status/1501735719395643394\n",
      "https://archive.org/details/reportesdepartamentalescovid19bolivia_la_paz_20220310 : https://facebook.com/story.php?story_fbid=5126277480726576&id=1140266705994360\n",
      "https://archive.org/details/reportesdepartamentalescovid19bolivia_cochabamba_20220310 : https://facebook.com/story.php?story_fbid=4921649917929704&id=957131637714905\n",
      "https://archive.org/details/reportesdepartamentalescovid19bolivia_oruro_20220310 : https://facebook.com/story.php?story_fbid=330647562424241&id=100064370004661\n",
      "https://archive.org/details/reportesdepartamentalescovid19bolivia_potosi_20220310 : https://facebook.com/story.php?story_fbid=507145034205366&id=110681273851746\n",
      "https://archive.org/details/reportesdepartamentalescovid19bolivia_tarija_20220310 : https://facebook.com/story.php?story_fbid=1026056658023011&id=396941987601151\n",
      "https://archive.org/details/reportesdepartamentalescovid19bolivia_chuquisaca_20220310 : https://facebook.com/story.php?story_fbid=801130204623734&id=108534767216618\n",
      "https://archive.org/details/reportesdepartamentalescovid19bolivia_beni_20220310 : https://facebook.com/story.php?story_fbid=1916777421863364&id=517750071766113\n",
      "https://archive.org/details/reportesdepartamentalescovid19bolivia_pando_20220310 : https://facebook.com/story.php?story_fbid=1693435184337243&id=132468257100618\n",
      "https://archive.org/details/reportesdepartamentalescovid19bolivia_bolivia_20220310 : https://twitter.com/ahora_elpueblo/status/1502094334153400336\n",
      "https://archive.org/details/reportesdepartamentalescovid19bolivia_la_paz_20220311 : https://facebook.com/story.php?story_fbid=5134195713268086&id=1140266705994360\n",
      "https://archive.org/details/reportesdepartamentalescovid19bolivia_cochabamba_20220311 : https://facebook.com/story.php?story_fbid=4924405574320805&id=957131637714905\n",
      "https://archive.org/details/reportesdepartamentalescovid19bolivia_oruro_20220311 : https://facebook.com/story.php?story_fbid=331292499026414&id=100064370004661\n",
      "https://archive.org/details/reportesdepartamentalescovid19bolivia_potosi_20220311 : https://facebook.com/story.php?story_fbid=508347907418412&id=110681273851746\n",
      "https://archive.org/details/reportesdepartamentalescovid19bolivia_tarija_20220311 : https://facebook.com/story.php?story_fbid=1026640504631293&id=396941987601151\n",
      "https://archive.org/details/reportesdepartamentalescovid19bolivia_chuquisaca_20220311 : https://facebook.com/story.php?story_fbid=801798864556868&id=108534767216618\n",
      "https://archive.org/details/reportesdepartamentalescovid19bolivia_beni_20220311 : https://facebook.com/story.php?story_fbid=1917435945130845&id=517750071766113\n",
      "https://archive.org/details/reportesdepartamentalescovid19bolivia_pando_20220311 : https://facebook.com/story.php?story_fbid=1694099230937505&id=132468257100618\n",
      "https://archive.org/details/reportesdepartamentalescovid19bolivia_bolivia_20220311 : https://twitter.com/ahora_elpueblo/status/1502449837328936964\n",
      "https://archive.org/details/reportesdepartamentalescovid19bolivia_la_paz_20220312 : https://facebook.com/story.php?story_fbid=5134319563255701&id=1140266705994360\n",
      "https://archive.org/details/reportesdepartamentalescovid19bolivia_cochabamba_20220312 : https://facebook.com/story.php?story_fbid=4927092640718765&id=957131637714905\n",
      "https://archive.org/details/reportesdepartamentalescovid19bolivia_oruro_20220312 : https://facebook.com/story.php?story_fbid=331879712301026&id=100064370004661\n",
      "https://archive.org/details/reportesdepartamentalescovid19bolivia_potosi_20220312 : https://facebook.com/story.php?story_fbid=508348117418391&id=110681273851746\n",
      "https://archive.org/details/reportesdepartamentalescovid19bolivia_tarija_20220312 : https://facebook.com/story.php?story_fbid=1027506221211388&id=396941987601151\n",
      "https://archive.org/details/reportesdepartamentalescovid19bolivia_chuquisaca_20220312 : https://facebook.com/story.php?story_fbid=802483047821783&id=108534767216618\n",
      "https://archive.org/details/reportesdepartamentalescovid19bolivia_beni_20220312 : https://facebook.com/story.php?story_fbid=1918211745053265&id=517750071766113\n",
      "https://archive.org/details/reportesdepartamentalescovid19bolivia_pando_20220312 : https://facebook.com/story.php?story_fbid=1694782074202554&id=132468257100618\n",
      "https://archive.org/details/reportesdepartamentalescovid19bolivia_bolivia_20220312 : https://twitter.com/ahora_elpueblo/status/1502834066693013508\n",
      "https://archive.org/details/reportesdepartamentalescovid19bolivia_la_paz_20220313 : https://facebook.com/story.php?story_fbid=5134211209933203&id=1140266705994360\n",
      "https://archive.org/details/reportesdepartamentalescovid19bolivia_cochabamba_20220313 : https://twitter.com/LosTiemposBol/status/1503162003224989704\n",
      "https://archive.org/details/reportesdepartamentalescovid19bolivia_oruro_20220313 : https://facebook.com/story.php?story_fbid=332545768901087&id=100064370004661\n",
      "https://archive.org/details/reportesdepartamentalescovid19bolivia_potosi_20220313 : https://facebook.com/story.php?story_fbid=509010980685438&id=110681273851746\n",
      "https://archive.org/details/reportesdepartamentalescovid19bolivia_tarija_20220313 : https://facebook.com/story.php?story_fbid=1028110131150997&id=396941987601151\n",
      "https://archive.org/details/reportesdepartamentalescovid19bolivia_chuquisaca_20220313 : https://facebook.com/story.php?story_fbid=803137597756328&id=108534767216618\n",
      "https://archive.org/details/reportesdepartamentalescovid19bolivia_beni_20220313 : https://facebook.com/story.php?story_fbid=1918890794985360&id=517750071766113\n",
      "https://archive.org/details/reportesdepartamentalescovid19bolivia_pando_20220313 : https://facebook.com/story.php?story_fbid=1695516244129137&id=132468257100618\n",
      "https://archive.org/details/reportesdepartamentalescovid19bolivia_bolivia_20220313 : https://twitter.com/noticiasfides/status/1503209679224074240\n"
     ]
    }
   ],
   "source": [
    "credenciales = load_credenciales()\n",
    "tw = auth_twitter()\n",
    "meta = filtrar_nuevos(read_metadata())\n",
    "archivar(meta)"
   ]
  },
  {
   "cell_type": "code",
   "execution_count": null,
   "id": "dcebe9a5-7fbd-4c27-80fd-bf783f6d8664",
   "metadata": {},
   "outputs": [],
   "source": [
    "positividad.div()"
   ]
  },
  {
   "cell_type": "code",
   "execution_count": 5,
   "id": "019b534b-0fc0-4eee-b6c2-49114b0622f0",
   "metadata": {
    "execution": {
     "iopub.execute_input": "2022-03-14T23:38:05.474021Z",
     "iopub.status.busy": "2022-03-14T23:38:05.473451Z",
     "iopub.status.idle": "2022-03-14T23:38:05.506928Z",
     "shell.execute_reply": "2022-03-14T23:38:05.505464Z",
     "shell.execute_reply.started": "2022-03-14T23:38:05.473970Z"
    },
    "tags": []
   },
   "outputs": [],
   "source": [
    "def consolidar():\n",
    "    \"\"\"\n",
    "    Sincroniza sheets\n",
    "    \"\"\"\n",
    "    \n",
    "    def download_sheet(url, filename):\n",
    "        datos = requests.get(url).text\n",
    "        datos = datos.replace('\\r','')\n",
    "        with open(filename, 'w+') as f:\n",
    "            f.write(datos)\n",
    "            \n",
    "    for url, filename in zip([metadatos_url, datos_url], ['metadata.csv', 'descartados.csv']):\n",
    "        download_sheet(url, filename)\n",
    "\n",
    "def format_descartados(dep_cols):\n",
    "    \n",
    "    start = '2022-01-21'\n",
    "    descartados = pd.read_csv('descartados.csv', parse_dates=['Fecha'], index_col=['Fecha'])\n",
    "\n",
    "    # Llenar el departamento faltante (usualmente Santa Cruz)\n",
    "    for fecha, row in descartados.loc[start:].iterrows():\n",
    "        if row[dep_cols].isna().sum() == 1:\n",
    "            missing = row[\"Bolivia\"] - row[dep_cols].sum()\n",
    "            if missing > 0:\n",
    "                row.loc[row[row.isna()].index] = missing\n",
    "    \n",
    "    # Descartar datos cuando el valor de descartados diarios es menor a 0\n",
    "    for dep in dep_cols:\n",
    "        descartados[dep].loc[descartados[dep].diff() < 0] = None\n",
    "    \n",
    "    return descartados\n",
    "\n",
    "# def format_pruebas(casos, descartados, dep_cols):\n",
    "    # pruebas = (casos[dep_cols] + descartados[dep_cols].interpolate()).dropna()\n",
    "    # empty = pd.DataFrame(index=pd.date_range(pruebas.index.min(), pruebas.index.max()), columns=dep_cols)\n",
    "    # pruebas = pd.concat([pruebas, empty])\n",
    "    # pruebas = pruebas[~pruebas.index.duplicated()].sort_index()\n",
    "    # pruebas = pruebas.astype(float).interpolate().diff().dropna().astype(int)\n",
    "    # return pruebas\n",
    "\n",
    "def format_results():\n",
    "    dep_cols = ['La Paz', 'Cochabamba', 'Santa Cruz', 'Oruro', 'Potosi', 'Tarija', 'Chuquisaca', 'Beni', 'Pando']\n",
    "    descartados = format_descartados(dep_cols)\n",
    "    casos = pd.read_csv(casos_acumulados_url, parse_dates=[0], index_col=0)\n",
    "    casos = casos.rename(columns={'Potosí':'Potosi'})\n",
    "    common_index = casos.index.intersection(descartados.index)\n",
    "    # pruebas = format_pruebas(casos, descartados, dep_cols)\n",
    "    pruebas = (casos.loc[common_index][dep_cols] + descartados.loc[common_index][dep_cols]).diff()\n",
    "    # positividad = (casos.diff().dropna() / pruebas).dropna()\n",
    "    positividad = casos.loc[common_index][dep_cols].diff() / pruebas.loc[common_index][dep_cols]\n",
    "    return descartados, pruebas, positividad\n",
    "\n",
    "def save_results(descartados, pruebas, positividad):\n",
    "    descartados.to_csv('descartados.csv', float_format=\"%.0f\")\n",
    "    pruebas.to_csv('pruebas.csv', float_format=\"%.0f\")\n",
    "    positividad.to_csv('positividad.csv', float_format=\"%.3f\")"
   ]
  },
  {
   "cell_type": "code",
   "execution_count": 6,
   "id": "a4a89bbc-a21e-4d98-b820-f28666f83156",
   "metadata": {
    "execution": {
     "iopub.execute_input": "2022-03-14T23:38:06.859310Z",
     "iopub.status.busy": "2022-03-14T23:38:06.858158Z",
     "iopub.status.idle": "2022-03-14T23:38:11.145115Z",
     "shell.execute_reply": "2022-03-14T23:38:11.144346Z",
     "shell.execute_reply.started": "2022-03-14T23:38:06.859240Z"
    },
    "tags": []
   },
   "outputs": [],
   "source": [
    "consolidar()\n",
    "descartados, pruebas, positividad = format_results()\n",
    "save_results(descartados, pruebas, positividad)"
   ]
  },
  {
   "cell_type": "code",
   "execution_count": 117,
   "id": "45fe6a5c-4fda-424a-9dc4-e222ee3ebc09",
   "metadata": {
    "execution": {
     "iopub.execute_input": "2022-03-03T01:49:09.224359Z",
     "iopub.status.busy": "2022-03-03T01:49:09.223969Z",
     "iopub.status.idle": "2022-03-03T01:49:09.232506Z",
     "shell.execute_reply": "2022-03-03T01:49:09.231594Z",
     "shell.execute_reply.started": "2022-03-03T01:49:09.224319Z"
    },
    "tags": []
   },
   "outputs": [],
   "source": [
    "def myplot(serie):\n",
    "    f, ax = plt.subplots(1,1,figsize=(10,6))\n",
    "    ax.scatter(serie.index, serie, s=4, alpha=.5)\n",
    "    ax.plot(serie.rolling(3, center=True).mean(), alpha=.7)\n",
    "    ax.grid()"
   ]
  },
  {
   "cell_type": "code",
   "execution_count": 9,
   "id": "4da4fcc2-b5a9-4a6f-a61b-d9ff5adc2cd6",
   "metadata": {
    "execution": {
     "iopub.execute_input": "2022-02-25T16:02:59.523510Z",
     "iopub.status.busy": "2022-02-25T16:02:59.522679Z",
     "iopub.status.idle": "2022-02-25T16:02:59.530627Z",
     "shell.execute_reply": "2022-02-25T16:02:59.529464Z",
     "shell.execute_reply.started": "2022-02-25T16:02:59.523450Z"
    },
    "tags": []
   },
   "outputs": [],
   "source": [
    "def update():\n",
    "    \"\"\"\n",
    "    Actualiza el repositorio\n",
    "    \"\"\"\n",
    "    \n",
    "    last_update = pd.read_csv('metadata.csv', parse_dates=['fecha']).fecha.max()\n",
    "    repository = Repo('.')\n",
    "    repository.git.add(all=True)\n",
    "    repository.index.commit(last_update.strftime('%Y-%m-%d'))\n",
    "    repository.remotes.origin.push()"
   ]
  },
  {
   "cell_type": "code",
   "execution_count": 193,
   "id": "f7d83587-5f47-4131-afd1-e771fbbbce11",
   "metadata": {
    "execution": {
     "iopub.execute_input": "2022-03-08T22:12:51.383784Z",
     "iopub.status.busy": "2022-03-08T22:12:51.382988Z",
     "iopub.status.idle": "2022-03-08T22:13:12.751520Z",
     "shell.execute_reply": "2022-03-08T22:13:12.749713Z",
     "shell.execute_reply.started": "2022-03-08T22:12:51.383717Z"
    },
    "tags": []
   },
   "outputs": [],
   "source": [
    "update()"
   ]
  }
 ],
 "metadata": {
  "citation-manager": {
   "items": {}
  },
  "kernelspec": {
   "display_name": "Python 3 (ipykernel)",
   "language": "python",
   "name": "python3"
  },
  "language_info": {
   "codemirror_mode": {
    "name": "ipython",
    "version": 3
   },
   "file_extension": ".py",
   "mimetype": "text/x-python",
   "name": "python",
   "nbconvert_exporter": "python",
   "pygments_lexer": "ipython3",
   "version": "3.9.10"
  },
  "widgets": {
   "application/vnd.jupyter.widget-state+json": {
    "state": {},
    "version_major": 2,
    "version_minor": 0
   }
  }
 },
 "nbformat": 4,
 "nbformat_minor": 5
}
