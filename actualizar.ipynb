{
 "cells": [
  {
   "cell_type": "code",
   "execution_count": 1,
   "id": "ecee563e-6ae0-46f8-84f3-30730ddcaeaf",
   "metadata": {
    "execution": {
     "iopub.execute_input": "2022-07-12T03:56:06.999958Z",
     "iopub.status.busy": "2022-07-12T03:56:06.999481Z",
     "iopub.status.idle": "2022-07-12T03:56:08.497511Z",
     "shell.execute_reply": "2022-07-12T03:56:08.496715Z",
     "shell.execute_reply.started": "2022-07-12T03:56:06.999873Z"
    },
    "tags": []
   },
   "outputs": [],
   "source": [
    "from facebook_scraper import get_posts\n",
    "import json\n",
    "import pandas as pd\n",
    "import twitter\n",
    "import internetarchive as ia\n",
    "import requests\n",
    "import os\n",
    "import datetime as dt\n",
    "from git import Repo\n",
    "import warnings\n",
    "from bs4 import BeautifulSoup\n",
    "import locale\n",
    "locale.setlocale(locale.LC_TIME, 'es_US.UTF8');"
   ]
  },
  {
   "cell_type": "code",
   "execution_count": 2,
   "id": "ce5e35c9-4c6f-46c8-9c35-1d53bde03ba9",
   "metadata": {
    "execution": {
     "iopub.execute_input": "2022-07-12T03:56:09.234508Z",
     "iopub.status.busy": "2022-07-12T03:56:09.234237Z",
     "iopub.status.idle": "2022-07-12T03:56:09.239795Z",
     "shell.execute_reply": "2022-07-12T03:56:09.238356Z",
     "shell.execute_reply.started": "2022-07-12T03:56:09.234474Z"
    },
    "tags": []
   },
   "outputs": [],
   "source": [
    "datos_url = \"https://docs.google.com/spreadsheets/d/e/2PACX-1vSYiPWLCf9_HWB51cIryodmVlDg4RQS_AeccuJjkz9xVtDx7Y5tfk9RaF94BrVdO5vakBo5dUktZawh/pub?gid=0&single=true&output=csv\"\n",
    "metadatos_url = \"https://docs.google.com/spreadsheets/d/e/2PACX-1vSYiPWLCf9_HWB51cIryodmVlDg4RQS_AeccuJjkz9xVtDx7Y5tfk9RaF94BrVdO5vakBo5dUktZawh/pub?gid=1875795980&single=true&output=csv\"\n",
    "directory = 'reportes'\n",
    "casos_diarios_url = 'https://raw.githubusercontent.com/sociedatos/covid19-bo-casos_por_departamento/master/confirmados_diarios.csv'"
   ]
  },
  {
   "cell_type": "code",
   "execution_count": 3,
   "id": "927bd168-7a78-42d9-9636-9c7f2eaa5e46",
   "metadata": {
    "execution": {
     "iopub.execute_input": "2022-07-12T03:56:09.932319Z",
     "iopub.status.busy": "2022-07-12T03:56:09.931640Z",
     "iopub.status.idle": "2022-07-12T03:56:09.970321Z",
     "shell.execute_reply": "2022-07-12T03:56:09.969083Z",
     "shell.execute_reply.started": "2022-07-12T03:56:09.932275Z"
    },
    "tags": []
   },
   "outputs": [],
   "source": [
    "def load_credenciales():\n",
    "    with open('credenciales.json', 'r') as f:\n",
    "        return json.load(f)\n",
    "    \n",
    "def auth_twitter():\n",
    "    \"Autenticar en Twitter para realizar consultas al API\"\n",
    "\n",
    "    return twitter.Api(consumer_key = credenciales['twitter']['consumer_key'],\n",
    "                       consumer_secret = credenciales['twitter']['consumer_secret'],\n",
    "                       access_token_key = credenciales['twitter']['access_token_key'],\n",
    "                       access_token_secret = credenciales['twitter']['access_token_secret'],\n",
    "                       tweet_mode='extended')\n",
    "\n",
    "def reportes_por_archivar():\n",
    "    sheet = pd.read_csv(metadatos_url, parse_dates=['fecha'], index_col=['fecha'])\n",
    "    tabla = pd.DataFrame([{'filename': '{}_{}'.format(i[1].lower().replace(' ', '_'), i[0].strftime('%Y%m%d')), 'url': row, 'dep': i[1], 'fecha': i[0]} for i, row in sheet.stack().iteritems()])\n",
    "    archivados = [filename.split('.')[0].replace('reportesdepartamentalescovid19bolivia_', '') for filename in os.listdir(directory)]\n",
    "    nuevos = pd.DataFrame([{'url': row['url'], 'dep': row['dep'], 'fecha': row['fecha']} for i, row in tabla.iterrows() if row['filename'] not in archivados])\n",
    "    return nuevos\n",
    "\n",
    "def create_identifier(dep, fecha):\n",
    "    return 'reportesdepartamentalescovid19bolivia_{}_{}'.format(dep.lower().replace(' ', '_'), fecha.strftime('%Y%m%d'))\n",
    "\n",
    "def save_image(url, filename):\n",
    "    with open(filename, 'wb') as f:\n",
    "        f.write(requests.get(url).content)\n",
    "\n",
    "def parse_facebook(url, dep, fecha):\n",
    "    with warnings.catch_warnings():\n",
    "        warnings.simplefilter(\"ignore\")\n",
    "        post = [post for post in get_posts(post_urls=[url], cookies='cookies.json')][0]\n",
    "    content_type = requests.head(post['images'][0]).headers.get('content-type')\n",
    "    is_image = 'image' in content_type\n",
    "    post_meta = {\n",
    "        \"source\": post['post_url'],\n",
    "        \"creator\": post['username'],\n",
    "        \"description\": post['text'],\n",
    "    }\n",
    "    identifier = create_identifier(dep, fecha)\n",
    "    filename = '{}/{}.jpeg'.format(directory, identifier)\n",
    "    if is_image:\n",
    "        save_image(post['images'][0], filename)\n",
    "    return is_image, post_meta, identifier, filename\n",
    "\n",
    "def parse_twitter(url, dep, fecha):\n",
    "    tweet_id = url.split('/')[-1]\n",
    "    statuses = tw.GetStatuses([tweet_id])\n",
    "    status = statuses[0]._json\n",
    "    post_meta = {\n",
    "        \"source\": url,\n",
    "        \"creator\": status['user']['name'],\n",
    "        \"description\": status['full_text']\n",
    "    }\n",
    "    identifier = create_identifier(dep, fecha)\n",
    "    media = status['entities']['media'][0]['media_url']\n",
    "    filename = '{}/{}.{}'.format(directory, identifier, media.split('.')[-1])\n",
    "    save_image(media, filename)\n",
    "    return True, post_meta, identifier, filename\n",
    "\n",
    "def upload_archive(dep, fecha, post_meta, identifier, filename):\n",
    "\n",
    "    ia_meta = {'title': 'Reporte de Covid-19 en {}, Bolivia para el {}'.format(dep, fecha.strftime('%-d de %B, %Y')),\n",
    "               'description': post_meta['description'],\n",
    "               'source': post_meta['source'],\n",
    "               'collection': 'covid19-bolivia-departamentos',\n",
    "               'creator': post_meta['creator'],\n",
    "               'mediatype': 'image',\n",
    "               'date': fecha.strftime('%Y-%m-%d')}\n",
    "\n",
    "    ia.upload(identifier,\n",
    "              filename,\n",
    "              metadata=ia_meta,\n",
    "              access_key = credenciales[\"ia\"][\"access\"],\n",
    "              secret_key = credenciales[\"ia\"][\"secret\"],\n",
    "              retries=4\n",
    "             )\n",
    "    print('https://archive.org/details/{} : {}'.format(identifier, post_meta['source']))\n",
    "\n",
    "def parse_unidoscontraelcovid(url, dep, fecha):\n",
    "    \n",
    "    identifier = create_identifier(dep, fecha)\n",
    "    post_meta = {\n",
    "        \"source\": url,\n",
    "        \"creator\": 'Unidos Contra el Covid',\n",
    "        \"description\": 'Reporte de Covid-19 en Bolivia para el {}'.format(fecha.strftime('%-d de %B, %Y')),\n",
    "    }\n",
    "    html = BeautifulSoup(requests.get(url).text, 'html.parser')\n",
    "    media = html.select('.post img')[0]['src']\n",
    "    filename = '{}/{}.{}'.format(directory, identifier, media.split('.')[-1])\n",
    "    save_image(media, filename)\n",
    "\n",
    "    return True, post_meta, identifier, filename\n",
    "    \n",
    "def archivar(enlaces):\n",
    "    for i, row in enlaces.iterrows():\n",
    "        try:\n",
    "            print('{} - {} - {}'.format(row['dep'], row['fecha'].strftime('%Y-%m-%d'), row['url']))\n",
    "            if 'facebook.com' in row['url']:\n",
    "                is_image, post_meta, identifier, filename = parse_facebook(row['url'], row['dep'], row['fecha'])\n",
    "            if 'twitter.com' in row['url']:\n",
    "                is_image, post_meta, identifier, filename = parse_twitter(row['url'], row['dep'], row['fecha'])\n",
    "            if 'unidoscontraelcovid.gob.bo' in row['url']:\n",
    "                is_image, post_meta, identifier, filename = parse_unidoscontraelcovid(row['url'], row['dep'], row['fecha'])\n",
    "                \n",
    "            if is_image:\n",
    "                upload_archive(row['dep'], row['fecha'], post_meta, identifier, filename)\n",
    "        except Exception as e:\n",
    "            print(e)"
   ]
  },
  {
   "cell_type": "code",
   "execution_count": 4,
   "id": "7339b0e5-d110-4f11-b1d5-2c8d5872142e",
   "metadata": {
    "execution": {
     "iopub.execute_input": "2022-07-12T03:56:11.080069Z",
     "iopub.status.busy": "2022-07-12T03:56:11.079627Z",
     "iopub.status.idle": "2022-07-12T04:02:20.954408Z",
     "shell.execute_reply": "2022-07-12T04:02:20.952167Z",
     "shell.execute_reply.started": "2022-07-12T03:56:11.080018Z"
    },
    "tags": []
   },
   "outputs": [
    {
     "name": "stdout",
     "output_type": "stream",
     "text": [
      "Beni - 2022-02-27 - https://www.facebook.com/SedesBeni2021/posts/1908896469318126\n",
      "Content Not Found\n",
      "Beni - 2022-03-31 - https://www.facebook.com/SedesBeni2021/posts/1931815503692889\n",
      "Content Not Found\n",
      "Chuquisaca - 2022-04-08 - https://www.facebook.com/SEDESCh/posts/82129532260722\n",
      "500 Server Error: Internal Server Error for url: https://m.facebook.com/SEDESCh/posts/82129532260722?locale=en_US\n",
      "Pando - 2022-04-08 - https://www.facebook.com/SaludDePando/posts/17139572156183733\n",
      "Content Not Found\n",
      "Potosi - 2022-06-28 - https://www.facebook.com/permalink.php?story_fbid=pfbid0QBgXxrJdKhL4DA85wBwL1goSekq1SVo8hj2uXALLgbqP6G52ZEDDJYMGgH5RAqKZl&id=110681273851746\n",
      "https://archive.org/details/reportesdepartamentalescovid19bolivia_potosi_20220628 : https://facebook.com/story.php?story_fbid=pfbid02U38F9XETBFXs2AP6wQMV1KYcjtL4YxeVXSZP8Ze6Xz2Npaw13Duamk5cS8m1y7tMl&id=110681273851746\n",
      "La Paz - 2022-07-10 - https://www.facebook.com/Sedeslp/posts/pfbid0FJKXwhMGBkZqGf9pRFGK9xeT1o3ZieG8ZxVRMPRqxHAkNu3AXtKSneisXg3QTexwl\n",
      "https://archive.org/details/reportesdepartamentalescovid19bolivia_la_paz_20220710 : https://facebook.com/story.php?story_fbid=pfbid0FJKXwhMGBkZqGf9pRFGK9xeT1o3ZieG8ZxVRMPRqxHAkNu3AXtKSneisXg3QTexwl&id=1140266705994360\n",
      "Cochabamba - 2022-07-10 - https://www.facebook.com/sedescochabamba/posts/pfbid02rQm3dcza4a2FXjmb6rRgVvouKAz8p27RyJbvHLoUNxBjffjaseNnWHnSgKpD6ox2l\n",
      "https://archive.org/details/reportesdepartamentalescovid19bolivia_cochabamba_20220710 : https://facebook.com/story.php?story_fbid=pfbid02rQm3dcza4a2FXjmb6rRgVvouKAz8p27RyJbvHLoUNxBjffjaseNnWHnSgKpD6ox2l&id=957131637714905\n",
      "Oruro - 2022-07-10 - https://www.facebook.com/SEDESOR/posts/pfbid02r6QuKaCS6YNhMm1qEiP2tySypRHaxix6tMRYriLPz2chYSWDDkH33q57UfET1Jo4l\n",
      "https://archive.org/details/reportesdepartamentalescovid19bolivia_oruro_20220710 : https://facebook.com/story.php?story_fbid=pfbid02r6QuKaCS6YNhMm1qEiP2tySypRHaxix6tMRYriLPz2chYSWDDkH33q57UfET1Jo4l&id=100064370004661\n",
      "Potosi - 2022-07-10 - https://www.facebook.com/permalink.php?story_fbid=pfbid02YWAuj1pmRkhdWYDfK9bueJuXbhDQ24Rf11YwELDrZPjtVghGPDz7nr2vNbHeexfol&id=110681273851746\n",
      "https://archive.org/details/reportesdepartamentalescovid19bolivia_potosi_20220710 : https://facebook.com/story.php?story_fbid=pfbid02YWAuj1pmRkhdWYDfK9bueJuXbhDQ24Rf11YwELDrZPjtVghGPDz7nr2vNbHeexfol&id=110681273851746\n",
      "Tarija - 2022-07-10 - https://www.facebook.com/Tarija.SEDES/posts/pfbid02dqM1t17qUx1nuq5XdoiUTJTgE7PUxcD1dMtdizSEJxFzm5obmgZxkfAx9sJaThmxl\n",
      "https://archive.org/details/reportesdepartamentalescovid19bolivia_tarija_20220710 : https://facebook.com/story.php?story_fbid=pfbid02dqM1t17qUx1nuq5XdoiUTJTgE7PUxcD1dMtdizSEJxFzm5obmgZxkfAx9sJaThmxl&id=396941987601151\n",
      "Chuquisaca - 2022-07-10 - https://www.facebook.com/SEDESCh/posts/pfbid0VvLTzBE98uHb2GwmcE9xqMsU7A6qVzmKfuGVwnvAQLrdHmeK9d6EVgtNcABBdoQLl\n",
      "https://archive.org/details/reportesdepartamentalescovid19bolivia_chuquisaca_20220710 : https://facebook.com/story.php?story_fbid=pfbid0VvLTzBE98uHb2GwmcE9xqMsU7A6qVzmKfuGVwnvAQLrdHmeK9d6EVgtNcABBdoQLl&id=108534767216618\n",
      "Beni - 2022-07-10 - https://www.facebook.com/SedesBeni2022/posts/pfbid02XzU338BAkczrj7JHaavWzJP1RsiXUpwhQhwfXLvh9G13L2TW2CEM68QHK8HCH3pCl\n",
      "https://archive.org/details/reportesdepartamentalescovid19bolivia_beni_20220710 : https://facebook.com/story.php?story_fbid=pfbid02XzU338BAkczrj7JHaavWzJP1RsiXUpwhQhwfXLvh9G13L2TW2CEM68QHK8HCH3pCl&id=517750071766113\n",
      "Pando - 2022-07-10 - https://www.facebook.com/SaludDePando/posts/pfbid0YCUrce6YJe28egNqrYPyWSp1F7jupBhn6JLXG4UrmABj5WK9Saj8StGKBvqfwM7Ql\n",
      "https://archive.org/details/reportesdepartamentalescovid19bolivia_pando_20220710 : https://facebook.com/story.php?story_fbid=pfbid0YCUrce6YJe28egNqrYPyWSp1F7jupBhn6JLXG4UrmABj5WK9Saj8StGKBvqfwM7Ql&id=132468257100618\n",
      "Bolivia - 2022-07-10 - https://twitter.com/ahora_elpueblo/status/1546341300668178432\n",
      "https://archive.org/details/reportesdepartamentalescovid19bolivia_bolivia_20220710 : https://twitter.com/ahora_elpueblo/status/1546341300668178432\n",
      "La Paz - 2022-07-11 - https://www.facebook.com/Sedeslp/posts/pfbid02KxcZUqnCdXmXW4JGamYYtca114ZvrGNWLno4tJXUWbL7rUDskQdQ3iNUNfkgRgEMl\n",
      "https://archive.org/details/reportesdepartamentalescovid19bolivia_la_paz_20220711 : https://facebook.com/story.php?story_fbid=pfbid02KxcZUqnCdXmXW4JGamYYtca114ZvrGNWLno4tJXUWbL7rUDskQdQ3iNUNfkgRgEMl&id=1140266705994360\n",
      "Cochabamba - 2022-07-11 - https://www.facebook.com/sedescochabamba/posts/pfbid0fJrk5uyXpvJ1ywDfBNonQS3yGYME3sk3Vec1ktvmcxJJ5C6Npzad8ziZ2LwcW5XLl\n",
      "https://archive.org/details/reportesdepartamentalescovid19bolivia_cochabamba_20220711 : https://facebook.com/story.php?story_fbid=pfbid0fJrk5uyXpvJ1ywDfBNonQS3yGYME3sk3Vec1ktvmcxJJ5C6Npzad8ziZ2LwcW5XLl&id=957131637714905\n",
      "Oruro - 2022-07-11 - https://www.facebook.com/SEDESOR/posts/pfbid02hggRiTYwzv598PaZGtZhuPDN16LPjmHnv3vqVm5exWaXiKftZQHXSAeWA1iTdgQGl\n",
      "https://archive.org/details/reportesdepartamentalescovid19bolivia_oruro_20220711 : https://facebook.com/story.php?story_fbid=pfbid02hggRiTYwzv598PaZGtZhuPDN16LPjmHnv3vqVm5exWaXiKftZQHXSAeWA1iTdgQGl&id=100064370004661\n",
      "Tarija - 2022-07-11 - https://www.facebook.com/Tarija.SEDES/posts/pfbid028sNECN2kNZsT4jpz9MzArqwSJYR8Vu7SVWdx77tNpghgoZBYtwyJWiB6NzYBNvhPl\n",
      "https://archive.org/details/reportesdepartamentalescovid19bolivia_tarija_20220711 : https://facebook.com/story.php?story_fbid=pfbid028sNECN2kNZsT4jpz9MzArqwSJYR8Vu7SVWdx77tNpghgoZBYtwyJWiB6NzYBNvhPl&id=396941987601151\n",
      "Chuquisaca - 2022-07-11 - https://www.facebook.com/SEDESCh/posts/pfbid02L6Ud3S7yUPsqKXx6ktWKXcRy9ciyC3ATYXyP4dRbRVt1X5AbbeXJpoN8oBQk1thBl\n",
      "https://archive.org/details/reportesdepartamentalescovid19bolivia_chuquisaca_20220711 : https://facebook.com/story.php?story_fbid=pfbid02L6Ud3S7yUPsqKXx6ktWKXcRy9ciyC3ATYXyP4dRbRVt1X5AbbeXJpoN8oBQk1thBl&id=108534767216618\n",
      "Pando - 2022-07-11 - https://www.facebook.com/SaludDePando/posts/pfbid02RdLVA7Avryz5y8tvHf3adzbWmEd93jQhKe1JKV8t5b1ZJUwuj4Qnobckd3yQjiWxl\n",
      "https://archive.org/details/reportesdepartamentalescovid19bolivia_pando_20220711 : https://facebook.com/story.php?story_fbid=pfbid02RdLVA7Avryz5y8tvHf3adzbWmEd93jQhKe1JKV8t5b1ZJUwuj4Qnobckd3yQjiWxl&id=132468257100618\n",
      "Bolivia - 2022-07-11 - https://twitter.com/ahora_elpueblo/status/1546681962500341761\n",
      "https://archive.org/details/reportesdepartamentalescovid19bolivia_bolivia_20220711 : https://twitter.com/ahora_elpueblo/status/1546681962500341761\n"
     ]
    }
   ],
   "source": [
    "credenciales = load_credenciales()\n",
    "tw = auth_twitter()\n",
    "enlaces = reportes_por_archivar()\n",
    "archivar(enlaces)"
   ]
  },
  {
   "cell_type": "code",
   "execution_count": 5,
   "id": "019b534b-0fc0-4eee-b6c2-49114b0622f0",
   "metadata": {
    "execution": {
     "iopub.execute_input": "2022-07-12T04:02:26.341116Z",
     "iopub.status.busy": "2022-07-12T04:02:26.340694Z",
     "iopub.status.idle": "2022-07-12T04:02:26.370824Z",
     "shell.execute_reply": "2022-07-12T04:02:26.369173Z",
     "shell.execute_reply.started": "2022-07-12T04:02:26.341082Z"
    },
    "tags": []
   },
   "outputs": [],
   "source": [
    "def consolidar():\n",
    "    \"\"\"\n",
    "    Sincroniza sheets\n",
    "    \"\"\"\n",
    "    \n",
    "    def download_sheet(url, filename):\n",
    "        datos = requests.get(url).text\n",
    "        datos = datos.replace('\\r','')\n",
    "        with open(filename, 'w+') as f:\n",
    "            f.write(datos)\n",
    "            \n",
    "    for url, filename in zip([metadatos_url, datos_url], ['metadata.csv', 'descartados.csv']):\n",
    "        download_sheet(url, filename)\n",
    "\n",
    "def format_descartados(dep_cols):\n",
    "    \n",
    "    start = '2022-01-21'\n",
    "    descartados = pd.read_csv('descartados.csv', parse_dates=['Fecha'], index_col=['Fecha'])\n",
    "\n",
    "    # Llenar el departamento faltante (usualmente Santa Cruz)\n",
    "    for fecha, row in descartados.loc[start:].iterrows():\n",
    "        if row[dep_cols].isna().sum() == 1:\n",
    "            missing = row[\"Bolivia\"] - row[dep_cols].sum()\n",
    "            if missing > 0:\n",
    "                row.loc[row[row.isna()].index] = missing\n",
    "    \n",
    "    # Descartar datos cuando el valor de descartados diarios es menor a 0\n",
    "    for dep in dep_cols:\n",
    "        descartados[dep].loc[descartados[dep].diff() < 0] = None\n",
    "    \n",
    "    return descartados\n",
    "\n",
    "# def format_pruebas(casos, descartados, dep_cols):\n",
    "    # pruebas = (casos[dep_cols] + descartados[dep_cols].interpolate()).dropna()\n",
    "    # empty = pd.DataFrame(index=pd.date_range(pruebas.index.min(), pruebas.index.max()), columns=dep_cols)\n",
    "    # pruebas = pd.concat([pruebas, empty])\n",
    "    # pruebas = pruebas[~pruebas.index.duplicated()].sort_index()\n",
    "    # pruebas = pruebas.astype(float).interpolate().diff().dropna().astype(int)\n",
    "    # return pruebas\n",
    "\n",
    "def format_results():\n",
    "    dep_cols = ['La Paz', 'Cochabamba', 'Santa Cruz', 'Oruro', 'Potosi', 'Tarija', 'Chuquisaca', 'Beni', 'Pando']\n",
    "    descartados = format_descartados(dep_cols)\n",
    "    casos = pd.read_csv(casos_diarios_url, parse_dates=[0], index_col=0)\n",
    "    casos = casos.rename(columns={'Potosí':'Potosi'})\n",
    "    common_index = casos.index.intersection(descartados.index)\n",
    "    # pruebas = format_pruebas(casos, descartados, dep_cols)\n",
    "    pruebas = (casos.loc[common_index][dep_cols] + descartados.diff().loc[common_index][dep_cols])\n",
    "    # positividad = (casos.diff().dropna() / pruebas).dropna()\n",
    "    positividad = casos.loc[common_index][dep_cols] / pruebas.loc[common_index][dep_cols]\n",
    "    \n",
    "    # Fix days where no tests were run\n",
    "    # for col in pruebas.columns:\n",
    "    #     for i in pruebas.loc[pruebas[col] == 0].index:\n",
    "    #         positividad.loc[i, col] = 0\n",
    "    \n",
    "    return descartados, pruebas, positividad\n",
    "\n",
    "def save_results(descartados, pruebas, positividad):\n",
    "    descartados.to_csv('descartados.csv', float_format=\"%.0f\")\n",
    "    pruebas.to_csv('pruebas.csv', float_format=\"%.0f\")\n",
    "    positividad.to_csv('positividad.csv', float_format=\"%.3f\")"
   ]
  },
  {
   "cell_type": "code",
   "execution_count": 6,
   "id": "a4a89bbc-a21e-4d98-b820-f28666f83156",
   "metadata": {
    "execution": {
     "iopub.execute_input": "2022-07-12T04:02:28.076706Z",
     "iopub.status.busy": "2022-07-12T04:02:28.076239Z",
     "iopub.status.idle": "2022-07-12T04:02:33.612100Z",
     "shell.execute_reply": "2022-07-12T04:02:33.611068Z",
     "shell.execute_reply.started": "2022-07-12T04:02:28.076664Z"
    },
    "tags": []
   },
   "outputs": [],
   "source": [
    "consolidar()\n",
    "descartados, pruebas, positividad = format_results()\n",
    "save_results(descartados, pruebas, positividad)"
   ]
  },
  {
   "cell_type": "code",
   "execution_count": 7,
   "id": "4da4fcc2-b5a9-4a6f-a61b-d9ff5adc2cd6",
   "metadata": {
    "execution": {
     "iopub.execute_input": "2022-07-12T04:02:34.646973Z",
     "iopub.status.busy": "2022-07-12T04:02:34.645845Z",
     "iopub.status.idle": "2022-07-12T04:02:34.655075Z",
     "shell.execute_reply": "2022-07-12T04:02:34.653771Z",
     "shell.execute_reply.started": "2022-07-12T04:02:34.646892Z"
    },
    "tags": []
   },
   "outputs": [],
   "source": [
    "def update():\n",
    "    \"\"\"\n",
    "    Actualiza el repositorio\n",
    "    \"\"\"\n",
    "    \n",
    "    last_update = pd.read_csv('metadata.csv', parse_dates=['fecha']).fecha.max()\n",
    "    repository = Repo('.')\n",
    "    repository.git.add(all=True)\n",
    "    repository.index.commit(last_update.strftime('%Y-%m-%d'))\n",
    "    repository.remotes.origin.push()"
   ]
  },
  {
   "cell_type": "code",
   "execution_count": 9,
   "id": "f7d83587-5f47-4131-afd1-e771fbbbce11",
   "metadata": {
    "execution": {
     "iopub.execute_input": "2022-07-10T22:49:45.395458Z",
     "iopub.status.busy": "2022-07-10T22:49:45.395088Z",
     "iopub.status.idle": "2022-07-10T22:52:06.634723Z",
     "shell.execute_reply": "2022-07-10T22:52:06.633170Z",
     "shell.execute_reply.started": "2022-07-10T22:49:45.395421Z"
    },
    "tags": []
   },
   "outputs": [],
   "source": [
    "update()"
   ]
  }
 ],
 "metadata": {
  "citation-manager": {
   "items": {}
  },
  "kernelspec": {
   "display_name": "Python 3 (ipykernel)",
   "language": "python",
   "name": "python3"
  },
  "language_info": {
   "codemirror_mode": {
    "name": "ipython",
    "version": 3
   },
   "file_extension": ".py",
   "mimetype": "text/x-python",
   "name": "python",
   "nbconvert_exporter": "python",
   "pygments_lexer": "ipython3",
   "version": "3.9.13"
  },
  "widgets": {
   "application/vnd.jupyter.widget-state+json": {
    "state": {},
    "version_major": 2,
    "version_minor": 0
   }
  }
 },
 "nbformat": 4,
 "nbformat_minor": 5
}
