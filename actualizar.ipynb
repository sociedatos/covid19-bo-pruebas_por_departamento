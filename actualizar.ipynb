{
 "cells": [
  {
   "cell_type": "code",
   "execution_count": 1,
   "id": "ecee563e-6ae0-46f8-84f3-30730ddcaeaf",
   "metadata": {
    "execution": {
     "iopub.execute_input": "2022-03-29T00:27:01.131419Z",
     "iopub.status.busy": "2022-03-29T00:27:01.130414Z",
     "iopub.status.idle": "2022-03-29T00:27:03.537889Z",
     "shell.execute_reply": "2022-03-29T00:27:03.536852Z",
     "shell.execute_reply.started": "2022-03-29T00:27:01.131210Z"
    },
    "tags": []
   },
   "outputs": [],
   "source": [
    "from facebook_scraper import get_posts\n",
    "import json\n",
    "import pandas as pd\n",
    "import twitter\n",
    "import internetarchive as ia\n",
    "import requests\n",
    "import os\n",
    "import datetime as dt\n",
    "from git import Repo\n",
    "import warnings\n",
    "import locale\n",
    "locale.setlocale(locale.LC_TIME, 'es_US.UTF8');"
   ]
  },
  {
   "cell_type": "code",
   "execution_count": 2,
   "id": "ce5e35c9-4c6f-46c8-9c35-1d53bde03ba9",
   "metadata": {
    "execution": {
     "iopub.execute_input": "2022-03-29T00:27:04.690658Z",
     "iopub.status.busy": "2022-03-29T00:27:04.690326Z",
     "iopub.status.idle": "2022-03-29T00:27:04.695896Z",
     "shell.execute_reply": "2022-03-29T00:27:04.695033Z",
     "shell.execute_reply.started": "2022-03-29T00:27:04.690622Z"
    },
    "tags": []
   },
   "outputs": [],
   "source": [
    "datos_url = \"https://docs.google.com/spreadsheets/d/e/2PACX-1vSYiPWLCf9_HWB51cIryodmVlDg4RQS_AeccuJjkz9xVtDx7Y5tfk9RaF94BrVdO5vakBo5dUktZawh/pub?gid=0&single=true&output=csv\"\n",
    "metadatos_url = \"https://docs.google.com/spreadsheets/d/e/2PACX-1vSYiPWLCf9_HWB51cIryodmVlDg4RQS_AeccuJjkz9xVtDx7Y5tfk9RaF94BrVdO5vakBo5dUktZawh/pub?gid=1875795980&single=true&output=csv\"\n",
    "directory = 'reportes'\n",
    "casos_acumulados_url = 'https://raw.githubusercontent.com/sociedatos/covid19-bo-casos_por_departamento/master/confirmados_acumulados.csv'"
   ]
  },
  {
   "cell_type": "code",
   "execution_count": 3,
   "id": "927bd168-7a78-42d9-9636-9c7f2eaa5e46",
   "metadata": {
    "execution": {
     "iopub.execute_input": "2022-03-29T00:27:05.515480Z",
     "iopub.status.busy": "2022-03-29T00:27:05.514994Z",
     "iopub.status.idle": "2022-03-29T00:27:05.548043Z",
     "shell.execute_reply": "2022-03-29T00:27:05.545128Z",
     "shell.execute_reply.started": "2022-03-29T00:27:05.515410Z"
    },
    "tags": []
   },
   "outputs": [],
   "source": [
    "def load_credenciales():\n",
    "    with open('credenciales.json', 'r') as f:\n",
    "        return json.load(f)\n",
    "    \n",
    "def auth_twitter():\n",
    "    \"Autenticar en Twitter para realizar consultas al API\"\n",
    "\n",
    "    return twitter.Api(consumer_key = credenciales['twitter']['consumer_key'],\n",
    "                       consumer_secret = credenciales['twitter']['consumer_secret'],\n",
    "                       access_token_key = credenciales['twitter']['access_token_key'],\n",
    "                       access_token_secret = credenciales['twitter']['access_token_secret'],\n",
    "                       tweet_mode='extended')\n",
    "\n",
    "def read_metadata():\n",
    "    \"Descarga los metadatos de google sheets, filtra sólo aquellos con una fuente y crea una columna de status_id\"\n",
    "\n",
    "    meta = pd.read_csv(metadatos_url, parse_dates=['fecha'], index_col=['fecha'])\n",
    "    meta = meta.dropna(subset=['La Paz', 'Cochabamba', 'Oruro'])\n",
    "    return meta\n",
    "\n",
    "def filtrar_nuevos(meta):\n",
    "    \"Devuelve sólo las entradas que no hayan sido descargadas previamente.\"\n",
    "\n",
    "    viejos = [dt.datetime.strptime(filename.split('.')[0].split('_')[-1], '%Y%m%d') for filename in os.listdir(directory)]\n",
    "    return meta[~meta.index.isin(viejos)]\n",
    "\n",
    "def create_identifier(dep, fecha):\n",
    "    return 'reportesdepartamentalescovid19bolivia_{}_{}'.format(dep.lower().replace(' ', '_'), fecha.strftime('%Y%m%d'))\n",
    "\n",
    "def save_image(url, filename):\n",
    "    with open(filename, 'wb') as f:\n",
    "        f.write(requests.get(url).content)\n",
    "\n",
    "def parse_facebook(url, dep, fecha):\n",
    "    with warnings.catch_warnings():\n",
    "        warnings.simplefilter(\"ignore\")\n",
    "        post = [post for post in get_posts(post_urls=[url], cookies='cookies.json')][0]\n",
    "    content_type = requests.head(post['images'][0]).headers.get('content-type')\n",
    "    is_image = 'image' in content_type\n",
    "    post_meta = {\n",
    "        \"source\": post['post_url'],\n",
    "        \"creator\": post['username'],\n",
    "        \"description\": post['text'],\n",
    "    }\n",
    "    identifier = create_identifier(dep, fecha)\n",
    "    filename = '{}/{}.jpeg'.format(directory, identifier)\n",
    "    if is_image:\n",
    "        save_image(post['images'][0], filename)\n",
    "    return is_image, post_meta, identifier, filename\n",
    "\n",
    "def parse_twitter(url, dep, fecha):\n",
    "    tweet_id = url.split('/')[-1]\n",
    "    statuses = tw.GetStatuses([tweet_id])\n",
    "    status = statuses[0]._json\n",
    "    post_meta = {\n",
    "        \"source\": url,\n",
    "        \"creator\": status['user']['name'],\n",
    "        \"description\": status['full_text']\n",
    "    }\n",
    "    identifier = create_identifier(dep, fecha)\n",
    "    media = status['entities']['media'][0]['media_url']\n",
    "    filename = '{}/{}.{}'.format(directory, identifier, media.split('.')[-1])\n",
    "    save_image(media, filename)\n",
    "    return True, post_meta, identifier, filename\n",
    "\n",
    "def upload_archive(dep, fecha, post_meta, identifier, filename):\n",
    "\n",
    "    ia_meta = {'title': 'Reporte de Covid-19 en {}, Bolivia para el {}'.format(dep, fecha.strftime('%-d de %B, %Y')),\n",
    "               'description': post_meta['description'],\n",
    "               'source': post_meta['source'],\n",
    "               'collection': 'covid19-bolivia-departamentos',\n",
    "               'creator': post_meta['creator'],\n",
    "               'mediatype': 'image',\n",
    "               'date': fecha.strftime('%Y-%m-%d')}\n",
    "\n",
    "    ia.upload(identifier,\n",
    "              filename,\n",
    "              metadata=ia_meta,\n",
    "              access_key = credenciales[\"ia\"][\"access\"],\n",
    "              secret_key = credenciales[\"ia\"][\"secret\"],\n",
    "              retries=4\n",
    "             )\n",
    "    print('https://archive.org/details/{} : {}'.format(identifier, post_meta['source']))\n",
    "\n",
    "def archivar(meta):\n",
    "    for fecha, row in meta.iterrows():\n",
    "        valores = row.to_dict()\n",
    "        for dep in valores.keys():\n",
    "            if type(valores[dep]) == str:\n",
    "                url = valores[dep]\n",
    "                if 'facebook.com' in url:\n",
    "                    is_image, post_meta, identifier, filename = parse_facebook(url, dep, fecha)\n",
    "                if 'twitter.com' in url:\n",
    "                    is_image, post_meta, identifier, filename = parse_twitter(url, dep, fecha)\n",
    "                if is_image:\n",
    "                    upload_archive(dep, fecha, post_meta, identifier, filename)"
   ]
  },
  {
   "cell_type": "code",
   "execution_count": 4,
   "id": "7339b0e5-d110-4f11-b1d5-2c8d5872142e",
   "metadata": {
    "execution": {
     "iopub.execute_input": "2022-03-29T00:27:06.980351Z",
     "iopub.status.busy": "2022-03-29T00:27:06.979406Z",
     "iopub.status.idle": "2022-03-29T00:49:01.801135Z",
     "shell.execute_reply": "2022-03-29T00:49:01.799220Z",
     "shell.execute_reply.started": "2022-03-29T00:27:06.980294Z"
    },
    "tags": []
   },
   "outputs": [
    {
     "name": "stdout",
     "output_type": "stream",
     "text": [
      "https://archive.org/details/reportesdepartamentalescovid19bolivia_la_paz_20220321 : https://facebook.com/story.php?story_fbid=5154111557943168&id=1140266705994360\n",
      "https://archive.org/details/reportesdepartamentalescovid19bolivia_cochabamba_20220321 : https://facebook.com/story.php?story_fbid=4950457621715600&id=957131637714905\n",
      "https://archive.org/details/reportesdepartamentalescovid19bolivia_oruro_20220321 : https://facebook.com/story.php?story_fbid=337484875073843&id=100064370004661\n",
      "https://archive.org/details/reportesdepartamentalescovid19bolivia_potosi_20220321 : https://facebook.com/story.php?story_fbid=513743276878875&id=110681273851746\n",
      "https://archive.org/details/reportesdepartamentalescovid19bolivia_tarija_20220321 : https://facebook.com/story.php?story_fbid=1033268950635115&id=396941987601151\n",
      "https://archive.org/details/reportesdepartamentalescovid19bolivia_chuquisaca_20220321 : https://facebook.com/story.php?story_fbid=808697020533719&id=108534767216618\n",
      "https://archive.org/details/reportesdepartamentalescovid19bolivia_beni_20220321 : https://facebook.com/story.php?story_fbid=1924743951066711&id=517750071766113\n",
      "https://archive.org/details/reportesdepartamentalescovid19bolivia_pando_20220321 : https://facebook.com/story.php?story_fbid=1701144793566282&id=132468257100618\n",
      "https://archive.org/details/reportesdepartamentalescovid19bolivia_bolivia_20220321 : https://twitter.com/ahora_elpueblo/status/1506094904447021061\n",
      "https://archive.org/details/reportesdepartamentalescovid19bolivia_la_paz_20220322 : https://facebook.com/story.php?story_fbid=5156882024332788&id=1140266705994360\n",
      "https://archive.org/details/reportesdepartamentalescovid19bolivia_cochabamba_20220322 : https://facebook.com/story.php?story_fbid=4953877051373657&id=957131637714905\n",
      "https://archive.org/details/reportesdepartamentalescovid19bolivia_oruro_20220322 : https://facebook.com/story.php?story_fbid=338074931681504&id=100064370004661\n",
      "https://archive.org/details/reportesdepartamentalescovid19bolivia_potosi_20220322 : https://facebook.com/story.php?story_fbid=514353090151227&id=110681273851746\n",
      "https://archive.org/details/reportesdepartamentalescovid19bolivia_tarija_20220322 : https://facebook.com/story.php?story_fbid=1033959023899441&id=396941987601151\n",
      "https://archive.org/details/reportesdepartamentalescovid19bolivia_chuquisaca_20220322 : https://facebook.com/story.php?story_fbid=809378360465585&id=108534767216618\n",
      "https://archive.org/details/reportesdepartamentalescovid19bolivia_beni_20220322 : https://facebook.com/story.php?story_fbid=1925440777663695&id=517750071766113\n",
      "https://archive.org/details/reportesdepartamentalescovid19bolivia_pando_20220322 : https://facebook.com/story.php?story_fbid=1701838636830231&id=132468257100618\n",
      "https://archive.org/details/reportesdepartamentalescovid19bolivia_bolivia_20220322 : https://twitter.com/notiAsolysombra/status/1506472873480830979\n",
      "https://archive.org/details/reportesdepartamentalescovid19bolivia_la_paz_20220323 : https://facebook.com/story.php?story_fbid=5159276400760017&id=1140266705994360\n",
      "https://archive.org/details/reportesdepartamentalescovid19bolivia_cochabamba_20220323 : https://facebook.com/story.php?story_fbid=4955502101211152&id=957131637714905\n",
      "https://archive.org/details/reportesdepartamentalescovid19bolivia_oruro_20220323 : https://facebook.com/story.php?story_fbid=338709251618072&id=100064370004661\n",
      "https://archive.org/details/reportesdepartamentalescovid19bolivia_potosi_20220323 : https://facebook.com/story.php?story_fbid=515003526752850&id=110681273851746\n",
      "https://archive.org/details/reportesdepartamentalescovid19bolivia_tarija_20220323 : https://facebook.com/story.php?story_fbid=1034581793837164&id=396941987601151\n",
      "https://archive.org/details/reportesdepartamentalescovid19bolivia_chuquisaca_20220323 : https://facebook.com/story.php?story_fbid=810070640396357&id=108534767216618\n",
      "https://archive.org/details/reportesdepartamentalescovid19bolivia_beni_20220323 : https://facebook.com/story.php?story_fbid=1926057990935307&id=517750071766113\n",
      "https://archive.org/details/reportesdepartamentalescovid19bolivia_pando_20220323 : https://facebook.com/story.php?story_fbid=1702481093432652&id=132468257100618\n",
      "https://archive.org/details/reportesdepartamentalescovid19bolivia_bolivia_20220323 : https://twitter.com/ahora_elpueblo/status/1506827364029849600\n",
      "https://archive.org/details/reportesdepartamentalescovid19bolivia_la_paz_20220324 : https://facebook.com/story.php?story_fbid=5163358823685108&id=1140266705994360\n",
      "https://archive.org/details/reportesdepartamentalescovid19bolivia_cochabamba_20220324 : https://facebook.com/story.php?story_fbid=4958217637606265&id=957131637714905\n",
      "https://archive.org/details/reportesdepartamentalescovid19bolivia_oruro_20220324 : https://facebook.com/story.php?story_fbid=339304798225184&id=100064370004661\n",
      "https://archive.org/details/reportesdepartamentalescovid19bolivia_potosi_20220324 : https://facebook.com/story.php?story_fbid=515507596702443&id=110681273851746\n",
      "https://archive.org/details/reportesdepartamentalescovid19bolivia_tarija_20220324 : https://facebook.com/story.php?story_fbid=1035203357108341&id=396941987601151\n",
      "https://archive.org/details/reportesdepartamentalescovid19bolivia_chuquisaca_20220324 : https://facebook.com/story.php?story_fbid=810740553662699&id=108534767216618\n",
      "https://archive.org/details/reportesdepartamentalescovid19bolivia_beni_20220324 : https://facebook.com/story.php?story_fbid=1926770747530698&id=517750071766113\n",
      "https://archive.org/details/reportesdepartamentalescovid19bolivia_pando_20220324 : https://facebook.com/story.php?story_fbid=1703168156697279&id=132468257100618\n",
      "https://archive.org/details/reportesdepartamentalescovid19bolivia_bolivia_20220324 : https://twitter.com/ahora_elpueblo/status/1507188135284948995\n",
      "https://archive.org/details/reportesdepartamentalescovid19bolivia_la_paz_20220325 : https://facebook.com/story.php?story_fbid=5164643606889963&id=1140266705994360\n",
      "https://archive.org/details/reportesdepartamentalescovid19bolivia_cochabamba_20220325 : https://facebook.com/story.php?story_fbid=4960717490689613&id=957131637714905\n",
      "https://archive.org/details/reportesdepartamentalescovid19bolivia_oruro_20220325 : https://facebook.com/story.php?story_fbid=339945898161074&id=100064370004661\n",
      "https://archive.org/details/reportesdepartamentalescovid19bolivia_potosi_20220325 : https://facebook.com/story.php?story_fbid=516261379960398&id=110681273851746\n",
      "https://archive.org/details/reportesdepartamentalescovid19bolivia_tarija_20220325 : https://facebook.com/story.php?story_fbid=1035911457037531&id=396941987601151\n",
      "https://archive.org/details/reportesdepartamentalescovid19bolivia_chuquisaca_20220325 : https://facebook.com/story.php?story_fbid=811443260259095&id=108534767216618\n",
      "https://archive.org/details/reportesdepartamentalescovid19bolivia_beni_20220325 : https://facebook.com/story.php?story_fbid=1927562217451551&id=517750071766113\n",
      "https://archive.org/details/reportesdepartamentalescovid19bolivia_pando_20220325 : https://facebook.com/story.php?story_fbid=1703887049958723&id=132468257100618\n",
      "https://archive.org/details/reportesdepartamentalescovid19bolivia_bolivia_20220325 : https://twitter.com/ahora_elpueblo/status/1507573397060038657\n",
      "https://archive.org/details/reportesdepartamentalescovid19bolivia_la_paz_20220326 : https://facebook.com/story.php?story_fbid=5170062129681444&id=1140266705994360\n",
      "https://archive.org/details/reportesdepartamentalescovid19bolivia_cochabamba_20220326 : https://facebook.com/story.php?story_fbid=4963326993761996&id=957131637714905\n",
      "https://archive.org/details/reportesdepartamentalescovid19bolivia_oruro_20220326 : https://facebook.com/story.php?story_fbid=340601811428816&id=100064370004661\n",
      "https://archive.org/details/reportesdepartamentalescovid19bolivia_potosi_20220326 : https://facebook.com/story.php?story_fbid=516831619903374&id=110681273851746\n",
      "https://archive.org/details/reportesdepartamentalescovid19bolivia_tarija_20220326 : https://facebook.com/story.php?story_fbid=1036541070307903&id=396941987601151\n",
      "https://archive.org/details/reportesdepartamentalescovid19bolivia_chuquisaca_20220326 : https://facebook.com/story.php?story_fbid=812142943522460&id=108534767216618\n",
      "https://archive.org/details/reportesdepartamentalescovid19bolivia_beni_20220326 : https://facebook.com/story.php?story_fbid=1928241187383654&id=517750071766113\n",
      "https://archive.org/details/reportesdepartamentalescovid19bolivia_pando_20220326 : https://facebook.com/story.php?story_fbid=1704594713221290&id=132468257100618\n",
      "https://archive.org/details/reportesdepartamentalescovid19bolivia_bolivia_20220326 : https://twitter.com/ahora_elpueblo/status/1507898133975552002\n",
      "https://archive.org/details/reportesdepartamentalescovid19bolivia_la_paz_20220327 : https://facebook.com/story.php?story_fbid=5170075839680073&id=1140266705994360\n",
      "https://archive.org/details/reportesdepartamentalescovid19bolivia_cochabamba_20220327 : https://facebook.com/story.php?story_fbid=4966044796823549&id=957131637714905\n",
      "https://archive.org/details/reportesdepartamentalescovid19bolivia_oruro_20220327 : https://facebook.com/story.php?story_fbid=341214998034164&id=100064370004661\n",
      "https://archive.org/details/reportesdepartamentalescovid19bolivia_potosi_20220327 : https://facebook.com/story.php?story_fbid=517509366502266&id=110681273851746\n",
      "https://archive.org/details/reportesdepartamentalescovid19bolivia_tarija_20220327 : https://facebook.com/story.php?story_fbid=1037222303573113&id=396941987601151\n",
      "https://archive.org/details/reportesdepartamentalescovid19bolivia_chuquisaca_20220327 : https://facebook.com/story.php?story_fbid=812859990117422&id=108534767216618\n",
      "https://archive.org/details/reportesdepartamentalescovid19bolivia_beni_20220327 : https://facebook.com/story.php?story_fbid=1929030063971433&id=517750071766113\n",
      "https://archive.org/details/reportesdepartamentalescovid19bolivia_pando_20220327 : https://facebook.com/story.php?story_fbid=1705295709817857&id=132468257100618\n",
      "https://archive.org/details/reportesdepartamentalescovid19bolivia_bolivia_20220327 : https://twitter.com/ahora_elpueblo/status/1508260400198201345\n"
     ]
    }
   ],
   "source": [
    "credenciales = load_credenciales()\n",
    "tw = auth_twitter()\n",
    "meta = filtrar_nuevos(read_metadata())\n",
    "archivar(meta)"
   ]
  },
  {
   "cell_type": "code",
   "execution_count": 36,
   "id": "019b534b-0fc0-4eee-b6c2-49114b0622f0",
   "metadata": {
    "execution": {
     "iopub.execute_input": "2022-03-29T01:04:24.806901Z",
     "iopub.status.busy": "2022-03-29T01:04:24.806544Z",
     "iopub.status.idle": "2022-03-29T01:04:24.829357Z",
     "shell.execute_reply": "2022-03-29T01:04:24.827998Z",
     "shell.execute_reply.started": "2022-03-29T01:04:24.806865Z"
    },
    "tags": []
   },
   "outputs": [],
   "source": [
    "def consolidar():\n",
    "    \"\"\"\n",
    "    Sincroniza sheets\n",
    "    \"\"\"\n",
    "    \n",
    "    def download_sheet(url, filename):\n",
    "        datos = requests.get(url).text\n",
    "        datos = datos.replace('\\r','')\n",
    "        with open(filename, 'w+') as f:\n",
    "            f.write(datos)\n",
    "            \n",
    "    for url, filename in zip([metadatos_url, datos_url], ['metadata.csv', 'descartados.csv']):\n",
    "        download_sheet(url, filename)\n",
    "\n",
    "def format_descartados(dep_cols):\n",
    "    \n",
    "    start = '2022-01-21'\n",
    "    descartados = pd.read_csv('descartados.csv', parse_dates=['Fecha'], index_col=['Fecha'])\n",
    "\n",
    "    # Llenar el departamento faltante (usualmente Santa Cruz)\n",
    "    for fecha, row in descartados.loc[start:].iterrows():\n",
    "        if row[dep_cols].isna().sum() == 1:\n",
    "            missing = row[\"Bolivia\"] - row[dep_cols].sum()\n",
    "            if missing > 0:\n",
    "                row.loc[row[row.isna()].index] = missing\n",
    "    \n",
    "    # Descartar datos cuando el valor de descartados diarios es menor a 0\n",
    "    for dep in dep_cols:\n",
    "        descartados[dep].loc[descartados[dep].diff() < 0] = None\n",
    "    \n",
    "    return descartados\n",
    "\n",
    "# def format_pruebas(casos, descartados, dep_cols):\n",
    "    # pruebas = (casos[dep_cols] + descartados[dep_cols].interpolate()).dropna()\n",
    "    # empty = pd.DataFrame(index=pd.date_range(pruebas.index.min(), pruebas.index.max()), columns=dep_cols)\n",
    "    # pruebas = pd.concat([pruebas, empty])\n",
    "    # pruebas = pruebas[~pruebas.index.duplicated()].sort_index()\n",
    "    # pruebas = pruebas.astype(float).interpolate().diff().dropna().astype(int)\n",
    "    # return pruebas\n",
    "\n",
    "def format_results():\n",
    "    dep_cols = ['La Paz', 'Cochabamba', 'Santa Cruz', 'Oruro', 'Potosi', 'Tarija', 'Chuquisaca', 'Beni', 'Pando']\n",
    "    descartados = format_descartados(dep_cols)\n",
    "    casos = pd.read_csv(casos_acumulados_url, parse_dates=[0], index_col=0)\n",
    "    casos = casos.rename(columns={'Potosí':'Potosi'})\n",
    "    common_index = casos.index.intersection(descartados.index)\n",
    "    # pruebas = format_pruebas(casos, descartados, dep_cols)\n",
    "    pruebas = (casos.loc[common_index][dep_cols] + descartados.loc[common_index][dep_cols]).diff()\n",
    "    # positividad = (casos.diff().dropna() / pruebas).dropna()\n",
    "    positividad = casos.loc[common_index][dep_cols].diff() / pruebas.loc[common_index][dep_cols]\n",
    "    \n",
    "    # Fix days where no tests were run\n",
    "    for col in pruebas.columns:\n",
    "        for i in pruebas.loc[pruebas[col] == 0].index:\n",
    "            positividad.loc[i, col] = 0\n",
    "    \n",
    "    return descartados, pruebas, positividad\n",
    "\n",
    "def save_results(descartados, pruebas, positividad):\n",
    "    descartados.to_csv('descartados.csv', float_format=\"%.0f\")\n",
    "    pruebas.to_csv('pruebas.csv', float_format=\"%.0f\")\n",
    "    positividad.to_csv('positividad.csv', float_format=\"%.3f\")"
   ]
  },
  {
   "cell_type": "code",
   "execution_count": 37,
   "id": "a4a89bbc-a21e-4d98-b820-f28666f83156",
   "metadata": {
    "execution": {
     "iopub.execute_input": "2022-03-29T01:04:28.749307Z",
     "iopub.status.busy": "2022-03-29T01:04:28.748772Z",
     "iopub.status.idle": "2022-03-29T01:04:32.848834Z",
     "shell.execute_reply": "2022-03-29T01:04:32.848121Z",
     "shell.execute_reply.started": "2022-03-29T01:04:28.749233Z"
    },
    "tags": []
   },
   "outputs": [],
   "source": [
    "consolidar()\n",
    "descartados, pruebas, positividad = format_results()\n",
    "save_results(descartados, pruebas, positividad)"
   ]
  },
  {
   "cell_type": "code",
   "execution_count": 39,
   "id": "4da4fcc2-b5a9-4a6f-a61b-d9ff5adc2cd6",
   "metadata": {
    "execution": {
     "iopub.execute_input": "2022-03-29T01:04:42.029097Z",
     "iopub.status.busy": "2022-03-29T01:04:42.028722Z",
     "iopub.status.idle": "2022-03-29T01:04:42.037354Z",
     "shell.execute_reply": "2022-03-29T01:04:42.035939Z",
     "shell.execute_reply.started": "2022-03-29T01:04:42.029063Z"
    },
    "tags": []
   },
   "outputs": [],
   "source": [
    "def update():\n",
    "    \"\"\"\n",
    "    Actualiza el repositorio\n",
    "    \"\"\"\n",
    "    \n",
    "    last_update = pd.read_csv('metadata.csv', parse_dates=['fecha']).fecha.max()\n",
    "    repository = Repo('.')\n",
    "    repository.git.add(all=True)\n",
    "    repository.index.commit(last_update.strftime('%Y-%m-%d'))\n",
    "    repository.remotes.origin.push()"
   ]
  },
  {
   "cell_type": "code",
   "execution_count": 12,
   "id": "f7d83587-5f47-4131-afd1-e771fbbbce11",
   "metadata": {
    "execution": {
     "iopub.execute_input": "2022-03-22T01:57:09.102696Z",
     "iopub.status.busy": "2022-03-22T01:57:09.101907Z",
     "iopub.status.idle": "2022-03-22T01:57:29.652011Z",
     "shell.execute_reply": "2022-03-22T01:57:29.650461Z",
     "shell.execute_reply.started": "2022-03-22T01:57:09.102656Z"
    },
    "tags": []
   },
   "outputs": [],
   "source": [
    "update()"
   ]
  }
 ],
 "metadata": {
  "citation-manager": {
   "items": {}
  },
  "kernelspec": {
   "display_name": "Python 3 (ipykernel)",
   "language": "python",
   "name": "python3"
  },
  "language_info": {
   "codemirror_mode": {
    "name": "ipython",
    "version": 3
   },
   "file_extension": ".py",
   "mimetype": "text/x-python",
   "name": "python",
   "nbconvert_exporter": "python",
   "pygments_lexer": "ipython3",
   "version": "3.9.10"
  },
  "widgets": {
   "application/vnd.jupyter.widget-state+json": {
    "state": {},
    "version_major": 2,
    "version_minor": 0
   }
  }
 },
 "nbformat": 4,
 "nbformat_minor": 5
}
