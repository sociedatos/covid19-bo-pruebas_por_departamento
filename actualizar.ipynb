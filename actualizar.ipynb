{
 "cells": [
  {
   "cell_type": "code",
   "execution_count": 1,
   "id": "ecee563e-6ae0-46f8-84f3-30730ddcaeaf",
   "metadata": {
    "execution": {
     "iopub.execute_input": "2022-03-22T01:07:34.697062Z",
     "iopub.status.busy": "2022-03-22T01:07:34.696439Z",
     "iopub.status.idle": "2022-03-22T01:07:36.267990Z",
     "shell.execute_reply": "2022-03-22T01:07:36.266800Z",
     "shell.execute_reply.started": "2022-03-22T01:07:34.696928Z"
    },
    "tags": []
   },
   "outputs": [],
   "source": [
    "from facebook_scraper import get_posts\n",
    "import json\n",
    "import pandas as pd\n",
    "import twitter\n",
    "import internetarchive as ia\n",
    "import requests\n",
    "import os\n",
    "import datetime as dt\n",
    "from git import Repo\n",
    "import warnings\n",
    "import locale\n",
    "locale.setlocale(locale.LC_TIME, 'es_US.UTF8');"
   ]
  },
  {
   "cell_type": "code",
   "execution_count": 2,
   "id": "ce5e35c9-4c6f-46c8-9c35-1d53bde03ba9",
   "metadata": {
    "execution": {
     "iopub.execute_input": "2022-03-22T01:07:37.200668Z",
     "iopub.status.busy": "2022-03-22T01:07:37.199947Z",
     "iopub.status.idle": "2022-03-22T01:07:37.205574Z",
     "shell.execute_reply": "2022-03-22T01:07:37.204795Z",
     "shell.execute_reply.started": "2022-03-22T01:07:37.200598Z"
    },
    "tags": []
   },
   "outputs": [],
   "source": [
    "datos_url = \"https://docs.google.com/spreadsheets/d/e/2PACX-1vSYiPWLCf9_HWB51cIryodmVlDg4RQS_AeccuJjkz9xVtDx7Y5tfk9RaF94BrVdO5vakBo5dUktZawh/pub?gid=0&single=true&output=csv\"\n",
    "metadatos_url = \"https://docs.google.com/spreadsheets/d/e/2PACX-1vSYiPWLCf9_HWB51cIryodmVlDg4RQS_AeccuJjkz9xVtDx7Y5tfk9RaF94BrVdO5vakBo5dUktZawh/pub?gid=1875795980&single=true&output=csv\"\n",
    "directory = 'reportes'\n",
    "casos_acumulados_url = 'https://raw.githubusercontent.com/sociedatos/covid19-bo-casos_por_departamento/master/confirmados_acumulados.csv'"
   ]
  },
  {
   "cell_type": "code",
   "execution_count": 3,
   "id": "927bd168-7a78-42d9-9636-9c7f2eaa5e46",
   "metadata": {
    "execution": {
     "iopub.execute_input": "2022-03-22T01:07:37.837936Z",
     "iopub.status.busy": "2022-03-22T01:07:37.837122Z",
     "iopub.status.idle": "2022-03-22T01:07:37.871628Z",
     "shell.execute_reply": "2022-03-22T01:07:37.870599Z",
     "shell.execute_reply.started": "2022-03-22T01:07:37.837880Z"
    },
    "tags": []
   },
   "outputs": [],
   "source": [
    "def load_credenciales():\n",
    "    with open('credenciales.json', 'r') as f:\n",
    "        return json.load(f)\n",
    "    \n",
    "def auth_twitter():\n",
    "    \"Autenticar en Twitter para realizar consultas al API\"\n",
    "\n",
    "    return twitter.Api(consumer_key = credenciales['twitter']['consumer_key'],\n",
    "                       consumer_secret = credenciales['twitter']['consumer_secret'],\n",
    "                       access_token_key = credenciales['twitter']['access_token_key'],\n",
    "                       access_token_secret = credenciales['twitter']['access_token_secret'],\n",
    "                       tweet_mode='extended')\n",
    "\n",
    "def read_metadata():\n",
    "    \"Descarga los metadatos de google sheets, filtra sólo aquellos con una fuente y crea una columna de status_id\"\n",
    "\n",
    "    meta = pd.read_csv(metadatos_url, parse_dates=['fecha'], index_col=['fecha'])\n",
    "    meta = meta.dropna(subset=['La Paz', 'Cochabamba', 'Oruro'])\n",
    "    return meta\n",
    "\n",
    "def filtrar_nuevos(meta):\n",
    "    \"Devuelve sólo las entradas que no hayan sido descargadas previamente.\"\n",
    "\n",
    "    viejos = [dt.datetime.strptime(filename.split('.')[0].split('_')[-1], '%Y%m%d') for filename in os.listdir(directory)]\n",
    "    return meta[~meta.index.isin(viejos)]\n",
    "\n",
    "def create_identifier(dep, fecha):\n",
    "    return 'reportesdepartamentalescovid19bolivia_{}_{}'.format(dep.lower().replace(' ', '_'), fecha.strftime('%Y%m%d'))\n",
    "\n",
    "def save_image(url, filename):\n",
    "    with open(filename, 'wb') as f:\n",
    "        f.write(requests.get(url).content)\n",
    "\n",
    "def parse_facebook(url, dep, fecha):\n",
    "    with warnings.catch_warnings():\n",
    "        warnings.simplefilter(\"ignore\")\n",
    "        post = [post for post in get_posts(post_urls=[url], cookies='cookies.json')][0]\n",
    "    content_type = requests.head(post['images'][0]).headers.get('content-type')\n",
    "    is_image = 'image' in content_type\n",
    "    post_meta = {\n",
    "        \"source\": post['post_url'],\n",
    "        \"creator\": post['username'],\n",
    "        \"description\": post['text'],\n",
    "    }\n",
    "    identifier = create_identifier(dep, fecha)\n",
    "    filename = '{}/{}.jpeg'.format(directory, identifier)\n",
    "    if is_image:\n",
    "        save_image(post['images'][0], filename)\n",
    "    return is_image, post_meta, identifier, filename\n",
    "\n",
    "def parse_twitter(url, dep, fecha):\n",
    "    tweet_id = url.split('/')[-1]\n",
    "    statuses = tw.GetStatuses([tweet_id])\n",
    "    status = statuses[0]._json\n",
    "    post_meta = {\n",
    "        \"source\": url,\n",
    "        \"creator\": status['user']['name'],\n",
    "        \"description\": status['full_text']\n",
    "    }\n",
    "    identifier = create_identifier(dep, fecha)\n",
    "    media = status['entities']['media'][0]['media_url']\n",
    "    filename = '{}/{}.{}'.format(directory, identifier, media.split('.')[-1])\n",
    "    save_image(media, filename)\n",
    "    return True, post_meta, identifier, filename\n",
    "\n",
    "def upload_archive(dep, fecha, post_meta, identifier, filename):\n",
    "\n",
    "    ia_meta = {'title': 'Reporte de Covid-19 en {}, Bolivia para el {}'.format(dep, fecha.strftime('%-d de %B, %Y')),\n",
    "               'description': post_meta['description'],\n",
    "               'source': post_meta['source'],\n",
    "               'collection': 'covid19-bolivia-departamentos',\n",
    "               'creator': post_meta['creator'],\n",
    "               'mediatype': 'image',\n",
    "               'date': fecha.strftime('%Y-%m-%d')}\n",
    "\n",
    "    ia.upload(identifier,\n",
    "              filename,\n",
    "              metadata=ia_meta,\n",
    "              access_key = credenciales[\"ia\"][\"access\"],\n",
    "              secret_key = credenciales[\"ia\"][\"secret\"],\n",
    "              retries=4\n",
    "             )\n",
    "    print('https://archive.org/details/{} : {}'.format(identifier, post_meta['source']))\n",
    "\n",
    "def archivar(meta):\n",
    "    for fecha, row in meta.iterrows():\n",
    "        valores = row.to_dict()\n",
    "        for dep in valores.keys():\n",
    "            if type(valores[dep]) == str:\n",
    "                url = valores[dep]\n",
    "                if 'facebook.com' in url:\n",
    "                    is_image, post_meta, identifier, filename = parse_facebook(url, dep, fecha)\n",
    "                if 'twitter.com' in url:\n",
    "                    is_image, post_meta, identifier, filename = parse_twitter(url, dep, fecha)\n",
    "                if is_image:\n",
    "                    upload_archive(dep, fecha, post_meta, identifier, filename)"
   ]
  },
  {
   "cell_type": "code",
   "execution_count": 4,
   "id": "7339b0e5-d110-4f11-b1d5-2c8d5872142e",
   "metadata": {
    "execution": {
     "iopub.execute_input": "2022-03-22T01:07:38.919019Z",
     "iopub.status.busy": "2022-03-22T01:07:38.918537Z",
     "iopub.status.idle": "2022-03-22T01:30:05.398872Z",
     "shell.execute_reply": "2022-03-22T01:30:05.397118Z",
     "shell.execute_reply.started": "2022-03-22T01:07:38.918973Z"
    },
    "tags": []
   },
   "outputs": [
    {
     "name": "stdout",
     "output_type": "stream",
     "text": [
      "https://archive.org/details/reportesdepartamentalescovid19bolivia_la_paz_20220314 : https://facebook.com/story.php?story_fbid=5137096856311305&id=1140266705994360\n",
      "https://archive.org/details/reportesdepartamentalescovid19bolivia_cochabamba_20220314 : https://facebook.com/story.php?story_fbid=4932278066866889&id=957131637714905\n",
      "https://archive.org/details/reportesdepartamentalescovid19bolivia_oruro_20220314 : https://facebook.com/story.php?story_fbid=333137438841920&id=100064370004661\n",
      "https://archive.org/details/reportesdepartamentalescovid19bolivia_potosi_20220314 : https://facebook.com/story.php?story_fbid=509532053966664&id=110681273851746\n",
      "https://archive.org/details/reportesdepartamentalescovid19bolivia_tarija_20220314 : https://facebook.com/story.php?story_fbid=1028735214421822&id=396941987601151\n",
      "https://archive.org/details/reportesdepartamentalescovid19bolivia_chuquisaca_20220314 : https://facebook.com/story.php?story_fbid=803816961021725&id=108534767216618\n",
      "https://archive.org/details/reportesdepartamentalescovid19bolivia_beni_20220314 : https://facebook.com/story.php?story_fbid=1919567071584399&id=517750071766113\n",
      "https://archive.org/details/reportesdepartamentalescovid19bolivia_pando_20220314 : https://facebook.com/story.php?story_fbid=1696194320727996&id=132468257100618\n",
      "https://archive.org/details/reportesdepartamentalescovid19bolivia_bolivia_20220314 : https://twitter.com/ahora_elpueblo/status/1503575013781385220\n",
      "https://archive.org/details/reportesdepartamentalescovid19bolivia_la_paz_20220315 : https://facebook.com/story.php?story_fbid=5138250549529269&id=1140266705994360\n",
      "https://archive.org/details/reportesdepartamentalescovid19bolivia_cochabamba_20220315 : https://facebook.com/story.php?story_fbid=4934887896605906&id=957131637714905\n",
      "https://archive.org/details/reportesdepartamentalescovid19bolivia_oruro_20220315 : https://facebook.com/story.php?story_fbid=333745018781162&id=100064370004661\n",
      "https://archive.org/details/reportesdepartamentalescovid19bolivia_potosi_20220315 : https://facebook.com/story.php?story_fbid=510161847237018&id=110681273851746\n",
      "https://archive.org/details/reportesdepartamentalescovid19bolivia_tarija_20220315 : https://facebook.com/story.php?story_fbid=1029340644361279&id=396941987601151\n",
      "https://archive.org/details/reportesdepartamentalescovid19bolivia_chuquisaca_20220315 : https://facebook.com/story.php?story_fbid=804493880954033&id=108534767216618\n",
      "https://archive.org/details/reportesdepartamentalescovid19bolivia_beni_20220315 : https://facebook.com/story.php?story_fbid=1920298594844580&id=517750071766113\n",
      "https://archive.org/details/reportesdepartamentalescovid19bolivia_pando_20220315 : https://facebook.com/story.php?story_fbid=1696912667322828&id=132468257100618\n",
      "https://archive.org/details/reportesdepartamentalescovid19bolivia_bolivia_20220315 : https://twitter.com/ahora_elpueblo/status/1503915465948639232\n",
      "https://archive.org/details/reportesdepartamentalescovid19bolivia_la_paz_20220316 : https://facebook.com/story.php?story_fbid=5141072232580434&id=1140266705994360\n",
      "https://archive.org/details/reportesdepartamentalescovid19bolivia_cochabamba_20220316 : https://facebook.com/story.php?story_fbid=4937698669658162&id=957131637714905\n",
      "https://archive.org/details/reportesdepartamentalescovid19bolivia_oruro_20220316 : https://facebook.com/story.php?story_fbid=334389798716684&id=100064370004661\n",
      "https://archive.org/details/reportesdepartamentalescovid19bolivia_potosi_20220316 : https://facebook.com/story.php?story_fbid=510771060509430&id=110681273851746\n",
      "https://archive.org/details/reportesdepartamentalescovid19bolivia_tarija_20220316 : https://facebook.com/story.php?story_fbid=1029975194297824&id=396941987601151\n",
      "https://archive.org/details/reportesdepartamentalescovid19bolivia_chuquisaca_20220316 : https://facebook.com/story.php?story_fbid=805189057551182&id=108534767216618\n",
      "https://archive.org/details/reportesdepartamentalescovid19bolivia_beni_20220316 : https://facebook.com/story.php?story_fbid=1921014488106324&id=517750071766113\n",
      "https://archive.org/details/reportesdepartamentalescovid19bolivia_pando_20220316 : https://facebook.com/story.php?story_fbid=1697639620583466&id=132468257100618\n",
      "https://archive.org/details/reportesdepartamentalescovid19bolivia_bolivia_20220316 : https://twitter.com/ahora_elpueblo/status/1504284549987155975\n",
      "https://archive.org/details/reportesdepartamentalescovid19bolivia_la_paz_20220317 : https://facebook.com/story.php?story_fbid=5143872765633714&id=1140266705994360\n",
      "https://archive.org/details/reportesdepartamentalescovid19bolivia_cochabamba_20220317 : https://facebook.com/story.php?story_fbid=4940288169399212&id=957131637714905\n",
      "https://archive.org/details/reportesdepartamentalescovid19bolivia_oruro_20220317 : https://facebook.com/story.php?story_fbid=335036295318701&id=100064370004661\n",
      "https://archive.org/details/reportesdepartamentalescovid19bolivia_potosi_20220317 : https://facebook.com/story.php?story_fbid=511714150415121&id=110681273851746\n",
      "https://archive.org/details/reportesdepartamentalescovid19bolivia_tarija_20220317 : https://facebook.com/story.php?story_fbid=1030646610897349&id=396941987601151\n",
      "https://archive.org/details/reportesdepartamentalescovid19bolivia_chuquisaca_20220317 : https://facebook.com/story.php?story_fbid=806271030776318&id=108534767216618\n",
      "https://archive.org/details/reportesdepartamentalescovid19bolivia_beni_20220317 : https://facebook.com/story.php?story_fbid=1921833358024437&id=517750071766113\n",
      "https://archive.org/details/reportesdepartamentalescovid19bolivia_pando_20220317 : https://facebook.com/story.php?story_fbid=1698362917177803&id=132468257100618\n",
      "https://archive.org/details/reportesdepartamentalescovid19bolivia_bolivia_20220317 : https://twitter.com/ahora_elpueblo/status/1504640003451854849\n",
      "https://archive.org/details/reportesdepartamentalescovid19bolivia_la_paz_20220318 : https://facebook.com/story.php?story_fbid=5146535452034112&id=1140266705994360\n",
      "https://archive.org/details/reportesdepartamentalescovid19bolivia_cochabamba_20220318 : https://facebook.com/story.php?story_fbid=4943122835782412&id=957131637714905\n",
      "https://archive.org/details/reportesdepartamentalescovid19bolivia_oruro_20220318 : https://facebook.com/story.php?story_fbid=335686535253677&id=100064370004661\n",
      "https://archive.org/details/reportesdepartamentalescovid19bolivia_potosi_20220318 : https://facebook.com/story.php?story_fbid=512034627049740&id=110681273851746\n",
      "https://archive.org/details/reportesdepartamentalescovid19bolivia_tarija_20220318 : https://facebook.com/story.php?story_fbid=1031455307483146&id=396941987601151\n",
      "https://archive.org/details/reportesdepartamentalescovid19bolivia_chuquisaca_20220318 : https://facebook.com/story.php?story_fbid=806626390740782&id=108534767216618\n",
      "https://archive.org/details/reportesdepartamentalescovid19bolivia_beni_20220318 : https://facebook.com/story.php?story_fbid=1923112557896517&id=517750071766113\n",
      "https://archive.org/details/reportesdepartamentalescovid19bolivia_pando_20220318 : https://facebook.com/story.php?story_fbid=1699097240437704&id=132468257100618\n",
      "https://archive.org/details/reportesdepartamentalescovid19bolivia_bolivia_20220318 : https://twitter.com/ahora_elpueblo/status/1504995014929170434\n",
      "https://archive.org/details/reportesdepartamentalescovid19bolivia_la_paz_20220319 : https://facebook.com/story.php?story_fbid=5148931131794544&id=1140266705994360\n",
      "https://archive.org/details/reportesdepartamentalescovid19bolivia_cochabamba_20220319 : https://facebook.com/story.php?story_fbid=4946708468757182&id=957131637714905\n",
      "https://archive.org/details/reportesdepartamentalescovid19bolivia_oruro_20220319 : https://facebook.com/story.php?story_fbid=336310118524652&id=100064370004661\n",
      "https://archive.org/details/reportesdepartamentalescovid19bolivia_potosi_20220319 : https://facebook.com/story.php?story_fbid=512582583661611&id=110681273851746\n",
      "https://archive.org/details/reportesdepartamentalescovid19bolivia_tarija_20220319 : https://facebook.com/story.php?story_fbid=1032050674090276&id=396941987601151\n",
      "https://archive.org/details/reportesdepartamentalescovid19bolivia_chuquisaca_20220319 : https://facebook.com/story.php?story_fbid=807301584006596&id=108534767216618\n",
      "https://archive.org/details/reportesdepartamentalescovid19bolivia_beni_20220319 : https://facebook.com/story.php?story_fbid=1923375444536895&id=517750071766113\n",
      "https://archive.org/details/reportesdepartamentalescovid19bolivia_pando_20220319 : https://facebook.com/story.php?story_fbid=1699765840370844&id=132468257100618\n",
      "https://archive.org/details/reportesdepartamentalescovid19bolivia_bolivia_20220319 : https://twitter.com/ahora_elpueblo/status/1505354237198352384\n",
      "https://archive.org/details/reportesdepartamentalescovid19bolivia_la_paz_20220320 : https://facebook.com/story.php?story_fbid=5151398174881173&id=1140266705994360\n",
      "https://archive.org/details/reportesdepartamentalescovid19bolivia_cochabamba_20220320 : https://twitter.com/LosTiemposBol/status/1505711430322032641\n",
      "https://archive.org/details/reportesdepartamentalescovid19bolivia_oruro_20220320 : https://facebook.com/story.php?story_fbid=336901571798840&id=100064370004661\n",
      "https://archive.org/details/reportesdepartamentalescovid19bolivia_potosi_20220320 : https://facebook.com/story.php?story_fbid=513520496901153&id=110681273851746\n",
      "https://archive.org/details/reportesdepartamentalescovid19bolivia_tarija_20220320 : https://facebook.com/story.php?story_fbid=1032702017358475&id=396941987601151\n",
      "https://archive.org/details/reportesdepartamentalescovid19bolivia_chuquisaca_20220320 : https://facebook.com/story.php?story_fbid=807988977271190&id=108534767216618\n",
      "https://archive.org/details/reportesdepartamentalescovid19bolivia_beni_20220320 : https://facebook.com/story.php?story_fbid=1924039091137197&id=517750071766113\n",
      "https://archive.org/details/reportesdepartamentalescovid19bolivia_pando_20220320 : https://facebook.com/story.php?story_fbid=1700478736966221&id=132468257100618\n",
      "https://archive.org/details/reportesdepartamentalescovid19bolivia_bolivia_20220320 : https://twitter.com/ahora_elpueblo/status/1505729822764449797\n"
     ]
    }
   ],
   "source": [
    "credenciales = load_credenciales()\n",
    "tw = auth_twitter()\n",
    "meta = filtrar_nuevos(read_metadata())\n",
    "archivar(meta)"
   ]
  },
  {
   "cell_type": "code",
   "execution_count": 5,
   "id": "019b534b-0fc0-4eee-b6c2-49114b0622f0",
   "metadata": {
    "execution": {
     "iopub.execute_input": "2022-03-22T01:55:23.251949Z",
     "iopub.status.busy": "2022-03-22T01:55:23.251634Z",
     "iopub.status.idle": "2022-03-22T01:55:23.284428Z",
     "shell.execute_reply": "2022-03-22T01:55:23.283062Z",
     "shell.execute_reply.started": "2022-03-22T01:55:23.251922Z"
    },
    "tags": []
   },
   "outputs": [],
   "source": [
    "def consolidar():\n",
    "    \"\"\"\n",
    "    Sincroniza sheets\n",
    "    \"\"\"\n",
    "    \n",
    "    def download_sheet(url, filename):\n",
    "        datos = requests.get(url).text\n",
    "        datos = datos.replace('\\r','')\n",
    "        with open(filename, 'w+') as f:\n",
    "            f.write(datos)\n",
    "            \n",
    "    for url, filename in zip([metadatos_url, datos_url], ['metadata.csv', 'descartados.csv']):\n",
    "        download_sheet(url, filename)\n",
    "\n",
    "def format_descartados(dep_cols):\n",
    "    \n",
    "    start = '2022-01-21'\n",
    "    descartados = pd.read_csv('descartados.csv', parse_dates=['Fecha'], index_col=['Fecha'])\n",
    "\n",
    "    # Llenar el departamento faltante (usualmente Santa Cruz)\n",
    "    for fecha, row in descartados.loc[start:].iterrows():\n",
    "        if row[dep_cols].isna().sum() == 1:\n",
    "            missing = row[\"Bolivia\"] - row[dep_cols].sum()\n",
    "            if missing > 0:\n",
    "                row.loc[row[row.isna()].index] = missing\n",
    "    \n",
    "    # Descartar datos cuando el valor de descartados diarios es menor a 0\n",
    "    for dep in dep_cols:\n",
    "        descartados[dep].loc[descartados[dep].diff() < 0] = None\n",
    "    \n",
    "    return descartados\n",
    "\n",
    "# def format_pruebas(casos, descartados, dep_cols):\n",
    "    # pruebas = (casos[dep_cols] + descartados[dep_cols].interpolate()).dropna()\n",
    "    # empty = pd.DataFrame(index=pd.date_range(pruebas.index.min(), pruebas.index.max()), columns=dep_cols)\n",
    "    # pruebas = pd.concat([pruebas, empty])\n",
    "    # pruebas = pruebas[~pruebas.index.duplicated()].sort_index()\n",
    "    # pruebas = pruebas.astype(float).interpolate().diff().dropna().astype(int)\n",
    "    # return pruebas\n",
    "\n",
    "def format_results():\n",
    "    dep_cols = ['La Paz', 'Cochabamba', 'Santa Cruz', 'Oruro', 'Potosi', 'Tarija', 'Chuquisaca', 'Beni', 'Pando']\n",
    "    descartados = format_descartados(dep_cols)\n",
    "    casos = pd.read_csv(casos_acumulados_url, parse_dates=[0], index_col=0)\n",
    "    casos = casos.rename(columns={'Potosí':'Potosi'})\n",
    "    common_index = casos.index.intersection(descartados.index)\n",
    "    # pruebas = format_pruebas(casos, descartados, dep_cols)\n",
    "    pruebas = (casos.loc[common_index][dep_cols] + descartados.loc[common_index][dep_cols]).diff()\n",
    "    # positividad = (casos.diff().dropna() / pruebas).dropna()\n",
    "    positividad = casos.loc[common_index][dep_cols].diff() / pruebas.loc[common_index][dep_cols]\n",
    "    return descartados, pruebas, positividad\n",
    "\n",
    "def save_results(descartados, pruebas, positividad):\n",
    "    descartados.to_csv('descartados.csv', float_format=\"%.0f\")\n",
    "    pruebas.to_csv('pruebas.csv', float_format=\"%.0f\")\n",
    "    positividad.to_csv('positividad.csv', float_format=\"%.3f\")"
   ]
  },
  {
   "cell_type": "code",
   "execution_count": 6,
   "id": "a4a89bbc-a21e-4d98-b820-f28666f83156",
   "metadata": {
    "execution": {
     "iopub.execute_input": "2022-03-22T01:55:24.961952Z",
     "iopub.status.busy": "2022-03-22T01:55:24.961332Z",
     "iopub.status.idle": "2022-03-22T01:55:28.748217Z",
     "shell.execute_reply": "2022-03-22T01:55:28.747540Z",
     "shell.execute_reply.started": "2022-03-22T01:55:24.961912Z"
    },
    "tags": []
   },
   "outputs": [],
   "source": [
    "consolidar()\n",
    "descartados, pruebas, positividad = format_results()\n",
    "save_results(descartados, pruebas, positividad)"
   ]
  },
  {
   "cell_type": "code",
   "execution_count": null,
   "id": "c437d609-51b9-4162-944e-d9c5783e55cb",
   "metadata": {},
   "outputs": [],
   "source": [
    "descartados.taiL()"
   ]
  },
  {
   "cell_type": "code",
   "execution_count": 117,
   "id": "45fe6a5c-4fda-424a-9dc4-e222ee3ebc09",
   "metadata": {
    "execution": {
     "iopub.execute_input": "2022-03-03T01:49:09.224359Z",
     "iopub.status.busy": "2022-03-03T01:49:09.223969Z",
     "iopub.status.idle": "2022-03-03T01:49:09.232506Z",
     "shell.execute_reply": "2022-03-03T01:49:09.231594Z",
     "shell.execute_reply.started": "2022-03-03T01:49:09.224319Z"
    },
    "tags": []
   },
   "outputs": [],
   "source": [
    "def myplot(serie):\n",
    "    f, ax = plt.subplots(1,1,figsize=(10,6))\n",
    "    ax.scatter(serie.index, serie, s=4, alpha=.5)\n",
    "    ax.plot(serie.rolling(3, center=True).mean(), alpha=.7)\n",
    "    ax.grid()"
   ]
  },
  {
   "cell_type": "code",
   "execution_count": 12,
   "id": "4da4fcc2-b5a9-4a6f-a61b-d9ff5adc2cd6",
   "metadata": {
    "execution": {
     "iopub.execute_input": "2022-03-14T23:44:21.866981Z",
     "iopub.status.busy": "2022-03-14T23:44:21.866328Z",
     "iopub.status.idle": "2022-03-14T23:44:21.873165Z",
     "shell.execute_reply": "2022-03-14T23:44:21.871811Z",
     "shell.execute_reply.started": "2022-03-14T23:44:21.866946Z"
    },
    "tags": []
   },
   "outputs": [],
   "source": [
    "def update():\n",
    "    \"\"\"\n",
    "    Actualiza el repositorio\n",
    "    \"\"\"\n",
    "    \n",
    "    last_update = pd.read_csv('metadata.csv', parse_dates=['fecha']).fecha.max()\n",
    "    repository = Repo('.')\n",
    "    repository.git.add(all=True)\n",
    "    repository.index.commit(last_update.strftime('%Y-%m-%d'))\n",
    "    repository.remotes.origin.push()"
   ]
  },
  {
   "cell_type": "code",
   "execution_count": 13,
   "id": "f7d83587-5f47-4131-afd1-e771fbbbce11",
   "metadata": {
    "execution": {
     "iopub.execute_input": "2022-03-14T23:44:22.922215Z",
     "iopub.status.busy": "2022-03-14T23:44:22.921829Z",
     "iopub.status.idle": "2022-03-14T23:44:40.722857Z",
     "shell.execute_reply": "2022-03-14T23:44:40.721838Z",
     "shell.execute_reply.started": "2022-03-14T23:44:22.922177Z"
    },
    "tags": []
   },
   "outputs": [],
   "source": [
    "update()"
   ]
  }
 ],
 "metadata": {
  "citation-manager": {
   "items": {}
  },
  "kernelspec": {
   "display_name": "Python 3 (ipykernel)",
   "language": "python",
   "name": "python3"
  },
  "language_info": {
   "codemirror_mode": {
    "name": "ipython",
    "version": 3
   },
   "file_extension": ".py",
   "mimetype": "text/x-python",
   "name": "python",
   "nbconvert_exporter": "python",
   "pygments_lexer": "ipython3",
   "version": "3.9.10"
  },
  "widgets": {
   "application/vnd.jupyter.widget-state+json": {
    "state": {},
    "version_major": 2,
    "version_minor": 0
   }
  }
 },
 "nbformat": 4,
 "nbformat_minor": 5
}
