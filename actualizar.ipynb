{
 "cells": [
  {
   "cell_type": "code",
   "execution_count": 2,
   "id": "ecee563e-6ae0-46f8-84f3-30730ddcaeaf",
   "metadata": {
    "execution": {
     "iopub.execute_input": "2022-02-25T15:48:36.227570Z",
     "iopub.status.busy": "2022-02-25T15:48:36.225906Z",
     "iopub.status.idle": "2022-02-25T15:48:37.986562Z",
     "shell.execute_reply": "2022-02-25T15:48:37.985659Z",
     "shell.execute_reply.started": "2022-02-25T15:48:36.227450Z"
    },
    "tags": []
   },
   "outputs": [],
   "source": [
    "from facebook_scraper import get_posts\n",
    "import json\n",
    "import pandas as pd\n",
    "import twitter\n",
    "import internetarchive as ia\n",
    "import requests\n",
    "import os\n",
    "import datetime as dt\n",
    "from git import Repo\n",
    "import warnings\n",
    "import locale\n",
    "locale.setlocale(locale.LC_TIME, 'es_US.UTF8');"
   ]
  },
  {
   "cell_type": "code",
   "execution_count": 3,
   "id": "ce5e35c9-4c6f-46c8-9c35-1d53bde03ba9",
   "metadata": {
    "execution": {
     "iopub.execute_input": "2022-02-25T15:48:38.809246Z",
     "iopub.status.busy": "2022-02-25T15:48:38.808426Z",
     "iopub.status.idle": "2022-02-25T15:48:38.817561Z",
     "shell.execute_reply": "2022-02-25T15:48:38.816083Z",
     "shell.execute_reply.started": "2022-02-25T15:48:38.809193Z"
    },
    "tags": []
   },
   "outputs": [],
   "source": [
    "datos_url = \"https://docs.google.com/spreadsheets/d/e/2PACX-1vSYiPWLCf9_HWB51cIryodmVlDg4RQS_AeccuJjkz9xVtDx7Y5tfk9RaF94BrVdO5vakBo5dUktZawh/pub?gid=0&single=true&output=csv\"\n",
    "metadatos_url = \"https://docs.google.com/spreadsheets/d/e/2PACX-1vSYiPWLCf9_HWB51cIryodmVlDg4RQS_AeccuJjkz9xVtDx7Y5tfk9RaF94BrVdO5vakBo5dUktZawh/pub?gid=1875795980&single=true&output=csv\"\n",
    "directory = 'reportes'\n",
    "casos_acumulados_url = 'https://raw.githubusercontent.com/sociedatos/covid19-bo-casos_por_departamento/master/confirmados_acumulados.csv'"
   ]
  },
  {
   "cell_type": "code",
   "execution_count": 4,
   "id": "927bd168-7a78-42d9-9636-9c7f2eaa5e46",
   "metadata": {
    "execution": {
     "iopub.execute_input": "2022-02-25T15:48:39.851559Z",
     "iopub.status.busy": "2022-02-25T15:48:39.850818Z",
     "iopub.status.idle": "2022-02-25T15:48:39.891504Z",
     "shell.execute_reply": "2022-02-25T15:48:39.890384Z",
     "shell.execute_reply.started": "2022-02-25T15:48:39.851511Z"
    },
    "tags": []
   },
   "outputs": [],
   "source": [
    "def load_credenciales():\n",
    "    with open('credenciales.json', 'r') as f:\n",
    "        return json.load(f)\n",
    "    \n",
    "def auth_twitter():\n",
    "    \"Autenticar en Twitter para realizar consultas al API\"\n",
    "\n",
    "    return twitter.Api(consumer_key = credenciales['twitter']['consumer_key'],\n",
    "                       consumer_secret = credenciales['twitter']['consumer_secret'],\n",
    "                       access_token_key = credenciales['twitter']['access_token_key'],\n",
    "                       access_token_secret = credenciales['twitter']['access_token_secret'],\n",
    "                       tweet_mode='extended')\n",
    "\n",
    "def read_metadata():\n",
    "    \"Descarga los metadatos de google sheets, filtra sólo aquellos con una fuente y crea una columna de status_id\"\n",
    "\n",
    "    meta = pd.read_csv(metadatos_url, parse_dates=['fecha'], index_col=['fecha'])\n",
    "    meta = meta.dropna(subset=['La Paz', 'Cochabamba', 'Oruro'])\n",
    "    return meta\n",
    "\n",
    "def filtrar_nuevos(meta):\n",
    "    \"Devuelve sólo las entradas que no hayan sido descargadas previamente.\"\n",
    "\n",
    "    viejos = [dt.datetime.strptime(filename.split('.')[0].split('_')[-1], '%Y%m%d') for filename in os.listdir(directory)]\n",
    "    return meta[~meta.index.isin(viejos)]\n",
    "\n",
    "def create_identifier(dep, fecha):\n",
    "    return 'reportesdepartamentalescovid19bolivia_{}_{}'.format(dep.lower().replace(' ', '_'), fecha.strftime('%Y%m%d'))\n",
    "\n",
    "def save_image(url, filename):\n",
    "    with open(filename, 'wb') as f:\n",
    "        f.write(requests.get(url).content)\n",
    "\n",
    "def parse_facebook(url, dep, fecha):\n",
    "    with warnings.catch_warnings():\n",
    "        warnings.simplefilter(\"ignore\")\n",
    "        post = [post for post in get_posts(post_urls=[url], cookies='cookies.json')][0]\n",
    "    content_type = requests.head(post['images'][0]).headers.get('content-type')\n",
    "    is_image = 'image' in content_type\n",
    "    post_meta = {\n",
    "        \"source\": post['post_url'],\n",
    "        \"creator\": post['username'],\n",
    "        \"description\": post['text'],\n",
    "    }\n",
    "    identifier = create_identifier(dep, fecha)\n",
    "    filename = '{}/{}.jpeg'.format(directory, identifier)\n",
    "    if is_image:\n",
    "        save_image(post['images'][0], filename)\n",
    "    return is_image, post_meta, identifier, filename\n",
    "\n",
    "def parse_twitter(url, dep, fecha):\n",
    "    tweet_id = url.split('/')[-1]\n",
    "    statuses = tw.GetStatuses([tweet_id])\n",
    "    status = statuses[0]._json\n",
    "    post_meta = {\n",
    "        \"source\": url,\n",
    "        \"creator\": status['user']['name'],\n",
    "        \"description\": status['full_text']\n",
    "    }\n",
    "    identifier = create_identifier(dep, fecha)\n",
    "    media = status['entities']['media'][0]['media_url']\n",
    "    filename = '{}/{}.{}'.format(directory, identifier, media.split('.')[-1])\n",
    "    save_image(media, filename)\n",
    "    return True, post_meta, identifier, filename\n",
    "\n",
    "def upload_archive(dep, fecha, post_meta, identifier, filename):\n",
    "\n",
    "    ia_meta = {'title': 'Reporte de Covid-19 en {}, Bolivia para el {}'.format(dep, fecha.strftime('%-d de %B, %Y')),\n",
    "               'description': post_meta['description'],\n",
    "               'source': post_meta['source'],\n",
    "               'collection': 'covid19-bolivia-departamentos',\n",
    "               'creator': post_meta['creator'],\n",
    "               'mediatype': 'image',\n",
    "               'date': fecha.strftime('%Y-%m-%d')}\n",
    "\n",
    "    ia.upload(identifier,\n",
    "              filename,\n",
    "              metadata=ia_meta,\n",
    "              access_key = credenciales[\"ia\"][\"access\"],\n",
    "              secret_key = credenciales[\"ia\"][\"secret\"],\n",
    "              retries=4\n",
    "             )\n",
    "    print('https://archive.org/details/{} : {}'.format(identifier, post_meta['source']))\n",
    "\n",
    "def archivar(meta):\n",
    "    for fecha, row in meta.iterrows():\n",
    "        valores = row.to_dict()\n",
    "        for dep in valores.keys():\n",
    "            if type(valores[dep]) == str:\n",
    "                url = valores[dep]\n",
    "                if 'facebook.com' in url:\n",
    "                    is_image, post_meta, identifier, filename = parse_facebook(url, dep, fecha)\n",
    "                if 'twitter.com' in url:\n",
    "                    is_image, post_meta, identifier, filename = parse_twitter(url, dep, fecha)\n",
    "                if is_image:\n",
    "                    upload_archive(dep, fecha, post_meta, identifier, filename)"
   ]
  },
  {
   "cell_type": "code",
   "execution_count": 161,
   "id": "7339b0e5-d110-4f11-b1d5-2c8d5872142e",
   "metadata": {
    "execution": {
     "iopub.execute_input": "2022-03-08T21:38:43.851303Z",
     "iopub.status.busy": "2022-03-08T21:38:43.850698Z",
     "iopub.status.idle": "2022-03-08T22:02:20.288235Z",
     "shell.execute_reply": "2022-03-08T22:02:20.286386Z",
     "shell.execute_reply.started": "2022-03-08T21:38:43.851257Z"
    },
    "tags": []
   },
   "outputs": [
    {
     "name": "stdout",
     "output_type": "stream",
     "text": [
      "https://archive.org/details/reportesdepartamentalescovid19bolivia_la_paz_20220228 : https://facebook.com/story.php?story_fbid=5100070046680653&id=1140266705994360\n",
      "https://archive.org/details/reportesdepartamentalescovid19bolivia_cochabamba_20220228 : https://twitter.com/ExitoNoticias/status/1498477892740784130\n",
      "https://archive.org/details/reportesdepartamentalescovid19bolivia_oruro_20220228 : https://facebook.com/story.php?story_fbid=324426713046326&id=100064370004661\n",
      "https://archive.org/details/reportesdepartamentalescovid19bolivia_potosi_20220228 : https://facebook.com/story.php?story_fbid=501056898147513&id=110681273851746\n",
      "https://archive.org/details/reportesdepartamentalescovid19bolivia_tarija_20220228 : https://facebook.com/story.php?story_fbid=1019558328672844&id=396941987601151\n",
      "https://archive.org/details/reportesdepartamentalescovid19bolivia_chuquisaca_20220228 : https://facebook.com/story.php?story_fbid=794254885311266&id=108534767216618\n",
      "https://archive.org/details/reportesdepartamentalescovid19bolivia_beni_20220228 : https://facebook.com/story.php?story_fbid=1909536552587451&id=517750071766113\n",
      "https://archive.org/details/reportesdepartamentalescovid19bolivia_pando_20220228 : https://facebook.com/story.php?story_fbid=1686599205020841&id=132468257100618\n",
      "https://archive.org/details/reportesdepartamentalescovid19bolivia_bolivia_20220228 : https://twitter.com/ahora_elpueblo/status/1498473952833720324\n",
      "https://archive.org/details/reportesdepartamentalescovid19bolivia_la_paz_20220301 : https://twitter.com/noticiasfides/status/1498855774537273344\n",
      "https://archive.org/details/reportesdepartamentalescovid19bolivia_cochabamba_20220301 : https://twitter.com/ExitoNoticias/status/1498841211163103232\n",
      "https://archive.org/details/reportesdepartamentalescovid19bolivia_oruro_20220301 : https://facebook.com/story.php?story_fbid=325122176310113&id=100064370004661\n",
      "https://archive.org/details/reportesdepartamentalescovid19bolivia_potosi_20220301 : https://facebook.com/story.php?story_fbid=502211938032009&id=110681273851746\n",
      "https://archive.org/details/reportesdepartamentalescovid19bolivia_tarija_20220301 : https://facebook.com/story.php?story_fbid=1020302268598450&id=396941987601151\n",
      "https://archive.org/details/reportesdepartamentalescovid19bolivia_chuquisaca_20220301 : https://facebook.com/story.php?story_fbid=794935831909838&id=108534767216618\n",
      "https://archive.org/details/reportesdepartamentalescovid19bolivia_beni_20220301 : https://facebook.com/story.php?story_fbid=1910413952499711&id=517750071766113\n",
      "https://archive.org/details/reportesdepartamentalescovid19bolivia_pando_20220301 : https://facebook.com/story.php?story_fbid=1687114258302669&id=132468257100618\n",
      "https://archive.org/details/reportesdepartamentalescovid19bolivia_bolivia_20220301 : https://twitter.com/ahora_elpueblo/status/1498840656021790726\n",
      "https://archive.org/details/reportesdepartamentalescovid19bolivia_la_paz_20220302 : https://facebook.com/story.php?story_fbid=5103073723046952&id=1140266705994360\n",
      "https://archive.org/details/reportesdepartamentalescovid19bolivia_cochabamba_20220302 : https://facebook.com/story.php?story_fbid=4900215356739827&id=957131637714905\n",
      "https://archive.org/details/reportesdepartamentalescovid19bolivia_oruro_20220302 : https://facebook.com/story.php?story_fbid=325795229576141&id=100064370004661\n",
      "https://archive.org/details/reportesdepartamentalescovid19bolivia_potosi_20220302 : https://facebook.com/story.php?story_fbid=502444614675408&id=110681273851746\n",
      "https://archive.org/details/reportesdepartamentalescovid19bolivia_chuquisaca_20220302 : https://facebook.com/story.php?story_fbid=795672735169481&id=108534767216618\n",
      "https://archive.org/details/reportesdepartamentalescovid19bolivia_beni_20220302 : https://twitter.com/ExitoNoticias/status/1499189911542456322\n",
      "https://archive.org/details/reportesdepartamentalescovid19bolivia_pando_20220302 : https://facebook.com/story.php?story_fbid=1687823894898372&id=132468257100618\n",
      "https://archive.org/details/reportesdepartamentalescovid19bolivia_bolivia_20220302 : https://twitter.com/ahora_elpueblo/status/1499203809071058953\n",
      "https://archive.org/details/reportesdepartamentalescovid19bolivia_la_paz_20220303 : https://facebook.com/story.php?story_fbid=5105876339433357&id=1140266705994360\n",
      "https://archive.org/details/reportesdepartamentalescovid19bolivia_cochabamba_20220303 : https://facebook.com/story.php?story_fbid=4902859883142041&id=957131637714905\n",
      "https://archive.org/details/reportesdepartamentalescovid19bolivia_oruro_20220303 : https://facebook.com/story.php?story_fbid=326410579514606&id=100064370004661\n",
      "https://archive.org/details/reportesdepartamentalescovid19bolivia_potosi_20220303 : https://facebook.com/story.php?story_fbid=503057087947494&id=110681273851746\n",
      "https://archive.org/details/reportesdepartamentalescovid19bolivia_tarija_20220303 : https://facebook.com/story.php?story_fbid=1021589735136370&id=396941987601151\n",
      "https://archive.org/details/reportesdepartamentalescovid19bolivia_chuquisaca_20220303 : https://facebook.com/story.php?story_fbid=796358011767620&id=108534767216618\n",
      "https://archive.org/details/reportesdepartamentalescovid19bolivia_beni_20220303 : https://twitter.com/ExitoNoticias/status/1499556307313078279\n",
      "https://archive.org/details/reportesdepartamentalescovid19bolivia_pando_20220303 : https://facebook.com/story.php?story_fbid=1688547788159316&id=132468257100618\n",
      "https://archive.org/details/reportesdepartamentalescovid19bolivia_bolivia_20220303 : https://twitter.com/ahora_elpueblo/status/1499578034814394368\n",
      "https://archive.org/details/reportesdepartamentalescovid19bolivia_la_paz_20220304 : https://facebook.com/story.php?story_fbid=5108720615815596&id=1140266705994360\n",
      "https://archive.org/details/reportesdepartamentalescovid19bolivia_cochabamba_20220304 : https://facebook.com/story.php?story_fbid=4905772942850735&id=957131637714905\n",
      "https://archive.org/details/reportesdepartamentalescovid19bolivia_oruro_20220304 : https://facebook.com/story.php?story_fbid=327013399454324&id=100064370004661\n",
      "https://archive.org/details/reportesdepartamentalescovid19bolivia_potosi_20220304 : https://facebook.com/story.php?story_fbid=503690764550793&id=110681273851746\n",
      "https://archive.org/details/reportesdepartamentalescovid19bolivia_tarija_20220304 : https://facebook.com/story.php?story_fbid=1022241988404478&id=396941987601151\n",
      "https://archive.org/details/reportesdepartamentalescovid19bolivia_chuquisaca_20220304 : https://facebook.com/story.php?story_fbid=797007058369382&id=108534767216618\n",
      "https://archive.org/details/reportesdepartamentalescovid19bolivia_beni_20220304 : https://twitter.com/ExitoNoticias/status/1499918602035736580\n",
      "https://archive.org/details/reportesdepartamentalescovid19bolivia_pando_20220304 : https://facebook.com/story.php?story_fbid=1689297098084385&id=132468257100618\n",
      "https://archive.org/details/reportesdepartamentalescovid19bolivia_bolivia_20220304 : https://twitter.com/ahora_elpueblo/status/1499950712830058502\n",
      "https://archive.org/details/reportesdepartamentalescovid19bolivia_la_paz_20220305 : https://facebook.com/story.php?story_fbid=5113725448648446&id=1140266705994360\n",
      "https://archive.org/details/reportesdepartamentalescovid19bolivia_cochabamba_20220305 : https://twitter.com/LosTiemposBol/status/1500257101570088960\n",
      "https://archive.org/details/reportesdepartamentalescovid19bolivia_oruro_20220305 : https://facebook.com/story.php?story_fbid=327616422727355&id=100064370004661\n",
      "https://archive.org/details/reportesdepartamentalescovid19bolivia_potosi_20220305 : https://facebook.com/story.php?story_fbid=504262327826970&id=110681273851746\n",
      "https://archive.org/details/reportesdepartamentalescovid19bolivia_tarija_20220305 : https://facebook.com/story.php?story_fbid=1022866631675347&id=396941987601151\n",
      "https://archive.org/details/reportesdepartamentalescovid19bolivia_chuquisaca_20220305 : https://facebook.com/story.php?story_fbid=797666268303461&id=108534767216618\n",
      "https://archive.org/details/reportesdepartamentalescovid19bolivia_beni_20220305 : https://facebook.com/story.php?story_fbid=1913216542219452&id=517750071766113\n",
      "https://archive.org/details/reportesdepartamentalescovid19bolivia_pando_20220305 : https://facebook.com/story.php?story_fbid=1689983671349061&id=132468257100618\n",
      "https://archive.org/details/reportesdepartamentalescovid19bolivia_bolivia_20220305 : https://twitter.com/ahora_elpueblo/status/1500294411011432449\n",
      "https://archive.org/details/reportesdepartamentalescovid19bolivia_la_paz_20220306 : https://facebook.com/story.php?story_fbid=5114038605283797&id=1140266705994360\n",
      "https://archive.org/details/reportesdepartamentalescovid19bolivia_cochabamba_20220306 : https://facebook.com/story.php?story_fbid=4912051222222907&id=957131637714905\n",
      "https://archive.org/details/reportesdepartamentalescovid19bolivia_oruro_20220306 : https://facebook.com/story.php?story_fbid=328243532664644&id=100064370004661\n",
      "https://archive.org/details/reportesdepartamentalescovid19bolivia_potosi_20220306 : https://facebook.com/story.php?story_fbid=504883784431491&id=110681273851746\n",
      "https://archive.org/details/reportesdepartamentalescovid19bolivia_tarija_20220306 : https://facebook.com/story.php?story_fbid=1023472804948063&id=396941987601151\n",
      "https://archive.org/details/reportesdepartamentalescovid19bolivia_chuquisaca_20220306 : https://facebook.com/story.php?story_fbid=798342264902528&id=108534767216618\n",
      "https://archive.org/details/reportesdepartamentalescovid19bolivia_beni_20220306 : https://facebook.com/story.php?story_fbid=1913928672148239&id=517750071766113\n",
      "https://archive.org/details/reportesdepartamentalescovid19bolivia_pando_20220306 : https://facebook.com/story.php?story_fbid=1690651087948986&id=132468257100618\n",
      "https://archive.org/details/reportesdepartamentalescovid19bolivia_bolivia_20220306 : https://twitter.com/ahora_elpueblo/status/1500667478510383107\n",
      "https://archive.org/details/reportesdepartamentalescovid19bolivia_la_paz_20220307 : https://facebook.com/story.php?story_fbid=5116804628340528&id=1140266705994360\n",
      "https://archive.org/details/reportesdepartamentalescovid19bolivia_cochabamba_20220307 : https://facebook.com/story.php?story_fbid=4913710745390288&id=957131637714905\n",
      "https://archive.org/details/reportesdepartamentalescovid19bolivia_oruro_20220307 : https://facebook.com/story.php?story_fbid=328845975937733&id=100064370004661\n",
      "https://archive.org/details/reportesdepartamentalescovid19bolivia_potosi_20220307 : https://facebook.com/story.php?story_fbid=505410037712199&id=110681273851746\n",
      "https://archive.org/details/reportesdepartamentalescovid19bolivia_tarija_20220307 : https://facebook.com/story.php?story_fbid=1024108354884508&id=396941987601151\n",
      "https://archive.org/details/reportesdepartamentalescovid19bolivia_chuquisaca_20220307 : https://facebook.com/story.php?story_fbid=799020594834695&id=108534767216618\n",
      "https://archive.org/details/reportesdepartamentalescovid19bolivia_beni_20220307 : https://facebook.com/story.php?story_fbid=1914589638748809&id=517750071766113\n",
      "https://archive.org/details/reportesdepartamentalescovid19bolivia_pando_20220307 : https://facebook.com/story.php?story_fbid=1691386484542113&id=132468257100618\n",
      "https://archive.org/details/reportesdepartamentalescovid19bolivia_bolivia_20220307 : https://twitter.com/ahora_elpueblo/status/1501009718495563777\n"
     ]
    }
   ],
   "source": [
    "credenciales = load_credenciales()\n",
    "tw = auth_twitter()\n",
    "meta = filtrar_nuevos(read_metadata())\n",
    "archivar(meta)"
   ]
  },
  {
   "cell_type": "code",
   "execution_count": 191,
   "id": "019b534b-0fc0-4eee-b6c2-49114b0622f0",
   "metadata": {
    "execution": {
     "iopub.execute_input": "2022-03-08T22:12:17.176186Z",
     "iopub.status.busy": "2022-03-08T22:12:17.175938Z",
     "iopub.status.idle": "2022-03-08T22:12:17.389727Z",
     "shell.execute_reply": "2022-03-08T22:12:17.387140Z",
     "shell.execute_reply.started": "2022-03-08T22:12:17.176156Z"
    },
    "tags": []
   },
   "outputs": [],
   "source": [
    "def consolidar():\n",
    "    \"\"\"\n",
    "    Sincroniza sheets\n",
    "    \"\"\"\n",
    "    \n",
    "    def download_sheet(url, filename):\n",
    "        datos = requests.get(url).text\n",
    "        datos = datos.replace('\\r','')\n",
    "        with open(filename, 'w+') as f:\n",
    "            f.write(datos)\n",
    "            \n",
    "    for url, filename in zip([metadatos_url, datos_url], ['metadata.csv', 'descartados.csv']):\n",
    "        download_sheet(url, filename)\n",
    "\n",
    "def format_descartados(dep_cols):\n",
    "    \n",
    "    start = '2022-01-21'\n",
    "    descartados = pd.read_csv('descartados.csv', parse_dates=['Fecha'], index_col=['Fecha'])\n",
    "\n",
    "    # Llenar el departamento faltante (usualmente Santa Cruz)\n",
    "    for fecha, row in descartados.loc[start:].iterrows():\n",
    "        if row[dep_cols].isna().sum() == 1:\n",
    "            missing = row[\"Bolivia\"] - row[dep_cols].sum()\n",
    "            if missing > 0:\n",
    "                row.loc[row[row.isna()].index] = missing\n",
    "    \n",
    "    # Descartar datos cuando el valor de descartados diarios es menor a 0\n",
    "    for dep in dep_cols:\n",
    "        descartados[dep].loc[descartados[dep].diff() < 0] = None\n",
    "    \n",
    "    return descartados\n",
    "\n",
    "# def format_pruebas(casos, descartados, dep_cols):\n",
    "    # pruebas = (casos[dep_cols] + descartados[dep_cols].interpolate()).dropna()\n",
    "    # empty = pd.DataFrame(index=pd.date_range(pruebas.index.min(), pruebas.index.max()), columns=dep_cols)\n",
    "    # pruebas = pd.concat([pruebas, empty])\n",
    "    # pruebas = pruebas[~pruebas.index.duplicated()].sort_index()\n",
    "    # pruebas = pruebas.astype(float).interpolate().diff().dropna().astype(int)\n",
    "    # return pruebas\n",
    "\n",
    "def format_results():\n",
    "    dep_cols = ['La Paz', 'Cochabamba', 'Santa Cruz', 'Oruro', 'Potosi', 'Tarija', 'Chuquisaca', 'Beni', 'Pando']\n",
    "    descartados = format_descartados(dep_cols)\n",
    "    casos = pd.read_csv(casos_acumulados_url, parse_dates=[0], index_col=0)\n",
    "    casos = casos.rename(columns={'Potosí':'Potosi'})\n",
    "    common_index = casos.index.intersection(descartados.index)\n",
    "    # pruebas = format_pruebas(casos, descartados, dep_cols)\n",
    "    pruebas = (casos.loc[common_index][dep_cols] + descartados.loc[common_index][dep_cols]).diff()\n",
    "    # positividad = (casos.diff().dropna() / pruebas).dropna()\n",
    "    positividad = casos.loc[common_index][dep_cols].diff() / pruebas.loc[common_index][dep_cols]\n",
    "    return descartados, pruebas, positividad\n",
    "\n",
    "def save_results(descartados, pruebas, positividad):\n",
    "    descartados.to_csv('descartados.csv', float_format=\"%.0f\")\n",
    "    pruebas.to_csv('pruebas.csv', float_format=\"%.0f\")\n",
    "    positividad.to_csv('positividad.csv', float_format=\"%.3f\")"
   ]
  },
  {
   "cell_type": "code",
   "execution_count": 192,
   "id": "a4a89bbc-a21e-4d98-b820-f28666f83156",
   "metadata": {
    "execution": {
     "iopub.execute_input": "2022-03-08T22:12:19.052666Z",
     "iopub.status.busy": "2022-03-08T22:12:19.052222Z",
     "iopub.status.idle": "2022-03-08T22:12:22.123661Z",
     "shell.execute_reply": "2022-03-08T22:12:22.123013Z",
     "shell.execute_reply.started": "2022-03-08T22:12:19.052623Z"
    },
    "tags": []
   },
   "outputs": [],
   "source": [
    "consolidar()\n",
    "descartados, pruebas, positividad = format_results()\n",
    "save_results(descartados, pruebas, positividad)"
   ]
  },
  {
   "cell_type": "code",
   "execution_count": 117,
   "id": "45fe6a5c-4fda-424a-9dc4-e222ee3ebc09",
   "metadata": {
    "execution": {
     "iopub.execute_input": "2022-03-03T01:49:09.224359Z",
     "iopub.status.busy": "2022-03-03T01:49:09.223969Z",
     "iopub.status.idle": "2022-03-03T01:49:09.232506Z",
     "shell.execute_reply": "2022-03-03T01:49:09.231594Z",
     "shell.execute_reply.started": "2022-03-03T01:49:09.224319Z"
    },
    "tags": []
   },
   "outputs": [],
   "source": [
    "def myplot(serie):\n",
    "    f, ax = plt.subplots(1,1,figsize=(10,6))\n",
    "    ax.scatter(serie.index, serie, s=4, alpha=.5)\n",
    "    ax.plot(serie.rolling(3, center=True).mean(), alpha=.7)\n",
    "    ax.grid()"
   ]
  },
  {
   "cell_type": "code",
   "execution_count": 9,
   "id": "4da4fcc2-b5a9-4a6f-a61b-d9ff5adc2cd6",
   "metadata": {
    "execution": {
     "iopub.execute_input": "2022-02-25T16:02:59.523510Z",
     "iopub.status.busy": "2022-02-25T16:02:59.522679Z",
     "iopub.status.idle": "2022-02-25T16:02:59.530627Z",
     "shell.execute_reply": "2022-02-25T16:02:59.529464Z",
     "shell.execute_reply.started": "2022-02-25T16:02:59.523450Z"
    },
    "tags": []
   },
   "outputs": [],
   "source": [
    "def update():\n",
    "    \"\"\"\n",
    "    Actualiza el repositorio\n",
    "    \"\"\"\n",
    "    \n",
    "    last_update = pd.read_csv('metadata.csv', parse_dates=['fecha']).fecha.max()\n",
    "    repository = Repo('.')\n",
    "    repository.git.add(all=True)\n",
    "    repository.index.commit(last_update.strftime('%Y-%m-%d'))\n",
    "    repository.remotes.origin.push()"
   ]
  },
  {
   "cell_type": "code",
   "execution_count": 145,
   "id": "f7d83587-5f47-4131-afd1-e771fbbbce11",
   "metadata": {
    "execution": {
     "iopub.execute_input": "2022-03-03T02:01:41.215951Z",
     "iopub.status.busy": "2022-03-03T02:01:41.215122Z",
     "iopub.status.idle": "2022-03-03T02:01:49.941391Z",
     "shell.execute_reply": "2022-03-03T02:01:49.939819Z",
     "shell.execute_reply.started": "2022-03-03T02:01:41.215888Z"
    },
    "tags": []
   },
   "outputs": [],
   "source": [
    "update()"
   ]
  }
 ],
 "metadata": {
  "citation-manager": {
   "items": {}
  },
  "kernelspec": {
   "display_name": "Python 3 (ipykernel)",
   "language": "python",
   "name": "python3"
  },
  "language_info": {
   "codemirror_mode": {
    "name": "ipython",
    "version": 3
   },
   "file_extension": ".py",
   "mimetype": "text/x-python",
   "name": "python",
   "nbconvert_exporter": "python",
   "pygments_lexer": "ipython3",
   "version": "3.9.10"
  },
  "widgets": {
   "application/vnd.jupyter.widget-state+json": {
    "state": {},
    "version_major": 2,
    "version_minor": 0
   }
  }
 },
 "nbformat": 4,
 "nbformat_minor": 5
}
