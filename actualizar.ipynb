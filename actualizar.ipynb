{
 "cells": [
  {
   "cell_type": "code",
   "execution_count": 1,
   "id": "ecee563e-6ae0-46f8-84f3-30730ddcaeaf",
   "metadata": {
    "execution": {
     "iopub.execute_input": "2022-04-12T22:49:28.801988Z",
     "iopub.status.busy": "2022-04-12T22:49:28.801447Z",
     "iopub.status.idle": "2022-04-12T22:49:30.411933Z",
     "shell.execute_reply": "2022-04-12T22:49:30.411015Z",
     "shell.execute_reply.started": "2022-04-12T22:49:28.801872Z"
    },
    "tags": []
   },
   "outputs": [],
   "source": [
    "from facebook_scraper import get_posts\n",
    "import json\n",
    "import pandas as pd\n",
    "import twitter\n",
    "import internetarchive as ia\n",
    "import requests\n",
    "import os\n",
    "import datetime as dt\n",
    "from git import Repo\n",
    "import warnings\n",
    "import locale\n",
    "locale.setlocale(locale.LC_TIME, 'es_US.UTF8');"
   ]
  },
  {
   "cell_type": "code",
   "execution_count": 2,
   "id": "ce5e35c9-4c6f-46c8-9c35-1d53bde03ba9",
   "metadata": {
    "execution": {
     "iopub.execute_input": "2022-04-12T22:49:30.948727Z",
     "iopub.status.busy": "2022-04-12T22:49:30.948358Z",
     "iopub.status.idle": "2022-04-12T22:49:30.953243Z",
     "shell.execute_reply": "2022-04-12T22:49:30.952408Z",
     "shell.execute_reply.started": "2022-04-12T22:49:30.948695Z"
    },
    "tags": []
   },
   "outputs": [],
   "source": [
    "datos_url = \"https://docs.google.com/spreadsheets/d/e/2PACX-1vSYiPWLCf9_HWB51cIryodmVlDg4RQS_AeccuJjkz9xVtDx7Y5tfk9RaF94BrVdO5vakBo5dUktZawh/pub?gid=0&single=true&output=csv\"\n",
    "metadatos_url = \"https://docs.google.com/spreadsheets/d/e/2PACX-1vSYiPWLCf9_HWB51cIryodmVlDg4RQS_AeccuJjkz9xVtDx7Y5tfk9RaF94BrVdO5vakBo5dUktZawh/pub?gid=1875795980&single=true&output=csv\"\n",
    "directory = 'reportes'\n",
    "casos_acumulados_url = 'https://raw.githubusercontent.com/sociedatos/covid19-bo-casos_por_departamento/master/confirmados_acumulados.csv'"
   ]
  },
  {
   "cell_type": "code",
   "execution_count": 3,
   "id": "927bd168-7a78-42d9-9636-9c7f2eaa5e46",
   "metadata": {
    "execution": {
     "iopub.execute_input": "2022-04-12T22:49:38.988275Z",
     "iopub.status.busy": "2022-04-12T22:49:38.987969Z",
     "iopub.status.idle": "2022-04-12T22:49:39.011608Z",
     "shell.execute_reply": "2022-04-12T22:49:39.010553Z",
     "shell.execute_reply.started": "2022-04-12T22:49:38.988243Z"
    },
    "tags": []
   },
   "outputs": [],
   "source": [
    "def load_credenciales():\n",
    "    with open('credenciales.json', 'r') as f:\n",
    "        return json.load(f)\n",
    "    \n",
    "def auth_twitter():\n",
    "    \"Autenticar en Twitter para realizar consultas al API\"\n",
    "\n",
    "    return twitter.Api(consumer_key = credenciales['twitter']['consumer_key'],\n",
    "                       consumer_secret = credenciales['twitter']['consumer_secret'],\n",
    "                       access_token_key = credenciales['twitter']['access_token_key'],\n",
    "                       access_token_secret = credenciales['twitter']['access_token_secret'],\n",
    "                       tweet_mode='extended')\n",
    "\n",
    "def read_metadata():\n",
    "    \"Descarga los metadatos de google sheets, filtra sólo aquellos con una fuente y crea una columna de status_id\"\n",
    "\n",
    "    meta = pd.read_csv(metadatos_url, parse_dates=['fecha'], index_col=['fecha'])\n",
    "    meta = meta.dropna(subset=['La Paz', 'Cochabamba', 'Oruro'])\n",
    "    return meta\n",
    "\n",
    "def filtrar_nuevos(meta):\n",
    "    \"Devuelve sólo las entradas que no hayan sido descargadas previamente.\"\n",
    "\n",
    "    viejos = [dt.datetime.strptime(filename.split('.')[0].split('_')[-1], '%Y%m%d') for filename in os.listdir(directory)]\n",
    "    return meta[~meta.index.isin(viejos)]\n",
    "\n",
    "def create_identifier(dep, fecha):\n",
    "    return 'reportesdepartamentalescovid19bolivia_{}_{}'.format(dep.lower().replace(' ', '_'), fecha.strftime('%Y%m%d'))\n",
    "\n",
    "def save_image(url, filename):\n",
    "    with open(filename, 'wb') as f:\n",
    "        f.write(requests.get(url).content)\n",
    "\n",
    "def parse_facebook(url, dep, fecha):\n",
    "    with warnings.catch_warnings():\n",
    "        warnings.simplefilter(\"ignore\")\n",
    "        post = [post for post in get_posts(post_urls=[url], cookies='cookies.json')][0]\n",
    "    content_type = requests.head(post['images'][0]).headers.get('content-type')\n",
    "    is_image = 'image' in content_type\n",
    "    post_meta = {\n",
    "        \"source\": post['post_url'],\n",
    "        \"creator\": post['username'],\n",
    "        \"description\": post['text'],\n",
    "    }\n",
    "    identifier = create_identifier(dep, fecha)\n",
    "    filename = '{}/{}.jpeg'.format(directory, identifier)\n",
    "    if is_image:\n",
    "        save_image(post['images'][0], filename)\n",
    "    return is_image, post_meta, identifier, filename\n",
    "\n",
    "def parse_twitter(url, dep, fecha):\n",
    "    tweet_id = url.split('/')[-1]\n",
    "    statuses = tw.GetStatuses([tweet_id])\n",
    "    status = statuses[0]._json\n",
    "    post_meta = {\n",
    "        \"source\": url,\n",
    "        \"creator\": status['user']['name'],\n",
    "        \"description\": status['full_text']\n",
    "    }\n",
    "    identifier = create_identifier(dep, fecha)\n",
    "    media = status['entities']['media'][0]['media_url']\n",
    "    filename = '{}/{}.{}'.format(directory, identifier, media.split('.')[-1])\n",
    "    save_image(media, filename)\n",
    "    return True, post_meta, identifier, filename\n",
    "\n",
    "def upload_archive(dep, fecha, post_meta, identifier, filename):\n",
    "\n",
    "    ia_meta = {'title': 'Reporte de Covid-19 en {}, Bolivia para el {}'.format(dep, fecha.strftime('%-d de %B, %Y')),\n",
    "               'description': post_meta['description'],\n",
    "               'source': post_meta['source'],\n",
    "               'collection': 'covid19-bolivia-departamentos',\n",
    "               'creator': post_meta['creator'],\n",
    "               'mediatype': 'image',\n",
    "               'date': fecha.strftime('%Y-%m-%d')}\n",
    "\n",
    "    ia.upload(identifier,\n",
    "              filename,\n",
    "              metadata=ia_meta,\n",
    "              access_key = credenciales[\"ia\"][\"access\"],\n",
    "              secret_key = credenciales[\"ia\"][\"secret\"],\n",
    "              retries=4\n",
    "             )\n",
    "    print('https://archive.org/details/{} : {}'.format(identifier, post_meta['source']))\n",
    "\n",
    "def archivar(meta):\n",
    "    for fecha, row in meta.iterrows():\n",
    "        valores = row.to_dict()\n",
    "        for dep in valores.keys():\n",
    "            if type(valores[dep]) == str:\n",
    "                url = valores[dep]\n",
    "                if 'facebook.com' in url:\n",
    "                    is_image, post_meta, identifier, filename = parse_facebook(url, dep, fecha)\n",
    "                if 'twitter.com' in url:\n",
    "                    is_image, post_meta, identifier, filename = parse_twitter(url, dep, fecha)\n",
    "                if is_image:\n",
    "                    upload_archive(dep, fecha, post_meta, identifier, filename)"
   ]
  },
  {
   "cell_type": "code",
   "execution_count": 6,
   "id": "7339b0e5-d110-4f11-b1d5-2c8d5872142e",
   "metadata": {
    "execution": {
     "iopub.execute_input": "2022-04-12T22:49:59.354765Z",
     "iopub.status.busy": "2022-04-12T22:49:59.354418Z",
     "iopub.status.idle": "2022-04-12T23:10:07.341630Z",
     "shell.execute_reply": "2022-04-12T23:10:07.340717Z",
     "shell.execute_reply.started": "2022-04-12T22:49:59.354730Z"
    },
    "tags": []
   },
   "outputs": [
    {
     "name": "stdout",
     "output_type": "stream",
     "text": [
      "https://archive.org/details/reportesdepartamentalescovid19bolivia_la_paz_20220404 : https://facebook.com/story.php?story_fbid=5191067837580873&id=1140266705994360\n",
      "https://archive.org/details/reportesdepartamentalescovid19bolivia_cochabamba_20220404 : https://facebook.com/story.php?story_fbid=4986734541421241&id=957131637714905\n",
      "https://archive.org/details/reportesdepartamentalescovid19bolivia_oruro_20220404 : https://facebook.com/story.php?story_fbid=346206097535054&id=100064370004661\n",
      "https://archive.org/details/reportesdepartamentalescovid19bolivia_potosi_20220404 : https://facebook.com/story.php?story_fbid=522205312699338&id=110681273851746\n",
      "https://archive.org/details/reportesdepartamentalescovid19bolivia_tarija_20220404 : https://facebook.com/story.php?story_fbid=1042388479723162&id=396941987601151\n",
      "https://archive.org/details/reportesdepartamentalescovid19bolivia_chuquisaca_20220404 : https://facebook.com/story.php?story_fbid=818468989556522&id=108534767216618\n",
      "https://archive.org/details/reportesdepartamentalescovid19bolivia_pando_20220404 : https://facebook.com/story.php?story_fbid=1710971955916899&id=132468257100618\n",
      "https://archive.org/details/reportesdepartamentalescovid19bolivia_bolivia_20220404 : https://twitter.com/notiAsolysombra/status/1511196344118964224\n",
      "https://archive.org/details/reportesdepartamentalescovid19bolivia_la_paz_20220405 : https://facebook.com/story.php?story_fbid=5193806200640370&id=1140266705994360\n",
      "https://archive.org/details/reportesdepartamentalescovid19bolivia_cochabamba_20220405 : https://facebook.com/story.php?story_fbid=4989314174496611&id=957131637714905\n",
      "https://archive.org/details/reportesdepartamentalescovid19bolivia_oruro_20220405 : https://facebook.com/story.php?story_fbid=346858544136476&id=100064370004661\n",
      "https://archive.org/details/reportesdepartamentalescovid19bolivia_potosi_20220405 : https://facebook.com/story.php?story_fbid=522846209301915&id=110681273851746\n",
      "https://archive.org/details/reportesdepartamentalescovid19bolivia_tarija_20220405 : https://facebook.com/story.php?story_fbid=1043017749660235&id=396941987601151\n",
      "https://archive.org/details/reportesdepartamentalescovid19bolivia_chuquisaca_20220405 : https://facebook.com/story.php?story_fbid=819637559439665&id=108534767216618\n",
      "https://archive.org/details/reportesdepartamentalescovid19bolivia_beni_20220405 : https://facebook.com/story.php?story_fbid=1935389956668777&id=517750071766113\n",
      "https://archive.org/details/reportesdepartamentalescovid19bolivia_pando_20220405 : https://facebook.com/story.php?story_fbid=1711798242500937&id=132468257100618\n",
      "https://archive.org/details/reportesdepartamentalescovid19bolivia_bolivia_20220405 : https://twitter.com/ahora_elpueblo/status/1511522147688136707\n",
      "https://archive.org/details/reportesdepartamentalescovid19bolivia_la_paz_20220406 : https://facebook.com/story.php?story_fbid=5209553852398938&id=1140266705994360\n",
      "https://archive.org/details/reportesdepartamentalescovid19bolivia_cochabamba_20220406 : https://twitter.com/LosTiemposBol/status/1511864853362790409\n",
      "https://archive.org/details/reportesdepartamentalescovid19bolivia_oruro_20220406 : https://facebook.com/story.php?story_fbid=347477474074583&id=100064370004661\n",
      "https://archive.org/details/reportesdepartamentalescovid19bolivia_tarija_20220406 : https://facebook.com/story.php?story_fbid=1043699166258760&id=396941987601151\n",
      "https://archive.org/details/reportesdepartamentalescovid19bolivia_chuquisaca_20220406 : https://facebook.com/story.php?story_fbid=819893466080741&id=108534767216618\n",
      "https://archive.org/details/reportesdepartamentalescovid19bolivia_beni_20220406 : https://facebook.com/story.php?story_fbid=1936043126603460&id=517750071766113\n",
      "https://archive.org/details/reportesdepartamentalescovid19bolivia_pando_20220406 : https://facebook.com/story.php?story_fbid=1712523405761754&id=132468257100618\n",
      "https://archive.org/details/reportesdepartamentalescovid19bolivia_bolivia_20220406 : https://twitter.com/ahora_elpueblo/status/1511886286033891329\n",
      "https://archive.org/details/reportesdepartamentalescovid19bolivia_la_paz_20220407 : https://facebook.com/story.php?story_fbid=5199234630097527&id=1140266705994360\n",
      "https://archive.org/details/reportesdepartamentalescovid19bolivia_cochabamba_20220407 : https://twitter.com/LosTiemposBol/status/1512230223068246037\n",
      "https://archive.org/details/reportesdepartamentalescovid19bolivia_oruro_20220407 : https://facebook.com/story.php?story_fbid=348096137346050&id=100064370004661\n",
      "https://archive.org/details/reportesdepartamentalescovid19bolivia_potosi_20220407 : https://facebook.com/story.php?story_fbid=523987752521094&id=110681273851746\n",
      "https://archive.org/details/reportesdepartamentalescovid19bolivia_tarija_20220407 : https://facebook.com/story.php?story_fbid=1044401272855216&id=396941987601151\n",
      "https://archive.org/details/reportesdepartamentalescovid19bolivia_chuquisaca_20220407 : https://facebook.com/story.php?story_fbid=820624296007658&id=108534767216618\n",
      "https://archive.org/details/reportesdepartamentalescovid19bolivia_beni_20220407 : https://facebook.com/story.php?story_fbid=1936827616525011&id=517750071766113\n",
      "https://archive.org/details/reportesdepartamentalescovid19bolivia_pando_20220407 : https://facebook.com/story.php?story_fbid=1713264959020932&id=132468257100618\n",
      "https://archive.org/details/reportesdepartamentalescovid19bolivia_bolivia_20220407 : https://twitter.com/ahora_elpueblo/status/1512246105953734661\n",
      "https://archive.org/details/reportesdepartamentalescovid19bolivia_la_paz_20220409 : https://facebook.com/story.php?story_fbid=5205665376121119&id=1140266705994360\n",
      "https://archive.org/details/reportesdepartamentalescovid19bolivia_cochabamba_20220409 : https://facebook.com/story.php?story_fbid=5000760520018643&id=957131637714905\n",
      "https://archive.org/details/reportesdepartamentalescovid19bolivia_oruro_20220409 : https://facebook.com/story.php?story_fbid=349416200547377&id=100064370004661\n",
      "https://archive.org/details/reportesdepartamentalescovid19bolivia_potosi_20220409 : https://facebook.com/story.php?story_fbid=525226399063896&id=110681273851746\n",
      "https://archive.org/details/reportesdepartamentalescovid19bolivia_tarija_20220409 : https://facebook.com/story.php?story_fbid=1045712349390775&id=396941987601151\n",
      "https://archive.org/details/reportesdepartamentalescovid19bolivia_beni_20220409 : https://facebook.com/story.php?story_fbid=1938277243046715&id=517750071766113\n",
      "https://archive.org/details/reportesdepartamentalescovid19bolivia_bolivia_20220409 : https://twitter.com/ahora_elpueblo/status/1512974078864355328\n",
      "https://archive.org/details/reportesdepartamentalescovid19bolivia_la_paz_20220410 : https://facebook.com/story.php?story_fbid=5207015435986113&id=1140266705994360\n",
      "https://archive.org/details/reportesdepartamentalescovid19bolivia_cochabamba_20220410 : https://twitter.com/LosTiemposBol/status/1513333289066582018\n",
      "https://archive.org/details/reportesdepartamentalescovid19bolivia_oruro_20220410 : https://facebook.com/story.php?story_fbid=350022813820049&id=100064370004661\n",
      "https://archive.org/details/reportesdepartamentalescovid19bolivia_potosi_20220410 : https://facebook.com/story.php?story_fbid=525867748999761&id=110681273851746\n",
      "https://archive.org/details/reportesdepartamentalescovid19bolivia_tarija_20220410 : https://facebook.com/story.php?story_fbid=1046357679326242&id=396941987601151\n",
      "https://archive.org/details/reportesdepartamentalescovid19bolivia_chuquisaca_20220410 : https://facebook.com/story.php?story_fbid=822763029127118&id=108534767216618\n",
      "https://archive.org/details/reportesdepartamentalescovid19bolivia_beni_20220410 : https://facebook.com/story.php?story_fbid=1939083929632713&id=517750071766113\n",
      "https://archive.org/details/reportesdepartamentalescovid19bolivia_pando_20220410 : https://facebook.com/story.php?story_fbid=1715394182141343&id=132468257100618\n",
      "https://archive.org/details/reportesdepartamentalescovid19bolivia_bolivia_20220410 : https://twitter.com/ahora_elpueblo/status/1513336862894706694\n",
      "https://archive.org/details/reportesdepartamentalescovid19bolivia_la_paz_20220411 : https://facebook.com/story.php?story_fbid=5209420019078988&id=1140266705994360\n",
      "https://archive.org/details/reportesdepartamentalescovid19bolivia_cochabamba_20220411 : https://twitter.com/LosTiemposBol/status/1513667309939875850\n",
      "https://archive.org/details/reportesdepartamentalescovid19bolivia_oruro_20220411 : https://facebook.com/story.php?story_fbid=350649003757430&id=100064370004661\n",
      "https://archive.org/details/reportesdepartamentalescovid19bolivia_potosi_20220411 : https://facebook.com/story.php?story_fbid=526462982273571&id=110681273851746\n",
      "https://archive.org/details/reportesdepartamentalescovid19bolivia_tarija_20220411 : https://facebook.com/story.php?story_fbid=1046976172597726&id=396941987601151\n",
      "https://archive.org/details/reportesdepartamentalescovid19bolivia_chuquisaca_20220411 : https://facebook.com/story.php?story_fbid=823445329058888&id=108534767216618\n",
      "https://archive.org/details/reportesdepartamentalescovid19bolivia_beni_20220411 : https://facebook.com/story.php?story_fbid=1939736002900839&id=517750071766113\n",
      "https://archive.org/details/reportesdepartamentalescovid19bolivia_pando_20220411 : https://facebook.com/story.php?story_fbid=1716076332073128&id=132468257100618\n",
      "https://archive.org/details/reportesdepartamentalescovid19bolivia_bolivia_20220411 : https://twitter.com/ahora_elpueblo/status/1513693827034488832\n"
     ]
    }
   ],
   "source": [
    "credenciales = load_credenciales()\n",
    "tw = auth_twitter()\n",
    "meta = filtrar_nuevos(read_metadata())\n",
    "archivar(meta)"
   ]
  },
  {
   "cell_type": "code",
   "execution_count": 7,
   "id": "019b534b-0fc0-4eee-b6c2-49114b0622f0",
   "metadata": {
    "execution": {
     "iopub.execute_input": "2022-04-12T23:11:17.969845Z",
     "iopub.status.busy": "2022-04-12T23:11:17.969401Z",
     "iopub.status.idle": "2022-04-12T23:11:17.998610Z",
     "shell.execute_reply": "2022-04-12T23:11:17.996919Z",
     "shell.execute_reply.started": "2022-04-12T23:11:17.969803Z"
    },
    "tags": []
   },
   "outputs": [],
   "source": [
    "def consolidar():\n",
    "    \"\"\"\n",
    "    Sincroniza sheets\n",
    "    \"\"\"\n",
    "    \n",
    "    def download_sheet(url, filename):\n",
    "        datos = requests.get(url).text\n",
    "        datos = datos.replace('\\r','')\n",
    "        with open(filename, 'w+') as f:\n",
    "            f.write(datos)\n",
    "            \n",
    "    for url, filename in zip([metadatos_url, datos_url], ['metadata.csv', 'descartados.csv']):\n",
    "        download_sheet(url, filename)\n",
    "\n",
    "def format_descartados(dep_cols):\n",
    "    \n",
    "    start = '2022-01-21'\n",
    "    descartados = pd.read_csv('descartados.csv', parse_dates=['Fecha'], index_col=['Fecha'])\n",
    "\n",
    "    # Llenar el departamento faltante (usualmente Santa Cruz)\n",
    "    for fecha, row in descartados.loc[start:].iterrows():\n",
    "        if row[dep_cols].isna().sum() == 1:\n",
    "            missing = row[\"Bolivia\"] - row[dep_cols].sum()\n",
    "            if missing > 0:\n",
    "                row.loc[row[row.isna()].index] = missing\n",
    "    \n",
    "    # Descartar datos cuando el valor de descartados diarios es menor a 0\n",
    "    for dep in dep_cols:\n",
    "        descartados[dep].loc[descartados[dep].diff() < 0] = None\n",
    "    \n",
    "    return descartados\n",
    "\n",
    "# def format_pruebas(casos, descartados, dep_cols):\n",
    "    # pruebas = (casos[dep_cols] + descartados[dep_cols].interpolate()).dropna()\n",
    "    # empty = pd.DataFrame(index=pd.date_range(pruebas.index.min(), pruebas.index.max()), columns=dep_cols)\n",
    "    # pruebas = pd.concat([pruebas, empty])\n",
    "    # pruebas = pruebas[~pruebas.index.duplicated()].sort_index()\n",
    "    # pruebas = pruebas.astype(float).interpolate().diff().dropna().astype(int)\n",
    "    # return pruebas\n",
    "\n",
    "def format_results():\n",
    "    dep_cols = ['La Paz', 'Cochabamba', 'Santa Cruz', 'Oruro', 'Potosi', 'Tarija', 'Chuquisaca', 'Beni', 'Pando']\n",
    "    descartados = format_descartados(dep_cols)\n",
    "    casos = pd.read_csv(casos_acumulados_url, parse_dates=[0], index_col=0)\n",
    "    casos = casos.rename(columns={'Potosí':'Potosi'})\n",
    "    common_index = casos.index.intersection(descartados.index)\n",
    "    # pruebas = format_pruebas(casos, descartados, dep_cols)\n",
    "    pruebas = (casos.loc[common_index][dep_cols] + descartados.loc[common_index][dep_cols]).diff()\n",
    "    # positividad = (casos.diff().dropna() / pruebas).dropna()\n",
    "    positividad = casos.loc[common_index][dep_cols].diff() / pruebas.loc[common_index][dep_cols]\n",
    "    \n",
    "    # Fix days where no tests were run\n",
    "    # for col in pruebas.columns:\n",
    "    #     for i in pruebas.loc[pruebas[col] == 0].index:\n",
    "    #         positividad.loc[i, col] = 0\n",
    "    \n",
    "    return descartados, pruebas, positividad\n",
    "\n",
    "def save_results(descartados, pruebas, positividad):\n",
    "    descartados.to_csv('descartados.csv', float_format=\"%.0f\")\n",
    "    pruebas.to_csv('pruebas.csv', float_format=\"%.0f\")\n",
    "    positividad.to_csv('positividad.csv', float_format=\"%.3f\")"
   ]
  },
  {
   "cell_type": "code",
   "execution_count": 8,
   "id": "a4a89bbc-a21e-4d98-b820-f28666f83156",
   "metadata": {
    "execution": {
     "iopub.execute_input": "2022-04-12T23:11:20.829954Z",
     "iopub.status.busy": "2022-04-12T23:11:20.829606Z",
     "iopub.status.idle": "2022-04-12T23:11:24.956642Z",
     "shell.execute_reply": "2022-04-12T23:11:24.955970Z",
     "shell.execute_reply.started": "2022-04-12T23:11:20.829919Z"
    },
    "tags": []
   },
   "outputs": [],
   "source": [
    "consolidar()\n",
    "descartados, pruebas, positividad = format_results()\n",
    "save_results(descartados, pruebas, positividad)"
   ]
  },
  {
   "cell_type": "code",
   "execution_count": 10,
   "id": "4da4fcc2-b5a9-4a6f-a61b-d9ff5adc2cd6",
   "metadata": {
    "execution": {
     "iopub.execute_input": "2022-04-05T02:15:21.876870Z",
     "iopub.status.busy": "2022-04-05T02:15:21.876176Z",
     "iopub.status.idle": "2022-04-05T02:15:21.882544Z",
     "shell.execute_reply": "2022-04-05T02:15:21.881563Z",
     "shell.execute_reply.started": "2022-04-05T02:15:21.876821Z"
    },
    "tags": []
   },
   "outputs": [],
   "source": [
    "def update():\n",
    "    \"\"\"\n",
    "    Actualiza el repositorio\n",
    "    \"\"\"\n",
    "    \n",
    "    last_update = pd.read_csv('metadata.csv', parse_dates=['fecha']).fecha.max()\n",
    "    repository = Repo('.')\n",
    "    repository.git.add(all=True)\n",
    "    repository.index.commit(last_update.strftime('%Y-%m-%d'))\n",
    "    repository.remotes.origin.push()"
   ]
  },
  {
   "cell_type": "code",
   "execution_count": 11,
   "id": "f7d83587-5f47-4131-afd1-e771fbbbce11",
   "metadata": {
    "execution": {
     "iopub.execute_input": "2022-04-05T02:15:23.923305Z",
     "iopub.status.busy": "2022-04-05T02:15:23.922871Z",
     "iopub.status.idle": "2022-04-05T02:15:40.590785Z",
     "shell.execute_reply": "2022-04-05T02:15:40.589672Z",
     "shell.execute_reply.started": "2022-04-05T02:15:23.923265Z"
    },
    "tags": []
   },
   "outputs": [],
   "source": [
    "update()"
   ]
  }
 ],
 "metadata": {
  "citation-manager": {
   "items": {}
  },
  "kernelspec": {
   "display_name": "Python 3 (ipykernel)",
   "language": "python",
   "name": "python3"
  },
  "language_info": {
   "codemirror_mode": {
    "name": "ipython",
    "version": 3
   },
   "file_extension": ".py",
   "mimetype": "text/x-python",
   "name": "python",
   "nbconvert_exporter": "python",
   "pygments_lexer": "ipython3",
   "version": "3.9.12"
  },
  "widgets": {
   "application/vnd.jupyter.widget-state+json": {
    "state": {},
    "version_major": 2,
    "version_minor": 0
   }
  }
 },
 "nbformat": 4,
 "nbformat_minor": 5
}
