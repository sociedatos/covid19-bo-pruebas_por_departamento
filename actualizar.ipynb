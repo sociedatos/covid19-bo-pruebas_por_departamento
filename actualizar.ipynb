{
 "cells": [
  {
   "cell_type": "code",
   "execution_count": 13,
   "id": "ecee563e-6ae0-46f8-84f3-30730ddcaeaf",
   "metadata": {
    "execution": {
     "iopub.execute_input": "2022-05-30T17:45:11.382341Z",
     "iopub.status.busy": "2022-05-30T17:45:11.381706Z",
     "iopub.status.idle": "2022-05-30T17:45:11.390259Z",
     "shell.execute_reply": "2022-05-30T17:45:11.389217Z",
     "shell.execute_reply.started": "2022-05-30T17:45:11.382287Z"
    },
    "tags": []
   },
   "outputs": [],
   "source": [
    "from facebook_scraper import get_posts\n",
    "import json\n",
    "import pandas as pd\n",
    "import twitter\n",
    "import internetarchive as ia\n",
    "import requests\n",
    "import os\n",
    "import datetime as dt\n",
    "from git import Repo\n",
    "import warnings\n",
    "from bs4 import BeautifulSoup\n",
    "import locale\n",
    "locale.setlocale(locale.LC_TIME, 'es_US.UTF8');"
   ]
  },
  {
   "cell_type": "code",
   "execution_count": 2,
   "id": "ce5e35c9-4c6f-46c8-9c35-1d53bde03ba9",
   "metadata": {
    "execution": {
     "iopub.execute_input": "2022-05-30T16:14:35.553097Z",
     "iopub.status.busy": "2022-05-30T16:14:35.552613Z",
     "iopub.status.idle": "2022-05-30T16:14:35.558374Z",
     "shell.execute_reply": "2022-05-30T16:14:35.557581Z",
     "shell.execute_reply.started": "2022-05-30T16:14:35.553039Z"
    },
    "tags": []
   },
   "outputs": [],
   "source": [
    "datos_url = \"https://docs.google.com/spreadsheets/d/e/2PACX-1vSYiPWLCf9_HWB51cIryodmVlDg4RQS_AeccuJjkz9xVtDx7Y5tfk9RaF94BrVdO5vakBo5dUktZawh/pub?gid=0&single=true&output=csv\"\n",
    "metadatos_url = \"https://docs.google.com/spreadsheets/d/e/2PACX-1vSYiPWLCf9_HWB51cIryodmVlDg4RQS_AeccuJjkz9xVtDx7Y5tfk9RaF94BrVdO5vakBo5dUktZawh/pub?gid=1875795980&single=true&output=csv\"\n",
    "directory = 'reportes'\n",
    "casos_diarios_url = 'https://raw.githubusercontent.com/sociedatos/covid19-bo-casos_por_departamento/master/confirmados_diarios.csv'"
   ]
  },
  {
   "cell_type": "code",
   "execution_count": 3,
   "id": "927bd168-7a78-42d9-9636-9c7f2eaa5e46",
   "metadata": {
    "execution": {
     "iopub.execute_input": "2022-05-30T16:14:36.398546Z",
     "iopub.status.busy": "2022-05-30T16:14:36.397882Z",
     "iopub.status.idle": "2022-05-30T16:14:36.439685Z",
     "shell.execute_reply": "2022-05-30T16:14:36.438961Z",
     "shell.execute_reply.started": "2022-05-30T16:14:36.398488Z"
    },
    "tags": []
   },
   "outputs": [],
   "source": [
    "def load_credenciales():\n",
    "    with open('credenciales.json', 'r') as f:\n",
    "        return json.load(f)\n",
    "    \n",
    "def auth_twitter():\n",
    "    \"Autenticar en Twitter para realizar consultas al API\"\n",
    "\n",
    "    return twitter.Api(consumer_key = credenciales['twitter']['consumer_key'],\n",
    "                       consumer_secret = credenciales['twitter']['consumer_secret'],\n",
    "                       access_token_key = credenciales['twitter']['access_token_key'],\n",
    "                       access_token_secret = credenciales['twitter']['access_token_secret'],\n",
    "                       tweet_mode='extended')\n",
    "\n",
    "def reportes_por_archivar():\n",
    "    sheet = pd.read_csv(metadatos_url, parse_dates=['fecha'], index_col=['fecha'])\n",
    "    tabla = pd.DataFrame([{'filename': '{}_{}'.format(i[1].lower().replace(' ', '_'), i[0].strftime('%Y%m%d')), 'url': row, 'dep': i[1], 'fecha': i[0]} for i, row in sheet.stack().iteritems()])\n",
    "    archivados = [filename.split('.')[0].replace('reportesdepartamentalescovid19bolivia_', '') for filename in os.listdir(directory)]\n",
    "    nuevos = pd.DataFrame([{'url': row['url'], 'dep': row['dep'], 'fecha': row['fecha']} for i, row in tabla.iterrows() if row['filename'] not in archivados])\n",
    "    return nuevos\n",
    "\n",
    "def create_identifier(dep, fecha):\n",
    "    return 'reportesdepartamentalescovid19bolivia_{}_{}'.format(dep.lower().replace(' ', '_'), fecha.strftime('%Y%m%d'))\n",
    "\n",
    "def save_image(url, filename):\n",
    "    with open(filename, 'wb') as f:\n",
    "        f.write(requests.get(url).content)\n",
    "\n",
    "def parse_facebook(url, dep, fecha):\n",
    "    with warnings.catch_warnings():\n",
    "        warnings.simplefilter(\"ignore\")\n",
    "        post = [post for post in get_posts(post_urls=[url], cookies='cookies.json')][0]\n",
    "    content_type = requests.head(post['images'][0]).headers.get('content-type')\n",
    "    is_image = 'image' in content_type\n",
    "    post_meta = {\n",
    "        \"source\": post['post_url'],\n",
    "        \"creator\": post['username'],\n",
    "        \"description\": post['text'],\n",
    "    }\n",
    "    identifier = create_identifier(dep, fecha)\n",
    "    filename = '{}/{}.jpeg'.format(directory, identifier)\n",
    "    if is_image:\n",
    "        save_image(post['images'][0], filename)\n",
    "    return is_image, post_meta, identifier, filename\n",
    "\n",
    "def parse_twitter(url, dep, fecha):\n",
    "    tweet_id = url.split('/')[-1]\n",
    "    statuses = tw.GetStatuses([tweet_id])\n",
    "    status = statuses[0]._json\n",
    "    post_meta = {\n",
    "        \"source\": url,\n",
    "        \"creator\": status['user']['name'],\n",
    "        \"description\": status['full_text']\n",
    "    }\n",
    "    identifier = create_identifier(dep, fecha)\n",
    "    media = status['entities']['media'][0]['media_url']\n",
    "    filename = '{}/{}.{}'.format(directory, identifier, media.split('.')[-1])\n",
    "    save_image(media, filename)\n",
    "    return True, post_meta, identifier, filename\n",
    "\n",
    "def upload_archive(dep, fecha, post_meta, identifier, filename):\n",
    "\n",
    "    ia_meta = {'title': 'Reporte de Covid-19 en {}, Bolivia para el {}'.format(dep, fecha.strftime('%-d de %B, %Y')),\n",
    "               'description': post_meta['description'],\n",
    "               'source': post_meta['source'],\n",
    "               'collection': 'covid19-bolivia-departamentos',\n",
    "               'creator': post_meta['creator'],\n",
    "               'mediatype': 'image',\n",
    "               'date': fecha.strftime('%Y-%m-%d')}\n",
    "\n",
    "    ia.upload(identifier,\n",
    "              filename,\n",
    "              metadata=ia_meta,\n",
    "              access_key = credenciales[\"ia\"][\"access\"],\n",
    "              secret_key = credenciales[\"ia\"][\"secret\"],\n",
    "              retries=4\n",
    "             )\n",
    "    print('https://archive.org/details/{} : {}'.format(identifier, post_meta['source']))\n",
    "\n",
    "def parse_unidoscontraelcovid(url, dep, fecha):\n",
    "    \n",
    "    identifier = create_identifier(dep, fecha)\n",
    "    post_meta = {\n",
    "        \"source\": url,\n",
    "        \"creator\": 'Unidos Contra el Covid',\n",
    "        \"description\": 'Reporte de Covid-19 en Bolivia para el {}'.format(fecha.strftime('%-d de %B, %Y')),\n",
    "    }\n",
    "    html = BeautifulSoup(requests.get(url).text, 'html.parser')\n",
    "    media = html.select('.post img')[0]['src']\n",
    "    filename = '{}/{}.{}'.format(directory, identifier, media.split('.')[-1])\n",
    "    save_image(media, filename)\n",
    "\n",
    "    return True, post_meta, identifier, filename\n",
    "    \n",
    "def archivar(enlaces):\n",
    "    for i, row in enlaces.iterrows():\n",
    "        try:\n",
    "            print('{} - {} - {}'.format(row['dep'], row['fecha'].strftime('%Y-%m-%d'), row['url']))\n",
    "            if 'facebook.com' in row['url']:\n",
    "                is_image, post_meta, identifier, filename = parse_facebook(row['url'], row['dep'], row['fecha'])\n",
    "            if 'twitter.com' in row['url']:\n",
    "                is_image, post_meta, identifier, filename = parse_twitter(row['url'], row['dep'], row['fecha'])\n",
    "            if 'unidoscontraelcovid.gob.bo' in row['url']:\n",
    "                is_image, post_meta, identifier, filename = parse_unidoscontraelcovid(row['url'], row['dep'], row['fecha'])\n",
    "                \n",
    "            if is_image:\n",
    "                upload_archive(row['dep'], row['fecha'], post_meta, identifier, filename)\n",
    "        except Exception as e:\n",
    "            print(e)"
   ]
  },
  {
   "cell_type": "code",
   "execution_count": 14,
   "id": "7339b0e5-d110-4f11-b1d5-2c8d5872142e",
   "metadata": {
    "execution": {
     "iopub.execute_input": "2022-05-30T17:45:14.836776Z",
     "iopub.status.busy": "2022-05-30T17:45:14.836014Z",
     "iopub.status.idle": "2022-05-30T17:49:25.015856Z",
     "shell.execute_reply": "2022-05-30T17:49:25.013468Z",
     "shell.execute_reply.started": "2022-05-30T17:45:14.836722Z"
    },
    "tags": []
   },
   "outputs": [
    {
     "name": "stdout",
     "output_type": "stream",
     "text": [
      "Beni - 2022-02-27 - https://www.facebook.com/SedesBeni2021/posts/1908896469318126\n",
      "Content Not Found\n",
      "Beni - 2022-03-31 - https://www.facebook.com/SedesBeni2021/posts/1931815503692889\n",
      "Content Not Found\n",
      "Chuquisaca - 2022-04-08 - https://www.facebook.com/SEDESCh/posts/82129532260722\n",
      "500 Server Error: Internal Server Error for url: https://m.facebook.com/SEDESCh/posts/82129532260722?locale=en_US\n",
      "Pando - 2022-04-08 - https://www.facebook.com/SaludDePando/posts/17139572156183733\n",
      "Content Not Found\n",
      "La Paz - 2022-05-13 - https://www.facebook.com/groups/135124740450224/posts/1044758602820162/\n",
      "https://archive.org/details/reportesdepartamentalescovid19bolivia_la_paz_20220513 : https://m.facebook.com/groups/135124740450224/permalink/1044758602820162/\n",
      "Pando - 2022-05-17 - https://www.facebook.com/SaludDePando/posts/1742742826073145\n",
      "https://archive.org/details/reportesdepartamentalescovid19bolivia_pando_20220517 : https://facebook.com/story.php?story_fbid=pfbid02DLPWQgoRcPQEDKSjFcBX1Mnp5dNvsxhRfZRiEpSpEJ6oGN967jXjXeCq4JkF4jkql&id=132468257100618\n",
      "Bolivia - 2022-05-21 - https://www.unidoscontraelcovid.gob.bo/index.php/2022/05/22/reporte-covid-21-5-2022/\n",
      "https://archive.org/details/reportesdepartamentalescovid19bolivia_bolivia_20220521 : https://www.unidoscontraelcovid.gob.bo/index.php/2022/05/22/reporte-covid-21-5-2022/\n",
      "Bolivia - 2022-05-22 - https://www.unidoscontraelcovid.gob.bo/index.php/2022/05/23/reporte-covid-22-5-2022/\n",
      "https://archive.org/details/reportesdepartamentalescovid19bolivia_bolivia_20220522 : https://www.unidoscontraelcovid.gob.bo/index.php/2022/05/23/reporte-covid-22-5-2022/\n",
      "La Paz - 2022-05-24 - https://www.facebook.com/Sedeslp/posts/pfbid02SSvohJR2cfGMMJEubWVYiQZYk4FX78qSXVjUNhYhzRZNyF9JWeV32Mkabdcvi9JMl\n",
      "https://archive.org/details/reportesdepartamentalescovid19bolivia_la_paz_20220524 : https://facebook.com/story.php?story_fbid=pfbid02SSvohJR2cfGMMJEubWVYiQZYk4FX78qSXVjUNhYhzRZNyF9JWeV32Mkabdcvi9JMl&id=1140266705994360\n",
      "Cochabamba - 2022-05-24 - https://www.facebook.com/sedescochabamba/posts/pfbid02pizZf4geA5Y7aTNqE6q7z3fpUJKMebG1UTkDg2tRN9TjiWZosseQBf5CCzwJu4TDl\n",
      "https://archive.org/details/reportesdepartamentalescovid19bolivia_cochabamba_20220524 : https://facebook.com/story.php?story_fbid=pfbid02pizZf4geA5Y7aTNqE6q7z3fpUJKMebG1UTkDg2tRN9TjiWZosseQBf5CCzwJu4TDl&id=957131637714905\n",
      "Oruro - 2022-05-24 - https://www.facebook.com/SEDESOR/posts/pfbid0YAvntdi4HqrRfwQBunMdaEhV3KsYSRwjiDHteDjjJk2gnXk7wppJaCFgp4Bn8kn8l\n",
      "https://archive.org/details/reportesdepartamentalescovid19bolivia_oruro_20220524 : https://facebook.com/story.php?story_fbid=pfbid0YAvntdi4HqrRfwQBunMdaEhV3KsYSRwjiDHteDjjJk2gnXk7wppJaCFgp4Bn8kn8l&id=100064370004661\n",
      "Potosi - 2022-05-24 - https://www.facebook.com/permalink.php?story_fbid=pfbid02RpEVdyBeqrXptbBD8LmTBumkGG9cKVACptpXNvxkUntCdDp4G4TXec7NVzmi6YjCl&id=110681273851746\n",
      "https://archive.org/details/reportesdepartamentalescovid19bolivia_potosi_20220524 : https://facebook.com/story.php?story_fbid=pfbid02RpEVdyBeqrXptbBD8LmTBumkGG9cKVACptpXNvxkUntCdDp4G4TXec7NVzmi6YjCl&id=110681273851746\n",
      "Tarija - 2022-05-24 - https://www.facebook.com/Tarija.SEDES/posts/pfbid0Wr3Vxijct47hXanwFsFeHS9RpmyNtZu75ApbxxSPNN6p3BBcS4RrNtRdqnKDB93ql\n",
      "https://archive.org/details/reportesdepartamentalescovid19bolivia_tarija_20220524 : https://facebook.com/story.php?story_fbid=pfbid0Wr3Vxijct47hXanwFsFeHS9RpmyNtZu75ApbxxSPNN6p3BBcS4RrNtRdqnKDB93ql&id=396941987601151\n",
      "Bolivia - 2022-05-24 - https://www.unidoscontraelcovid.gob.bo/index.php/2022/05/25/reporte-covid-24-5-2022/\n",
      "https://archive.org/details/reportesdepartamentalescovid19bolivia_bolivia_20220524 : https://www.unidoscontraelcovid.gob.bo/index.php/2022/05/25/reporte-covid-24-5-2022/\n",
      "Bolivia - 2022-05-25 - https://www.unidoscontraelcovid.gob.bo/index.php/2022/05/26/reporte-covid-25-5-2022/\n",
      "https://archive.org/details/reportesdepartamentalescovid19bolivia_bolivia_20220525 : https://www.unidoscontraelcovid.gob.bo/index.php/2022/05/26/reporte-covid-25-5-2022/\n",
      "La Paz - 2022-05-26 - https://www.facebook.com/Sedeslp/posts/pfbid02wbwKcB6FefRJD2Rs6H8p9P9B5wv5PSrdqZEyJgFDPqiKmVGFqkqc51MCdhi9yX2Ml\n",
      "Bolivia - 2022-05-26 - https://www.unidoscontraelcovid.gob.bo/index.php/2022/05/27/reporte-covid-26-5-2022/\n",
      "https://archive.org/details/reportesdepartamentalescovid19bolivia_bolivia_20220526 : https://www.unidoscontraelcovid.gob.bo/index.php/2022/05/27/reporte-covid-26-5-2022/\n",
      "Bolivia - 2022-05-27 - https://www.unidoscontraelcovid.gob.bo/index.php/2022/05/30/reporte-covid-27-5-2022/\n",
      "https://archive.org/details/reportesdepartamentalescovid19bolivia_bolivia_20220527 : https://www.unidoscontraelcovid.gob.bo/index.php/2022/05/30/reporte-covid-27-5-2022/\n",
      "Bolivia - 2022-05-28 - https://www.unidoscontraelcovid.gob.bo/index.php/2022/05/30/reporte-covid-28-5-2022/\n",
      "https://archive.org/details/reportesdepartamentalescovid19bolivia_bolivia_20220528 : https://www.unidoscontraelcovid.gob.bo/index.php/2022/05/30/reporte-covid-28-5-2022/\n",
      "Bolivia - 2022-05-29 - https://www.unidoscontraelcovid.gob.bo/index.php/2022/05/30/reporte-vacunados-29-5-2022-2/\n",
      "https://archive.org/details/reportesdepartamentalescovid19bolivia_bolivia_20220529 : https://www.unidoscontraelcovid.gob.bo/index.php/2022/05/30/reporte-vacunados-29-5-2022-2/\n"
     ]
    }
   ],
   "source": [
    "credenciales = load_credenciales()\n",
    "tw = auth_twitter()\n",
    "enlaces = reportes_por_archivar()\n",
    "archivar(enlaces)"
   ]
  },
  {
   "cell_type": "code",
   "execution_count": 6,
   "id": "019b534b-0fc0-4eee-b6c2-49114b0622f0",
   "metadata": {
    "execution": {
     "iopub.execute_input": "2022-05-30T16:17:27.548631Z",
     "iopub.status.busy": "2022-05-30T16:17:27.548365Z",
     "iopub.status.idle": "2022-05-30T16:17:27.561850Z",
     "shell.execute_reply": "2022-05-30T16:17:27.560697Z",
     "shell.execute_reply.started": "2022-05-30T16:17:27.548603Z"
    },
    "tags": []
   },
   "outputs": [],
   "source": [
    "def consolidar():\n",
    "    \"\"\"\n",
    "    Sincroniza sheets\n",
    "    \"\"\"\n",
    "    \n",
    "    def download_sheet(url, filename):\n",
    "        datos = requests.get(url).text\n",
    "        datos = datos.replace('\\r','')\n",
    "        with open(filename, 'w+') as f:\n",
    "            f.write(datos)\n",
    "            \n",
    "    for url, filename in zip([metadatos_url, datos_url], ['metadata.csv', 'descartados.csv']):\n",
    "        download_sheet(url, filename)\n",
    "\n",
    "def format_descartados(dep_cols):\n",
    "    \n",
    "    start = '2022-01-21'\n",
    "    descartados = pd.read_csv('descartados.csv', parse_dates=['Fecha'], index_col=['Fecha'])\n",
    "\n",
    "    # Llenar el departamento faltante (usualmente Santa Cruz)\n",
    "    for fecha, row in descartados.loc[start:].iterrows():\n",
    "        if row[dep_cols].isna().sum() == 1:\n",
    "            missing = row[\"Bolivia\"] - row[dep_cols].sum()\n",
    "            if missing > 0:\n",
    "                row.loc[row[row.isna()].index] = missing\n",
    "    \n",
    "    # Descartar datos cuando el valor de descartados diarios es menor a 0\n",
    "    for dep in dep_cols:\n",
    "        descartados[dep].loc[descartados[dep].diff() < 0] = None\n",
    "    \n",
    "    return descartados\n",
    "\n",
    "# def format_pruebas(casos, descartados, dep_cols):\n",
    "    # pruebas = (casos[dep_cols] + descartados[dep_cols].interpolate()).dropna()\n",
    "    # empty = pd.DataFrame(index=pd.date_range(pruebas.index.min(), pruebas.index.max()), columns=dep_cols)\n",
    "    # pruebas = pd.concat([pruebas, empty])\n",
    "    # pruebas = pruebas[~pruebas.index.duplicated()].sort_index()\n",
    "    # pruebas = pruebas.astype(float).interpolate().diff().dropna().astype(int)\n",
    "    # return pruebas\n",
    "\n",
    "def format_results():\n",
    "    dep_cols = ['La Paz', 'Cochabamba', 'Santa Cruz', 'Oruro', 'Potosi', 'Tarija', 'Chuquisaca', 'Beni', 'Pando']\n",
    "    descartados = format_descartados(dep_cols)\n",
    "    casos = pd.read_csv(casos_diarios_url, parse_dates=[0], index_col=0)\n",
    "    casos = casos.rename(columns={'Potosí':'Potosi'})\n",
    "    common_index = casos.index.intersection(descartados.index)\n",
    "    # pruebas = format_pruebas(casos, descartados, dep_cols)\n",
    "    pruebas = (casos.loc[common_index][dep_cols] + descartados.diff().loc[common_index][dep_cols])\n",
    "    # positividad = (casos.diff().dropna() / pruebas).dropna()\n",
    "    positividad = casos.loc[common_index][dep_cols] / pruebas.loc[common_index][dep_cols]\n",
    "    \n",
    "    # Fix days where no tests were run\n",
    "    # for col in pruebas.columns:\n",
    "    #     for i in pruebas.loc[pruebas[col] == 0].index:\n",
    "    #         positividad.loc[i, col] = 0\n",
    "    \n",
    "    return descartados, pruebas, positividad\n",
    "\n",
    "def save_results(descartados, pruebas, positividad):\n",
    "    descartados.to_csv('descartados.csv', float_format=\"%.0f\")\n",
    "    pruebas.to_csv('pruebas.csv', float_format=\"%.0f\")\n",
    "    positividad.to_csv('positividad.csv', float_format=\"%.3f\")"
   ]
  },
  {
   "cell_type": "code",
   "execution_count": 7,
   "id": "a4a89bbc-a21e-4d98-b820-f28666f83156",
   "metadata": {
    "execution": {
     "iopub.execute_input": "2022-05-30T16:17:29.795490Z",
     "iopub.status.busy": "2022-05-30T16:17:29.795190Z",
     "iopub.status.idle": "2022-05-30T16:17:32.935984Z",
     "shell.execute_reply": "2022-05-30T16:17:32.935217Z",
     "shell.execute_reply.started": "2022-05-30T16:17:29.795462Z"
    },
    "tags": []
   },
   "outputs": [],
   "source": [
    "consolidar()\n",
    "descartados, pruebas, positividad = format_results()\n",
    "save_results(descartados, pruebas, positividad)"
   ]
  },
  {
   "cell_type": "code",
   "execution_count": 8,
   "id": "4da4fcc2-b5a9-4a6f-a61b-d9ff5adc2cd6",
   "metadata": {
    "execution": {
     "iopub.execute_input": "2022-05-30T16:17:34.609726Z",
     "iopub.status.busy": "2022-05-30T16:17:34.609279Z",
     "iopub.status.idle": "2022-05-30T16:17:34.617368Z",
     "shell.execute_reply": "2022-05-30T16:17:34.616287Z",
     "shell.execute_reply.started": "2022-05-30T16:17:34.609683Z"
    },
    "tags": []
   },
   "outputs": [],
   "source": [
    "def update():\n",
    "    \"\"\"\n",
    "    Actualiza el repositorio\n",
    "    \"\"\"\n",
    "    \n",
    "    last_update = pd.read_csv('metadata.csv', parse_dates=['fecha']).fecha.max()\n",
    "    repository = Repo('.')\n",
    "    repository.git.add(all=True)\n",
    "    repository.index.commit(last_update.strftime('%Y-%m-%d'))\n",
    "    repository.remotes.origin.push()"
   ]
  },
  {
   "cell_type": "code",
   "execution_count": 11,
   "id": "f7d83587-5f47-4131-afd1-e771fbbbce11",
   "metadata": {
    "execution": {
     "iopub.execute_input": "2022-05-30T16:19:13.125609Z",
     "iopub.status.busy": "2022-05-30T16:19:13.125276Z",
     "iopub.status.idle": "2022-05-30T16:19:18.824179Z",
     "shell.execute_reply": "2022-05-30T16:19:18.823074Z",
     "shell.execute_reply.started": "2022-05-30T16:19:13.125578Z"
    },
    "tags": []
   },
   "outputs": [
    {
     "ename": "KeyboardInterrupt",
     "evalue": "",
     "output_type": "error",
     "traceback": [
      "\u001b[0;31m---------------------------------------------------------------------------\u001b[0m",
      "\u001b[0;31mKeyboardInterrupt\u001b[0m                         Traceback (most recent call last)",
      "Input \u001b[0;32mIn [11]\u001b[0m, in \u001b[0;36m<module>\u001b[0;34m\u001b[0m\n\u001b[0;32m----> 1\u001b[0m \u001b[43mupdate\u001b[49m\u001b[43m(\u001b[49m\u001b[43m)\u001b[49m\n",
      "Input \u001b[0;32mIn [8]\u001b[0m, in \u001b[0;36mupdate\u001b[0;34m()\u001b[0m\n\u001b[1;32m      8\u001b[0m repository\u001b[38;5;241m.\u001b[39mgit\u001b[38;5;241m.\u001b[39madd(\u001b[38;5;28mall\u001b[39m\u001b[38;5;241m=\u001b[39m\u001b[38;5;28;01mTrue\u001b[39;00m)\n\u001b[1;32m      9\u001b[0m repository\u001b[38;5;241m.\u001b[39mindex\u001b[38;5;241m.\u001b[39mcommit(last_update\u001b[38;5;241m.\u001b[39mstrftime(\u001b[38;5;124m'\u001b[39m\u001b[38;5;124m%\u001b[39m\u001b[38;5;124mY-\u001b[39m\u001b[38;5;124m%\u001b[39m\u001b[38;5;124mm-\u001b[39m\u001b[38;5;132;01m%d\u001b[39;00m\u001b[38;5;124m'\u001b[39m))\n\u001b[0;32m---> 10\u001b[0m \u001b[43mrepository\u001b[49m\u001b[38;5;241;43m.\u001b[39;49m\u001b[43mremotes\u001b[49m\u001b[38;5;241;43m.\u001b[39;49m\u001b[43morigin\u001b[49m\u001b[38;5;241;43m.\u001b[39;49m\u001b[43mpush\u001b[49m\u001b[43m(\u001b[49m\u001b[43m)\u001b[49m\n",
      "File \u001b[0;32m~/.virtualenvs/d/lib/python3.9/site-packages/git/remote.py:952\u001b[0m, in \u001b[0;36mRemote.push\u001b[0;34m(self, refspec, progress, kill_after_timeout, **kwargs)\u001b[0m\n\u001b[1;32m    947\u001b[0m kwargs \u001b[38;5;241m=\u001b[39m add_progress(kwargs, \u001b[38;5;28mself\u001b[39m\u001b[38;5;241m.\u001b[39mrepo\u001b[38;5;241m.\u001b[39mgit, progress)\n\u001b[1;32m    948\u001b[0m proc \u001b[38;5;241m=\u001b[39m \u001b[38;5;28mself\u001b[39m\u001b[38;5;241m.\u001b[39mrepo\u001b[38;5;241m.\u001b[39mgit\u001b[38;5;241m.\u001b[39mpush(\u001b[38;5;28mself\u001b[39m, refspec, porcelain\u001b[38;5;241m=\u001b[39m\u001b[38;5;28;01mTrue\u001b[39;00m, as_process\u001b[38;5;241m=\u001b[39m\u001b[38;5;28;01mTrue\u001b[39;00m,\n\u001b[1;32m    949\u001b[0m                           universal_newlines\u001b[38;5;241m=\u001b[39m\u001b[38;5;28;01mTrue\u001b[39;00m,\n\u001b[1;32m    950\u001b[0m                           kill_after_timeout\u001b[38;5;241m=\u001b[39mkill_after_timeout,\n\u001b[1;32m    951\u001b[0m                           \u001b[38;5;241m*\u001b[39m\u001b[38;5;241m*\u001b[39mkwargs)\n\u001b[0;32m--> 952\u001b[0m \u001b[38;5;28;01mreturn\u001b[39;00m \u001b[38;5;28;43mself\u001b[39;49m\u001b[38;5;241;43m.\u001b[39;49m\u001b[43m_get_push_info\u001b[49m\u001b[43m(\u001b[49m\u001b[43mproc\u001b[49m\u001b[43m,\u001b[49m\u001b[43m \u001b[49m\u001b[43mprogress\u001b[49m\u001b[43m,\u001b[49m\n\u001b[1;32m    953\u001b[0m \u001b[43m                           \u001b[49m\u001b[43mkill_after_timeout\u001b[49m\u001b[38;5;241;43m=\u001b[39;49m\u001b[43mkill_after_timeout\u001b[49m\u001b[43m)\u001b[49m\n",
      "File \u001b[0;32m~/.virtualenvs/d/lib/python3.9/site-packages/git/remote.py:810\u001b[0m, in \u001b[0;36mRemote._get_push_info\u001b[0;34m(self, proc, progress, kill_after_timeout)\u001b[0m\n\u001b[1;32m    806\u001b[0m     \u001b[38;5;28;01mexcept\u001b[39;00m \u001b[38;5;167;01mValueError\u001b[39;00m:\n\u001b[1;32m    807\u001b[0m         \u001b[38;5;66;03m# If an error happens, additional info is given which we parse below.\u001b[39;00m\n\u001b[1;32m    808\u001b[0m         \u001b[38;5;28;01mpass\u001b[39;00m\n\u001b[0;32m--> 810\u001b[0m \u001b[43mhandle_process_output\u001b[49m\u001b[43m(\u001b[49m\u001b[43mproc\u001b[49m\u001b[43m,\u001b[49m\u001b[43m \u001b[49m\u001b[43mstdout_handler\u001b[49m\u001b[43m,\u001b[49m\u001b[43m \u001b[49m\u001b[43mprogress_handler\u001b[49m\u001b[43m,\u001b[49m\u001b[43m \u001b[49m\u001b[43mfinalizer\u001b[49m\u001b[38;5;241;43m=\u001b[39;49m\u001b[38;5;28;43;01mNone\u001b[39;49;00m\u001b[43m,\u001b[49m\u001b[43m \u001b[49m\u001b[43mdecode_streams\u001b[49m\u001b[38;5;241;43m=\u001b[39;49m\u001b[38;5;28;43;01mFalse\u001b[39;49;00m\u001b[43m,\u001b[49m\n\u001b[1;32m    811\u001b[0m \u001b[43m                      \u001b[49m\u001b[43mkill_after_timeout\u001b[49m\u001b[38;5;241;43m=\u001b[39;49m\u001b[43mkill_after_timeout\u001b[49m\u001b[43m)\u001b[49m\n\u001b[1;32m    812\u001b[0m stderr_text \u001b[38;5;241m=\u001b[39m progress\u001b[38;5;241m.\u001b[39merror_lines \u001b[38;5;129;01mand\u001b[39;00m \u001b[38;5;124m'\u001b[39m\u001b[38;5;130;01m\\n\u001b[39;00m\u001b[38;5;124m'\u001b[39m\u001b[38;5;241m.\u001b[39mjoin(progress\u001b[38;5;241m.\u001b[39merror_lines) \u001b[38;5;129;01mor\u001b[39;00m \u001b[38;5;124m'\u001b[39m\u001b[38;5;124m'\u001b[39m\n\u001b[1;32m    813\u001b[0m \u001b[38;5;28;01mtry\u001b[39;00m:\n",
      "File \u001b[0;32m~/.virtualenvs/d/lib/python3.9/site-packages/git/cmd.py:155\u001b[0m, in \u001b[0;36mhandle_process_output\u001b[0;34m(process, stdout_handler, stderr_handler, finalizer, decode_streams, kill_after_timeout)\u001b[0m\n\u001b[1;32m    152\u001b[0m \u001b[38;5;66;03m## FIXME: Why Join??  Will block if `stdin` needs feeding...\u001b[39;00m\n\u001b[1;32m    153\u001b[0m \u001b[38;5;66;03m#\u001b[39;00m\n\u001b[1;32m    154\u001b[0m \u001b[38;5;28;01mfor\u001b[39;00m t \u001b[38;5;129;01min\u001b[39;00m threads:\n\u001b[0;32m--> 155\u001b[0m     \u001b[43mt\u001b[49m\u001b[38;5;241;43m.\u001b[39;49m\u001b[43mjoin\u001b[49m\u001b[43m(\u001b[49m\u001b[43mtimeout\u001b[49m\u001b[38;5;241;43m=\u001b[39;49m\u001b[43mkill_after_timeout\u001b[49m\u001b[43m)\u001b[49m\n\u001b[1;32m    156\u001b[0m     \u001b[38;5;28;01mif\u001b[39;00m t\u001b[38;5;241m.\u001b[39mis_alive():\n\u001b[1;32m    157\u001b[0m         \u001b[38;5;28;01mif\u001b[39;00m \u001b[38;5;28misinstance\u001b[39m(process, Git\u001b[38;5;241m.\u001b[39mAutoInterrupt):\n",
      "File \u001b[0;32m/usr/lib/python3.9/threading.py:1053\u001b[0m, in \u001b[0;36mThread.join\u001b[0;34m(self, timeout)\u001b[0m\n\u001b[1;32m   1050\u001b[0m     \u001b[38;5;28;01mraise\u001b[39;00m \u001b[38;5;167;01mRuntimeError\u001b[39;00m(\u001b[38;5;124m\"\u001b[39m\u001b[38;5;124mcannot join current thread\u001b[39m\u001b[38;5;124m\"\u001b[39m)\n\u001b[1;32m   1052\u001b[0m \u001b[38;5;28;01mif\u001b[39;00m timeout \u001b[38;5;129;01mis\u001b[39;00m \u001b[38;5;28;01mNone\u001b[39;00m:\n\u001b[0;32m-> 1053\u001b[0m     \u001b[38;5;28;43mself\u001b[39;49m\u001b[38;5;241;43m.\u001b[39;49m\u001b[43m_wait_for_tstate_lock\u001b[49m\u001b[43m(\u001b[49m\u001b[43m)\u001b[49m\n\u001b[1;32m   1054\u001b[0m \u001b[38;5;28;01melse\u001b[39;00m:\n\u001b[1;32m   1055\u001b[0m     \u001b[38;5;66;03m# the behavior of a negative timeout isn't documented, but\u001b[39;00m\n\u001b[1;32m   1056\u001b[0m     \u001b[38;5;66;03m# historically .join(timeout=x) for x<0 has acted as if timeout=0\u001b[39;00m\n\u001b[1;32m   1057\u001b[0m     \u001b[38;5;28mself\u001b[39m\u001b[38;5;241m.\u001b[39m_wait_for_tstate_lock(timeout\u001b[38;5;241m=\u001b[39m\u001b[38;5;28mmax\u001b[39m(timeout, \u001b[38;5;241m0\u001b[39m))\n",
      "File \u001b[0;32m/usr/lib/python3.9/threading.py:1073\u001b[0m, in \u001b[0;36mThread._wait_for_tstate_lock\u001b[0;34m(self, block, timeout)\u001b[0m\n\u001b[1;32m   1070\u001b[0m     \u001b[38;5;28;01mreturn\u001b[39;00m\n\u001b[1;32m   1072\u001b[0m \u001b[38;5;28;01mtry\u001b[39;00m:\n\u001b[0;32m-> 1073\u001b[0m     \u001b[38;5;28;01mif\u001b[39;00m \u001b[43mlock\u001b[49m\u001b[38;5;241;43m.\u001b[39;49m\u001b[43macquire\u001b[49m\u001b[43m(\u001b[49m\u001b[43mblock\u001b[49m\u001b[43m,\u001b[49m\u001b[43m \u001b[49m\u001b[43mtimeout\u001b[49m\u001b[43m)\u001b[49m:\n\u001b[1;32m   1074\u001b[0m         lock\u001b[38;5;241m.\u001b[39mrelease()\n\u001b[1;32m   1075\u001b[0m         \u001b[38;5;28mself\u001b[39m\u001b[38;5;241m.\u001b[39m_stop()\n",
      "\u001b[0;31mKeyboardInterrupt\u001b[0m: "
     ]
    }
   ],
   "source": [
    "update()"
   ]
  }
 ],
 "metadata": {
  "citation-manager": {
   "items": {}
  },
  "kernelspec": {
   "display_name": "Python 3 (ipykernel)",
   "language": "python",
   "name": "python3"
  },
  "language_info": {
   "codemirror_mode": {
    "name": "ipython",
    "version": 3
   },
   "file_extension": ".py",
   "mimetype": "text/x-python",
   "name": "python",
   "nbconvert_exporter": "python",
   "pygments_lexer": "ipython3",
   "version": "3.9.12"
  },
  "widgets": {
   "application/vnd.jupyter.widget-state+json": {
    "state": {},
    "version_major": 2,
    "version_minor": 0
   }
  }
 },
 "nbformat": 4,
 "nbformat_minor": 5
}
